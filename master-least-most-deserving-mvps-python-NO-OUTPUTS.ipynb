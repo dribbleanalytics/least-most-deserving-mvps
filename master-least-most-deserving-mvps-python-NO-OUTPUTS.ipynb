{
 "cells": [
  {
   "cell_type": "code",
   "execution_count": null,
   "metadata": {},
   "outputs": [],
   "source": [
    "# Import necessary packages\n",
    "\n",
    "%matplotlib inline\n",
    "\n",
    "import pandas as pd\n",
    "import numpy as np\n",
    "import matplotlib.pyplot as plt\n",
    "from sklearn.model_selection import train_test_split\n",
    "from sklearn.svm import SVR\n",
    "from sklearn.ensemble import RandomForestRegressor\n",
    "from sklearn import neighbors\n",
    "from sklearn.neural_network import MLPRegressor\n",
    "from sklearn.metrics import mean_squared_error, r2_score\n",
    "from sklearn.model_selection import KFold\n",
    "from scipy.stats import linregress\n",
    "from scipy.stats import norm\n",
    "from operator import itemgetter\n",
    "from sklearn.model_selection import cross_val_score"
   ]
  },
  {
   "cell_type": "code",
   "execution_count": null,
   "metadata": {},
   "outputs": [],
   "source": [
    "# Import the datasets\n",
    "\n",
    "dfHistorical = pd.read_csv('historical-mvps.csv')\n",
    "dfCombined = pd.read_csv('combined-mvps.csv')"
   ]
  },
  {
   "cell_type": "code",
   "execution_count": null,
   "metadata": {},
   "outputs": [],
   "source": [
    "# Preview the historical dataset\n",
    "\n",
    "dfHistorical.head()"
   ]
  },
  {
   "cell_type": "markdown",
   "metadata": {},
   "source": [
    "# Correlation between wins and MVP vote share "
   ]
  },
  {
   "cell_type": "code",
   "execution_count": null,
   "metadata": {},
   "outputs": [],
   "source": [
    "plt.style.use('fivethirtyeight')\n",
    " \n",
    "wins, ax = plt.subplots()\n",
    "\n",
    "colorList = []\n",
    "\n",
    "for index, row in dfCombined.iterrows():\n",
    "    if row['Rank'] == 1:\n",
    "        colorList.append('royalblue')\n",
    "    else:\n",
    "        colorList.append('orange')\n",
    "\n",
    "ax.scatter(dfCombined['Team Wins'], dfCombined['Share'], color = colorList, label = \"MVP winners\")\n",
    "wins.suptitle(\"Correlation between wins and MVP votes\", weight = 'bold', size = 18, y = 1.055)\n",
    "ax.set_xlabel(\"Team wins\")\n",
    "ax.set_ylabel(\"Vote share\")\n",
    " \n",
    "ax.plot(np.unique(dfCombined['Team Wins']), np.poly1d(np.polyfit(dfCombined['Team Wins'], dfCombined['Share'], 1))\n",
    "       (np.unique(dfCombined['Team Wins'])))\n",
    "\n",
    "ax.legend(loc='best', prop={'size': 12, \"family\": \"Rockwell\"})\n",
    " \n",
    "slope, intercept, r_value, p_value, std_err = linregress(dfCombined['Team Wins'], dfCombined['Share'])\n",
    "\n",
    "rsqaured = r_value ** 2\n",
    "rpString = \"r = \" + str(round(r_value, 3)) + \", p = \" + str(round(p_value, 15)) + \", r-squared = \" + str(round(rsqaured, 3))\n",
    "\n",
    "ax.set_title(\"http://dribbleanalytics.blogspot.com\\n%s\"%rpString, size = 14, fontname = 'Rockwell')\n",
    "\n",
    "wins.savefig('wins-correl.png', dpi = 400, bbox_inches = 'tight')"
   ]
  },
  {
   "cell_type": "markdown",
   "metadata": {},
   "source": [
    "# Correlation between points and MVP vote share "
   ]
  },
  {
   "cell_type": "code",
   "execution_count": null,
   "metadata": {},
   "outputs": [],
   "source": [
    "plt.style.use('fivethirtyeight')\n",
    " \n",
    "pts, ax = plt.subplots()\n",
    "\n",
    "colorList = []\n",
    "\n",
    "for index, row in dfCombined.iterrows():\n",
    "    if row['Rank'] == 1:\n",
    "        colorList.append('royalblue')\n",
    "    else:\n",
    "        colorList.append('orange')\n",
    "\n",
    "ax.scatter(dfCombined['PTS'], dfCombined['Share'], color = colorList, label = \"MVP winners\")\n",
    "pts.suptitle(\"Correlation between PTS/G and MVP votes\", weight = 'bold', size = 18, y = 1.055)\n",
    "ax.set_xlabel(\"PTS/G\")\n",
    "ax.set_ylabel(\"Vote share\")\n",
    " \n",
    "ax.plot(np.unique(dfCombined['PTS']), np.poly1d(np.polyfit(dfCombined['PTS'], dfCombined['Share'], 1))\n",
    "       (np.unique(dfCombined['PTS'])))\n",
    "\n",
    "ax.legend(loc='best', prop={'size': 12, \"family\": \"Rockwell\"})\n",
    " \n",
    "slope, intercept, r_value, p_value, std_err = linregress(dfCombined['PTS'], dfCombined['Share'])\n",
    "\n",
    "rsqaured = r_value ** 2\n",
    "rpString = \"r = \" + str(round(r_value, 3)) + \", p = \" + str(round(p_value, 15)) + \", r-squared = \" + str(round(rsqaured, 3))\n",
    "\n",
    "ax.set_title(\"http://dribbleanalytics.blogspot.com\\n%s\"%rpString, size = 14, fontname = 'Rockwell')\n",
    "\n",
    "pts.savefig('pts-correl.png', dpi = 400, bbox_inches = 'tight')"
   ]
  },
  {
   "cell_type": "markdown",
   "metadata": {},
   "source": [
    "# Correlation between VORP and MVP vote share "
   ]
  },
  {
   "cell_type": "code",
   "execution_count": null,
   "metadata": {},
   "outputs": [],
   "source": [
    "plt.style.use('fivethirtyeight')\n",
    " \n",
    "vorp, ax = plt.subplots()\n",
    "\n",
    "colorList = []\n",
    "\n",
    "for index, row in dfCombined.iterrows():\n",
    "    if row['Rank'] == 1:\n",
    "        colorList.append('royalblue')\n",
    "    else:\n",
    "        colorList.append('orange')\n",
    "\n",
    "ax.scatter(dfCombined['VORP'], dfCombined['Share'], color = colorList, label = \"MVP winners\")\n",
    "vorp.suptitle(\"Correlation between VORP and MVP votes\", weight = 'bold', size = 18, y = 1.055)\n",
    "ax.set_xlabel(\"VORP\")\n",
    "ax.set_ylabel(\"Vote share\")\n",
    " \n",
    "ax.plot(np.unique(dfCombined['VORP']), np.poly1d(np.polyfit(dfCombined['VORP'], dfCombined['Share'], 1))\n",
    "       (np.unique(dfCombined['VORP'])))\n",
    "\n",
    "ax.legend(loc='best', prop={'size': 12, \"family\": \"Rockwell\"})\n",
    " \n",
    "slope, intercept, r_value, p_value, std_err = linregress(dfCombined['VORP'], dfCombined['Share'])\n",
    "\n",
    "rsqaured = r_value ** 2\n",
    "rpString = \"r = \" + str(round(r_value, 3)) + \", p = \" + str('{:.0g}'.format(p_value)) + \", r-squared = \" + str(round(rsqaured, 3))\n",
    "\n",
    "ax.set_title(\"http://dribbleanalytics.blogspot.com\\n%s\"%rpString, size = 14, fontname = 'Rockwell')\n",
    "\n",
    "vorp.savefig('vorp-correl.png', dpi = 400, bbox_inches = 'tight')"
   ]
  },
  {
   "cell_type": "markdown",
   "metadata": {},
   "source": [
    "# Correlation between BPM and MVP vote share "
   ]
  },
  {
   "cell_type": "code",
   "execution_count": null,
   "metadata": {},
   "outputs": [],
   "source": [
    "plt.style.use('fivethirtyeight')\n",
    " \n",
    "bpm, ax = plt.subplots()\n",
    "\n",
    "colorList = []\n",
    "\n",
    "for index, row in dfCombined.iterrows():\n",
    "    if row['Rank'] == 1:\n",
    "        colorList.append('royalblue')\n",
    "    else:\n",
    "        colorList.append('orange')\n",
    "\n",
    "ax.scatter(dfCombined['BPM'], dfCombined['Share'], color = colorList, label = \"MVP winners\")\n",
    "bpm.suptitle(\"Correlation between BPM and MVP votes\", weight = 'bold', size = 18, y = 1.055)\n",
    "ax.set_xlabel(\"BPM\")\n",
    "ax.set_ylabel(\"Vote share\")\n",
    " \n",
    "ax.plot(np.unique(dfCombined['BPM']), np.poly1d(np.polyfit(dfCombined['BPM'], dfCombined['Share'], 1))\n",
    "       (np.unique(dfCombined['BPM'])))\n",
    "\n",
    "ax.legend(loc='best', prop={'size': 12, \"family\": \"Rockwell\"})\n",
    " \n",
    "slope, intercept, r_value, p_value, std_err = linregress(dfCombined['BPM'], dfCombined['Share'])\n",
    "\n",
    "rsqaured = r_value ** 2\n",
    "rpString = \"r = \" + str(round(r_value, 3)) + \", p = \" + str(round(p_value, 31)) + \", r-squared = \" + str(round(rsqaured, 3))\n",
    "\n",
    "ax.set_title(\"http://dribbleanalytics.blogspot.com\\n%s\"%rpString, size = 14, fontname = 'Rockwell')\n",
    "\n",
    "bpm.savefig('bpm-correl.png', dpi = 400, bbox_inches = 'tight')"
   ]
  },
  {
   "cell_type": "markdown",
   "metadata": {},
   "source": [
    "# Create models"
   ]
  },
  {
   "cell_type": "code",
   "execution_count": null,
   "metadata": {},
   "outputs": [],
   "source": [
    "train, test = train_test_split(dfHistorical, test_size = 0.25, random_state = 9)\n",
    "\n",
    "xtrain = train[['G', 'MP', 'Team Wins', 'Overall Seed', 'PTS', 'TRB', 'AST', 'STL', 'BLK', 'FG%', '3P%', 'FT%',  'WS', 'VORP', 'BPM']]\n",
    "ytrain = train[['Share']]\n",
    "\n",
    "xtest = test[['G', 'MP', 'Team Wins', 'Overall Seed', 'PTS', 'TRB', 'AST', 'STL', 'BLK', 'FG%', '3P%', 'FT%', 'WS', 'VORP', 'BPM']]\n",
    "ytest = test[['Share']]"
   ]
  },
  {
   "cell_type": "code",
   "execution_count": null,
   "metadata": {},
   "outputs": [],
   "source": [
    "svr = SVR(kernel='rbf', gamma=1e-4, C=10, epsilon = .001)\n",
    "svr.fit(xtrain, ytrain.values.ravel())\n",
    "\n",
    "y_svr = svr.predict(xtest)\n",
    "\n",
    "print(\"Mean squared error: %.3f\" % mean_squared_error(ytest, y_svr))\n",
    "print('R2 score: %.3f' % r2_score(ytest, y_svr))\n",
    "\n",
    "cvScoreSVR = cross_val_score(svr, xtest, ytest.values.ravel(), cv = 3, scoring = 'r2')\n",
    "print(\"Accuracy (cross validation score): %0.2f (+/- %0.2f)\" % (cvScoreSVR.mean(), cvScoreSVR.std() * 2))"
   ]
  },
  {
   "cell_type": "code",
   "execution_count": null,
   "metadata": {},
   "outputs": [],
   "source": [
    "rf = RandomForestRegressor(random_state = 999, n_estimators = 100, criterion = 'mse')\n",
    "rfPred = rf.fit(xtrain, ytrain.values.ravel())\n",
    "y_rf = rfPred.predict(xtest)\n",
    "\n",
    "print(\"Mean squared error: %.3f\" % mean_squared_error(ytest, y_rf))\n",
    "print('R2 score: %.3f' % r2_score(ytest, y_rf))\n",
    "\n",
    "cvScoreRF = cross_val_score(rf, xtest, ytest.values.ravel(), cv = 3, scoring = 'r2')\n",
    "print(\"Accuracy (cross validation score): %0.2f (+/- %0.2f)\" % (cvScoreRF.mean(), cvScoreRF.std() * 2))"
   ]
  },
  {
   "cell_type": "code",
   "execution_count": null,
   "metadata": {},
   "outputs": [],
   "source": [
    "knn = neighbors.KNeighborsRegressor(n_neighbors = 6, weights = 'uniform')\n",
    "knn.fit(xtrain, ytrain)\n",
    "\n",
    "y_knn = knn.predict(xtest)\n",
    "\n",
    "print(\"Mean squared error: %.3f\" % mean_squared_error(ytest, y_knn))\n",
    "print('R2 score: %.3f' % r2_score(ytest, y_knn))\n",
    "\n",
    "cvScoreKNN = cross_val_score(knn, xtest, ytest, cv = 3, scoring = 'r2')\n",
    "print(\"Accuracy (cross validation score): %0.2f (+/- %0.2f)\" % (cvScoreKNN.mean(), cvScoreKNN.std() * 2))"
   ]
  },
  {
   "cell_type": "code",
   "execution_count": null,
   "metadata": {},
   "outputs": [],
   "source": [
    "dnn = MLPRegressor(\n",
    "    solver='lbfgs',\n",
    "    hidden_layer_sizes=100,\n",
    "    max_iter=10000,\n",
    "    shuffle=False,\n",
    "    random_state=987654321,\n",
    "    activation='identity',\n",
    "    learning_rate = 'invscaling')\n",
    "\n",
    "dnn.fit(xtrain, ytrain.values.ravel())\n",
    "\n",
    "y_dnn = dnn.predict(xtest)\n",
    "\n",
    "print(\"Mean squared error: %.3f\" % mean_squared_error(ytest, y_dnn))\n",
    "print('R2 score: %.3f' % r2_score(ytest, y_dnn))\n",
    "\n",
    "cvScoreDNN = cross_val_score(dnn, xtest, ytest, cv = 3, scoring = 'r2')\n",
    "print(\"Accuracy (cross validation score): %0.2f (+/- %0.2f)\" % (cvScoreDNN.mean(), cvScoreDNN.std() * 2))"
   ]
  },
  {
   "cell_type": "markdown",
   "metadata": {},
   "source": [
    "# Standardized residuals test"
   ]
  },
  {
   "cell_type": "code",
   "execution_count": null,
   "metadata": {},
   "outputs": [],
   "source": [
    "svrResid = ytest['Share'] - y_svr\n",
    "\n",
    "svrList = []\n",
    "for i in svrResid.values:\n",
    "    svrList.append(i)\n",
    "    \n",
    "ssr = []\n",
    "for i in svrList:\n",
    "    ssr.append(i ** 2)\n",
    "    \n",
    "ssrSum = 0\n",
    "for i in ssr:\n",
    "    ssrSum += i\n",
    "\n",
    "svrResidList = []\n",
    "for i in svrList:\n",
    "    svrResidList.append(i / ((ssrSum / 68) ** (1/2)))\n",
    "    \n",
    "rfResid = ytest['Share'] - y_rf\n",
    "\n",
    "rfList = []\n",
    "for i in rfResid.values:\n",
    "    rfList.append(i)\n",
    "    \n",
    "ssr = []\n",
    "for i in rfList:\n",
    "    ssr.append(i ** 2)\n",
    "    \n",
    "ssrSum = 0\n",
    "for i in ssr:\n",
    "    ssrSum += i\n",
    "\n",
    "rfResidList = []\n",
    "for i in rfList:\n",
    "    rfResidList.append(i / ((ssrSum / 68) ** (1/2)))\n",
    "    \n",
    "knnResid = ytest.subtract(y_knn)\n",
    "\n",
    "knnList = []\n",
    "for i in knnResid.values:\n",
    "    knnList.append(i)\n",
    "\n",
    "ssr = []\n",
    "for i in knnList:\n",
    "    ssr.append(i ** 2)\n",
    "\n",
    "ssrSum = 0\n",
    "for i in ssr:\n",
    "    ssrSum += i\n",
    "\n",
    "knnResidList = []\n",
    "for i in knnList:\n",
    "    knnResidList.append(i / ((ssrSum / 68) ** (1/2))) \n",
    "    \n",
    "dnnResid = ytest['Share'] - y_dnn\n",
    "\n",
    "dnnList = []\n",
    "for i in dnnResid.values:\n",
    "    dnnList.append(i)\n",
    "    \n",
    "ssr = []\n",
    "for i in dnnList:\n",
    "    ssr.append(i ** 2)\n",
    "    \n",
    "ssrSum = 0\n",
    "for i in ssr:\n",
    "    ssrSum += i\n",
    "\n",
    "dnnResidList = []\n",
    "for i in dnnList:\n",
    "    dnnResidList.append(i / ((ssrSum / 68) ** (1/2)))"
   ]
  },
  {
   "cell_type": "code",
   "execution_count": null,
   "metadata": {},
   "outputs": [],
   "source": [
    "npList = np.array(svrResidList)\n",
    "stdSVR = np.std(npList)\n",
    "meanSVR = np.mean(npList)\n",
    "\n",
    "outliers = 0\n",
    "for i in svrResidList:\n",
    "    if i < meanSVR - 2 * stdSVR:\n",
    "        outliers += 1\n",
    "    elif i > meanSVR + 2 * stdSVR:\n",
    "        outliers += 1\n",
    "        \n",
    "outlierPerc = outliers / 70\n",
    "distPerc = 1 - outlierPerc\n",
    "distStringSVR = \"{:.3%}\".format(distPerc)\n",
    "\n",
    "npList = np.array(rfResidList)\n",
    "stdRF = np.std(npList)\n",
    "meanRF = np.mean(npList)\n",
    "\n",
    "outliers = 0\n",
    "for i in rfResidList:\n",
    "    if i < meanRF - 2 * stdRF:\n",
    "        outliers += 1\n",
    "    elif i > meanRF + 2 * stdRF:\n",
    "        outliers += 1\n",
    "        \n",
    "outlierPerc = outliers / 70\n",
    "distPerc = 1 - outlierPerc\n",
    "distStringRF = \"{:.3%}\".format(distPerc)\n",
    "\n",
    "npList = np.array(knnResidList)\n",
    "stdKNN = np.std(npList)\n",
    "meanKNN = np.mean(npList)\n",
    "\n",
    "outliers = 0\n",
    "for i in knnResidList:\n",
    "    if i < meanKNN - 2 * stdKNN:\n",
    "        outliers += 1\n",
    "    elif i > meanKNN + 2 * stdKNN:\n",
    "        outliers += 1\n",
    "        \n",
    "outlierPerc = outliers / 70\n",
    "distPerc = 1 - outlierPerc\n",
    "distStringKNN = \"{:.3%}\".format(distPerc)\n",
    "\n",
    "npList = np.array(dnnResidList)\n",
    "stdDNN = np.std(npList)\n",
    "meanDNN = np.mean(npList)\n",
    "\n",
    "outliers = 0\n",
    "for i in dnnResidList:\n",
    "    if i < meanDNN - 2 * stdDNN:\n",
    "        outliers += 1\n",
    "    elif i > meanDNN + 2 * stdDNN:\n",
    "        outliers += 1\n",
    "        \n",
    "outlierPerc = outliers / 70\n",
    "distPerc = 1 - outlierPerc\n",
    "distStringDNN = \"{:.3%}\".format(distPerc)"
   ]
  },
  {
   "cell_type": "code",
   "execution_count": null,
   "metadata": {},
   "outputs": [],
   "source": [
    "plt.style.use('fivethirtyeight')\n",
    "\n",
    "residFig, ((ax1, ax2), (ax3, ax4)) = plt.subplots(2, 2, sharey = 'row')\n",
    "\n",
    "x = np.arange(70)\n",
    "ax1.xaxis.set_visible(False)\n",
    "ax2.xaxis.set_visible(False)\n",
    "ax3.xaxis.set_visible(False)\n",
    "ax4.xaxis.set_visible(False)\n",
    "\n",
    "ax1.scatter(x, svrResidList)\n",
    "ax1.axhline(y = meanSVR, label = \"Average\")\n",
    "ax1.axhline(y = meanSVR - 2 * stdSVR, color = 'orange')\n",
    "ax1.axhline(y = meanSVR + 2 * stdSVR, label = \"2 stdev from mean\", color = 'orange')\n",
    "ax1.set_title(\"SVM: %s\" % distStringSVR, size = 22, x = .485, ha = 'center')\n",
    "\n",
    "ax2.scatter(x, rfResidList)\n",
    "ax2.axhline(y = meanRF)\n",
    "ax2.axhline(y = meanRF - 2 * stdRF, color = 'orange')\n",
    "ax2.axhline(y = meanRF + 2 * stdRF, color = 'orange')\n",
    "ax2.set_title(\"RF: %s\" % distStringRF, size = 22, x = .485, ha = 'center')\n",
    "\n",
    "ax3.scatter(x, knnResidList)\n",
    "ax3.axhline(y = meanKNN)\n",
    "ax3.axhline(y = meanKNN - 2 * stdKNN, color = 'orange')\n",
    "ax3.axhline(y = meanKNN + 2 * stdKNN, color = 'orange')\n",
    "ax3.set_title(\"KNN: %s\" % distStringKNN, size = 22, x = .485, ha = 'center')\n",
    "\n",
    "ax4.scatter(x, dnnResidList)\n",
    "ax4.axhline(y = meanDNN)\n",
    "ax4.axhline(y = meanDNN - 2 * stdDNN, color = 'orange')\n",
    "ax4.axhline(y = meanDNN + 2 * stdDNN, color = 'orange')\n",
    "ax4.set_title(\"DNN: %s\" % distStringDNN, size = 22, x = .485, ha = 'center')\n",
    "\n",
    "residFig.legend(loc = (.25, .85), ncol=2, prop={'size': 12, \"family\": \"Rockwell\"})\n",
    "residFig.text(-0.02, 0.5, \"Standardized Residuals\", va='center', rotation='vertical', size = 18)\n",
    "\n",
    "residFig.suptitle(\"http://dribbleanalytics.blogspot.com\", y = 1.12, fontname = 'Rockwell', size = 14)\n",
    "\n",
    "residFig.savefig('resid-fig.png', dpi = 400, bbox_inches = 'tight')"
   ]
  },
  {
   "cell_type": "markdown",
   "metadata": {},
   "source": [
    "# Q-Q plot"
   ]
  },
  {
   "cell_type": "code",
   "execution_count": null,
   "metadata": {},
   "outputs": [],
   "source": [
    "newKnnList = []\n",
    "\n",
    "for i in knnResidList:\n",
    "    newKnnList.append(i[0])"
   ]
  },
  {
   "cell_type": "code",
   "execution_count": null,
   "metadata": {},
   "outputs": [],
   "source": [
    "plt.rcParams.update(plt.rcParamsDefault)\n",
    "plt.style.use('fivethirtyeight')\n",
    "\n",
    "import scipy.stats as stats\n",
    "\n",
    "qqplot = plt.figure()\n",
    "\n",
    "ax1 = qqplot.add_subplot(221)\n",
    "stats.probplot(svrResidList, dist=\"norm\", plot=plt)\n",
    "ax1.set_xlabel(\"\")\n",
    "ax1.set_xticklabels([])\n",
    "ax1.set_ylabel(\"\")\n",
    "ax1.set_title(\"SVM\")\n",
    "\n",
    "ax2 = qqplot.add_subplot(222)\n",
    "stats.probplot(rfResidList, dist=\"norm\", plot=plt)\n",
    "ax2.set_xlabel(\"\")\n",
    "ax2.set_xticklabels([])\n",
    "ax2.set_ylabel(\"\")\n",
    "ax2.set_title(\"RF\")\n",
    "ax2.set_xticklabels([])\n",
    "ax2.set_yticklabels([])\n",
    "\n",
    "ax3 = qqplot.add_subplot(223)\n",
    "stats.probplot(newKnnList, dist=\"norm\", plot=plt)\n",
    "ax3.set_xlabel(\"\")\n",
    "ax3.set_ylabel(\"\")\n",
    "ax3.set_title(\"KNN\")\n",
    "\n",
    "ylim = ax3.get_ylim()\n",
    "\n",
    "ax4 = qqplot.add_subplot(224)\n",
    "stats.probplot(dnnResidList, dist = \"norm\", plot = plt)\n",
    "ax4.set_xlabel(\"\")\n",
    "ax4.set_ylabel(\"\")\n",
    "ax4.set_title(\"DNN\")\n",
    "ax4.set_yticklabels([])\n",
    "\n",
    "qqplot.text(0.5, -0.02, 'Theoretical Quantiles', ha='center', va='center', size = 18)\n",
    "qqplot.text(0.01, 0.5, 'Ordered Values', ha='center', va='center', rotation='vertical', size = 18)\n",
    "\n",
    "qqplot.suptitle(\"http://dribbleanalytics.blogspot.com\", y = 1.02, fontname = 'Rockwell', size = 14)\n",
    "\n",
    "qqplot.savefig('qqplot.png', dpi = 400, bbox_inches = 'tight')"
   ]
  },
  {
   "cell_type": "markdown",
   "metadata": {},
   "source": [
    "# Shapiro-Wilk test"
   ]
  },
  {
   "cell_type": "code",
   "execution_count": null,
   "metadata": {},
   "outputs": [],
   "source": [
    "from scipy.stats import shapiro\n",
    "\n",
    "print(shapiro(svrResidList))\n",
    "print(shapiro(rfResidList))\n",
    "print(shapiro(knnResidList))\n",
    "print(shapiro(dnnResidList))"
   ]
  },
  {
   "cell_type": "markdown",
   "metadata": {},
   "source": [
    "# Durbin-Watson test "
   ]
  },
  {
   "cell_type": "code",
   "execution_count": null,
   "metadata": {},
   "outputs": [],
   "source": [
    "from statsmodels.stats import stattools as stools\n",
    "\n",
    "print(stools.durbin_watson(svrResidList))\n",
    "print(stools.durbin_watson(rfResidList))\n",
    "print(stools.durbin_watson(knnResidList))\n",
    "print(stools.durbin_watson(dnnResidList))"
   ]
  },
  {
   "cell_type": "markdown",
   "metadata": {},
   "source": [
    "# Learning curve for MSE"
   ]
  },
  {
   "cell_type": "code",
   "execution_count": null,
   "metadata": {},
   "outputs": [],
   "source": [
    "from sklearn.model_selection import learning_curve\n",
    "\n",
    "train_sizes = [1, 20, 40, 60, 80, 100, 120, 140, 160, 180, 184]\n",
    "\n",
    "\n",
    "features = ['G', 'MP', 'Team Wins', 'Overall Seed', 'PTS', 'TRB', 'AST', 'STL', 'BLK', 'FG%', '3P%', 'FT%',  'WS', 'VORP', 'BPM']\n",
    "target = 'Share'\n",
    "\n",
    "train_sizesSVR, train_scoresSVR, validation_scoresSVR = learning_curve(estimator = SVR(\n",
    "    kernel='rbf', gamma=1e-4, C=10, epsilon = .001),\n",
    "    X = dfHistorical[features], y = dfHistorical[target], train_sizes = train_sizes, cv = 3,\n",
    "    scoring = 'neg_mean_squared_error')"
   ]
  },
  {
   "cell_type": "code",
   "execution_count": null,
   "metadata": {},
   "outputs": [],
   "source": [
    "train_sizesRF, train_scoresRF, validation_scoresRF = learning_curve(estimator = RandomForestRegressor(\n",
    "    random_state = 999, n_estimators = 100, criterion = 'mse'),\n",
    "    X = dfHistorical[features], y = dfHistorical[target], train_sizes = train_sizes, cv = 3,\n",
    "    scoring = 'neg_mean_squared_error')"
   ]
  },
  {
   "cell_type": "code",
   "execution_count": null,
   "metadata": {},
   "outputs": [],
   "source": [
    "train_sizes1 = [6, 20, 40, 60, 80, 100, 120, 140, 160, 180, 184]\n",
    "\n",
    "train_sizesKNN, train_scoresKNN, validation_scoresKNN = learning_curve(estimator = neighbors.KNeighborsRegressor(\n",
    "    n_neighbors = 6, weights = 'uniform'),\n",
    "    X = dfHistorical[features], y = dfHistorical[target], train_sizes = train_sizes1, cv = 3,\n",
    "    scoring = 'neg_mean_squared_error')"
   ]
  },
  {
   "cell_type": "code",
   "execution_count": null,
   "metadata": {},
   "outputs": [],
   "source": [
    "train_sizesDNN, train_scoresDNN, validation_scoresDNN = learning_curve(estimator = MLPRegressor(\n",
    "    solver='lbfgs',\n",
    "    hidden_layer_sizes=100,\n",
    "    max_iter=10000,\n",
    "    shuffle=False,\n",
    "    random_state=987654321,\n",
    "    activation='identity',\n",
    "    learning_rate = 'invscaling'),\n",
    "    X = dfHistorical[features], y = dfHistorical[target], train_sizes = train_sizes, cv = 3,\n",
    "    scoring = 'neg_mean_squared_error')"
   ]
  },
  {
   "cell_type": "code",
   "execution_count": null,
   "metadata": {},
   "outputs": [],
   "source": [
    "train_scores_meanSVR = -train_scoresSVR.mean(axis = 1)\n",
    "validation_scores_meanSVR = -validation_scoresSVR.mean(axis = 1)\n",
    "\n",
    "train_scores_meanRF = -train_scoresRF.mean(axis = 1)\n",
    "validation_scores_meanRF = -validation_scoresRF.mean(axis = 1)\n",
    "\n",
    "train_scores_meanKNN = -train_scoresKNN.mean(axis = 1)\n",
    "validation_scores_meanKNN = -validation_scoresKNN.mean(axis = 1)\n",
    "\n",
    "train_scores_meanDNN = -train_scoresDNN.mean(axis = 1)\n",
    "validation_scores_meanDNN = -validation_scoresDNN.mean(axis = 1)"
   ]
  },
  {
   "cell_type": "code",
   "execution_count": null,
   "metadata": {},
   "outputs": [],
   "source": [
    "plt.style.use('fivethirtyeight')\n",
    "\n",
    "learningCurveMSE, ((ax1, ax2), (ax3, ax4)) = plt.subplots(2, 2, sharex='col')\n",
    "\n",
    "ax1.plot(train_sizesSVR, train_scores_meanSVR, label = 'Training set error')\n",
    "ax1.plot(train_sizesSVR, validation_scores_meanSVR, label = 'Testing set error')\n",
    "ax1.set_title(\"SVM\")\n",
    "\n",
    "ax2.plot(train_sizesRF, train_scores_meanRF)\n",
    "ax2.plot(train_sizesRF, validation_scores_meanRF)\n",
    "ax2.set_title(\"RF\")\n",
    "\n",
    "ax3.plot(train_sizesKNN, train_scores_meanKNN)\n",
    "ax3.plot(train_sizesKNN, validation_scores_meanKNN)\n",
    "ax3.set_title(\"KNN\")\n",
    "\n",
    "ax4.plot(train_sizesDNN, train_scores_meanDNN)\n",
    "ax4.plot(train_sizesDNN, validation_scores_meanDNN)\n",
    "ax4.set_title(\"DNN\")\n",
    "\n",
    "learningCurveMSE.legend(loc = (.25, .88), ncol=2, prop={'size': 12, \"family\": \"Rockwell\"})\n",
    "learningCurveMSE.text(0.5, -0.02, 'Training Set Size', ha='center', va='center', size = 18)\n",
    "learningCurveMSE.text(-0.05, 0.5, 'MSE', ha='center', va='center', rotation='vertical', size = 18)\n",
    "\n",
    "learningCurveMSE.suptitle(\"http://dribbleanalytics.blogspot.com\", y = 1.08, fontname = 'Rockwell', size = 14)\n",
    "\n",
    "learningCurveMSE.savefig('learningCurveMSE.png', dpi = 400, bbox_inches = 'tight')"
   ]
  },
  {
   "cell_type": "markdown",
   "metadata": {},
   "source": [
    "# Learning curve for R2"
   ]
  },
  {
   "cell_type": "code",
   "execution_count": null,
   "metadata": {},
   "outputs": [],
   "source": [
    "from sklearn.model_selection import learning_curve\n",
    "\n",
    "train_sizes = [1, 20, 40, 60, 80, 100, 120, 140, 160, 180, 184]\n",
    "\n",
    "features = ['G', 'MP', 'Team Wins', 'Overall Seed', 'PTS', 'TRB', 'AST', 'STL', 'BLK', 'FG%', '3P%', 'FT%',  'WS', 'VORP', 'BPM']\n",
    "target = 'Share'\n",
    "\n",
    "train_sizesSVR, train_scoresSVR, validation_scoresSVR = learning_curve(estimator = SVR(\n",
    "    kernel='rbf', gamma=1e-4, C=10, epsilon = .001),\n",
    "    X = dfHistorical[features], y = dfHistorical[target], train_sizes = train_sizes, cv = 3,\n",
    "    scoring = 'r2')"
   ]
  },
  {
   "cell_type": "code",
   "execution_count": null,
   "metadata": {},
   "outputs": [],
   "source": [
    "train_sizesRF, train_scoresRF, validation_scoresRF = learning_curve(estimator = RandomForestRegressor(\n",
    "    random_state = 999, n_estimators = 100, criterion = 'mse'),\n",
    "    X = dfHistorical[features], y = dfHistorical[target], train_sizes = train_sizes, cv = 3,\n",
    "    scoring = 'r2')"
   ]
  },
  {
   "cell_type": "code",
   "execution_count": null,
   "metadata": {},
   "outputs": [],
   "source": [
    "train_sizes1 = [6, 20, 40, 60, 80, 100, 120, 140, 160, 180, 184]\n",
    "\n",
    "train_sizesKNN, train_scoresKNN, validation_scoresKNN = learning_curve(estimator = neighbors.KNeighborsRegressor(\n",
    "    n_neighbors = 6, weights = 'uniform'),\n",
    "    X = dfHistorical[features], y = dfHistorical[target], train_sizes = train_sizes1, cv = 3,\n",
    "    scoring = 'r2')"
   ]
  },
  {
   "cell_type": "code",
   "execution_count": null,
   "metadata": {},
   "outputs": [],
   "source": [
    "train_sizesDNN, train_scoresDNN, validation_scoresDNN = learning_curve(estimator = MLPRegressor(\n",
    "    solver='lbfgs',\n",
    "    hidden_layer_sizes=100,\n",
    "    max_iter=10000,\n",
    "    shuffle=False,\n",
    "    random_state=987654321,\n",
    "    activation='identity',\n",
    "    learning_rate = 'invscaling'),\n",
    "    X = dfHistorical[features], y = dfHistorical[target], train_sizes = train_sizes, cv = 3,\n",
    "    scoring = 'r2')"
   ]
  },
  {
   "cell_type": "code",
   "execution_count": null,
   "metadata": {},
   "outputs": [],
   "source": [
    "train_scores_meanSVR = train_scoresSVR.mean(axis = 1)\n",
    "validation_scores_meanSVR = validation_scoresSVR.mean(axis = 1)\n",
    "\n",
    "train_scores_meanRF = train_scoresRF.mean(axis = 1)\n",
    "validation_scores_meanRF = validation_scoresRF.mean(axis = 1)\n",
    "\n",
    "train_scores_meanKNN = train_scoresKNN.mean(axis = 1)\n",
    "validation_scores_meanKNN = validation_scoresKNN.mean(axis = 1)\n",
    "\n",
    "train_scores_meanDNN = train_scoresDNN.mean(axis = 1)\n",
    "validation_scores_meanDNN = validation_scoresDNN.mean(axis = 1)"
   ]
  },
  {
   "cell_type": "code",
   "execution_count": null,
   "metadata": {},
   "outputs": [],
   "source": [
    "plt.style.use('fivethirtyeight')\n",
    "\n",
    "learningCurveR2, ((ax1, ax2), (ax3, ax4)) = plt.subplots(2, 2, sharex='col')\n",
    "\n",
    "ax1.plot(train_sizesSVR, train_scores_meanSVR, label = 'Training set error')\n",
    "ax1.plot(train_sizesSVR, validation_scores_meanSVR, label = 'Testing set error')\n",
    "ax1.set_title(\"SVM\")\n",
    "\n",
    "ax2.plot(train_sizesRF, train_scores_meanRF)\n",
    "ax2.plot(train_sizesRF, validation_scores_meanRF)\n",
    "ax2.set_title(\"RF\")\n",
    "\n",
    "ax3.plot(train_sizesKNN, train_scores_meanKNN)\n",
    "ax3.plot(train_sizesKNN, validation_scores_meanKNN)\n",
    "ax3.set_title(\"KNN\")\n",
    "\n",
    "ax4.plot(train_sizesDNN, train_scores_meanDNN)\n",
    "ax4.plot(train_sizesDNN, validation_scores_meanDNN)\n",
    "ax4.set_title(\"DNN\")\n",
    "\n",
    "learningCurveR2.legend(loc = (.25, .88), ncol=2, prop={'size': 12, \"family\": \"Rockwell\"})\n",
    "learningCurveR2.text(0.5, -0.02, 'Training Set Size', ha='center', va='center', size = 18)\n",
    "learningCurveR2.text(-0.01, 0.5, 'r-squared', ha='center', va='center', rotation='vertical', size = 18)\n",
    "\n",
    "learningCurveR2.suptitle(\"http://dribbleanalytics.blogspot.com\", y = 1.08, fontname = 'Rockwell', size = 14)\n",
    "\n",
    "learningCurveR2.savefig('learningCurveR2.png', dpi = 400, bbox_inches = 'tight')"
   ]
  },
  {
   "cell_type": "markdown",
   "metadata": {},
   "source": [
    "# Prediction: 2008"
   ]
  },
  {
   "cell_type": "code",
   "execution_count": null,
   "metadata": {},
   "outputs": [],
   "source": [
    "df08 = pd.read_csv('08-mvp.csv')\n",
    "df08Names = df08.iloc[:, 1]\n",
    "df08Predict = df08[['G', 'MP', 'Team Wins', 'Overall Seed', 'PTS', 'TRB', 'AST', 'STL', 'BLK', 'FG%', '3P%', 'FT%',  'WS', 'VORP', 'BPM']]\n",
    "\n",
    "df08.head()"
   ]
  },
  {
   "cell_type": "markdown",
   "metadata": {},
   "source": [
    "## SVR "
   ]
  },
  {
   "cell_type": "code",
   "execution_count": null,
   "metadata": {},
   "outputs": [],
   "source": [
    "svrPredict08 = svr.predict(df08Predict)\n",
    "svrPredict08 = svrPredict08.tolist()\n",
    "\n",
    "for (i, j) in zip(df08Names, svrPredict08):\n",
    "    print(i, j)"
   ]
  },
  {
   "cell_type": "code",
   "execution_count": null,
   "metadata": {},
   "outputs": [],
   "source": [
    "svrList = [[i, j] for i, j in zip(df08Names, svrPredict08)]\n",
    "\n",
    "svrListData = [row[1] for row in svrList]\n",
    "svrListNames = [row[0] for row in svrList]\n",
    "print(svrList)\n",
    "\n",
    "x_svr = np.arange(len(svrListData))"
   ]
  },
  {
   "cell_type": "code",
   "execution_count": null,
   "metadata": {},
   "outputs": [],
   "source": [
    "plt.style.use('fivethirtyeight')\n",
    "\n",
    "svr08, ax = plt.subplots()\n",
    "\n",
    "ax.bar(x_svr, df08.iloc[:, 6], width = .4, edgecolor = 'white', linewidth = 1, color = 'skyblue', label = 'Actual')\n",
    "ax.bar(x_svr + 0.4, svrListData, width = .4, edgecolor = 'white', linewidth = 1, color = 'C1', label = 'Predicted')\n",
    "\n",
    "labels = svrListNames\n",
    "\n",
    "rects = ax.patches\n",
    "for rect, label in zip(rects, labels):\n",
    "    if rect.get_x() > 3:\n",
    "        ax.text(rect.get_x() + rect.get_width() / 1.75, rect.get_height() + .02, label,\n",
    "        ha='center', va='bottom', rotation = 'vertical', color = 'black')\n",
    "    elif rect.get_x() <= 3:\n",
    "        height = .06\n",
    "        ax.text(rect.get_x() + rect.get_width() / 1.75, height, label,\n",
    "        ha='center', va='bottom', rotation = 'vertical', color = 'black')\n",
    "    \n",
    "svr08.suptitle(\"SVM predicted MVP share: 2008\", weight = 'bold', size = 18, y = 1.005)\n",
    "ax.set_title(\"http://dribbleanalytics.blogspot.com.\", size = 14, fontname = 'Rockwell')\n",
    "ax.xaxis.set_visible(False)\n",
    "ax.set_ylabel(\"Vote Share\")\n",
    "ax.legend(loc='best', prop={'size': 9, \"family\": \"Rockwell\"}, ncol = 2)\n",
    "an1 = ax.annotate(\"Predicted MVP: Chris Paul\\nActual MVP: Kobe Bryant\", xy = (1.4, 0.47), xycoords = 'data', xytext = (2.5, .72),\n",
    "            fontname = 'Rockwell', bbox=dict(boxstyle=\"round\", fc = 'white'), arrowprops=dict(facecolor = 'C4')\n",
    "           )\n",
    "\n",
    "svr08.savefig('svr-08.png', dpi = 400, bbox_inches = 'tight')"
   ]
  },
  {
   "cell_type": "markdown",
   "metadata": {},
   "source": [
    "## RF"
   ]
  },
  {
   "cell_type": "code",
   "execution_count": null,
   "metadata": {},
   "outputs": [],
   "source": [
    "rfPredict08 = rf.predict(df08Predict)\n",
    "rfPredict08 = rfPredict08.tolist()\n",
    "\n",
    "for (i, j) in zip(df08Names, rfPredict08):\n",
    "    print(i, j)"
   ]
  },
  {
   "cell_type": "code",
   "execution_count": null,
   "metadata": {},
   "outputs": [],
   "source": [
    "rfList = [[i, j] for i, j in zip(df08Names, rfPredict08)]\n",
    "\n",
    "rfListData = [row[1] for row in rfList]\n",
    "rfListNames = [row[0] for row in rfList]\n",
    "print(rfList)\n",
    "\n",
    "x_rf = np.arange(len(rfListData))"
   ]
  },
  {
   "cell_type": "code",
   "execution_count": null,
   "metadata": {},
   "outputs": [],
   "source": [
    "plt.style.use('fivethirtyeight')\n",
    "\n",
    "rf08, ax = plt.subplots()\n",
    "\n",
    "ax.bar(x_rf, df08.iloc[:, 6], width = .4, edgecolor = 'white', linewidth = 1, color = 'skyblue', label = 'Actual')\n",
    "ax.bar(x_rf + 0.4, rfListData, width = .4, edgecolor = 'white', linewidth = 1, color = 'C1', label = 'Predicted')\n",
    "\n",
    "labels = rfListNames\n",
    "\n",
    "rects = ax.patches\n",
    "for rect, label in zip(rects, labels):\n",
    "    if rect.get_x() > 3:\n",
    "        ax.text(rect.get_x() + rect.get_width() / 1.75, rect.get_height() + .02, label,\n",
    "        ha='center', va='bottom', rotation = 'vertical', color = 'black')\n",
    "    elif rect.get_x() <= 3:\n",
    "        height = .06\n",
    "        ax.text(rect.get_x() + rect.get_width() / 1.75, height, label,\n",
    "        ha='center', va='bottom', rotation = 'vertical', color = 'black')\n",
    "        \n",
    "rf08.suptitle(\"RF predicted MVP share: 2008\", weight = 'bold', size = 18, y = 1.005)\n",
    "ax.set_title(\"http://dribbleanalytics.blogspot.com.\", size = 14, fontname = 'Rockwell')\n",
    "ax.xaxis.set_visible(False)\n",
    "ax.set_ylabel(\"Vote Share\")\n",
    "ax.legend(loc='best', prop={'size': 9, \"family\": \"Rockwell\"}, ncol = 2)\n",
    "an1 = ax.annotate(\"Predicted MVP: Chris Paul\\nActual MVP: Kobe Bryant\", xy = (1.4, 0.53), xycoords = 'data', xytext = (2.5, .72),\n",
    "            fontname = 'Rockwell', bbox=dict(boxstyle=\"round\", fc = 'white'), arrowprops=dict(facecolor = 'C4')\n",
    "           )\n",
    "\n",
    "rf08.savefig('rf-08.png', dpi = 400, bbox_inches = 'tight')"
   ]
  },
  {
   "cell_type": "markdown",
   "metadata": {},
   "source": [
    "## k-NN"
   ]
  },
  {
   "cell_type": "code",
   "execution_count": null,
   "metadata": {},
   "outputs": [],
   "source": [
    "knnPredict08 = knn.predict(df08Predict)\n",
    "knnPredict08 = knnPredict08.tolist()\n",
    "knnPredict08 = [row[0] for row in knnPredict08]\n",
    "for (i, j) in zip(df08Names, knnPredict08):\n",
    "    print(i, j)"
   ]
  },
  {
   "cell_type": "code",
   "execution_count": null,
   "metadata": {},
   "outputs": [],
   "source": [
    "knnList = [[i, j] for i, j in zip(df08Names, knnPredict08)]\n",
    "\n",
    "knnListData = [row[1] for row in knnList]\n",
    "knnListNames = [row[0] for row in knnList]\n",
    "print(knnList)\n",
    "\n",
    "x_knn = np.arange(len(knnListData))"
   ]
  },
  {
   "cell_type": "code",
   "execution_count": null,
   "metadata": {},
   "outputs": [],
   "source": [
    "plt.style.use('fivethirtyeight')\n",
    "\n",
    "knn08, ax = plt.subplots()\n",
    "\n",
    "ax.bar(x_knn, df08.iloc[:, 6], width = .4, edgecolor = 'white', linewidth = 1, color = 'skyblue', label = 'Actual')\n",
    "ax.bar(x_knn + 0.4, knnListData, width = .4, edgecolor = 'white', linewidth = 1, color = 'C1', label = 'Predicted')\n",
    "\n",
    "labels = knnListNames\n",
    "\n",
    "rects = ax.patches\n",
    "for rect, label in zip(rects, labels):\n",
    "    if rect.get_x() > 3:\n",
    "        ax.text(rect.get_x() + rect.get_width() / 1.75, rect.get_height() + .02, label,\n",
    "        ha='center', va='bottom', rotation = 'vertical', color = 'black')\n",
    "    elif rect.get_x() <= 3:\n",
    "        height = .06\n",
    "        ax.text(rect.get_x() + rect.get_width() / 1.75, height, label,\n",
    "        ha='center', va='bottom', rotation = 'vertical', color = 'black')\n",
    "    \n",
    "knn08.suptitle(\"KNN predicted MVP share: 2008\", weight = 'bold', size = 18, y = 1.005)\n",
    "ax.set_title(\"http://dribbleanalytics.blogspot.com.\", size = 14, fontname = 'Rockwell')\n",
    "ax.xaxis.set_visible(False)\n",
    "ax.set_ylabel(\"Vote Share\")\n",
    "ax.legend(loc='best', prop={'size': 9, \"family\": \"Rockwell\"}, ncol = 2)\n",
    "an1 = ax.annotate(\"Predicted MVP: Chris Paul\\nActual MVP: Kobe Bryant\", xy = (1.4, 0.29), xycoords = 'data', xytext = (2.5, .59),\n",
    "            fontname = 'Rockwell', bbox=dict(boxstyle=\"round\", fc = 'white'), arrowprops=dict(facecolor = 'C4')\n",
    "           )\n",
    "\n",
    "knn08.savefig('knn-08.png', dpi = 400, bbox_inches = 'tight')"
   ]
  },
  {
   "cell_type": "markdown",
   "metadata": {},
   "source": [
    "## DNN"
   ]
  },
  {
   "cell_type": "code",
   "execution_count": null,
   "metadata": {},
   "outputs": [],
   "source": [
    "dnnPredict08 = dnn.predict(df08Predict)\n",
    "dnnPredict08 = dnnPredict08.tolist()\n",
    "\n",
    "for (i, j) in zip(df08Names, dnnPredict08):\n",
    "    print(i, j)"
   ]
  },
  {
   "cell_type": "code",
   "execution_count": null,
   "metadata": {},
   "outputs": [],
   "source": [
    "dnnList = [[i, j] for i, j in zip(df08Names, dnnPredict08)]\n",
    "\n",
    "dnnListData = [row[1] for row in dnnList]\n",
    "dnnListNames = [row[0] for row in dnnList]\n",
    "print(dnnList)\n",
    "\n",
    "x_dnn = np.arange(len(dnnListData))"
   ]
  },
  {
   "cell_type": "code",
   "execution_count": null,
   "metadata": {},
   "outputs": [],
   "source": [
    "plt.style.use('fivethirtyeight')\n",
    "\n",
    "dnn08, ax = plt.subplots()\n",
    "\n",
    "ax.bar(x_dnn, df08.iloc[:, 6], width = .4, edgecolor = 'white', linewidth = 1, color = 'skyblue', label = 'Actual')\n",
    "ax.bar(x_dnn + 0.4, dnnListData, width = .4, edgecolor = 'white', linewidth = 1, color = 'C1', label = 'Predicted')\n",
    "\n",
    "labels = dnnListNames\n",
    "\n",
    "rects = ax.patches\n",
    "for rect, label in zip(rects, labels):\n",
    "    if rect.get_x() > 3:\n",
    "        ax.text(rect.get_x() + rect.get_width() / 1.75, rect.get_height() + .02, label,\n",
    "        ha='center', va='bottom', rotation = 'vertical', color = 'black')\n",
    "    elif rect.get_x() <= 3:\n",
    "        height = .06\n",
    "        ax.text(rect.get_x() + rect.get_width() / 1.75, height, label,\n",
    "        ha='center', va='bottom', rotation = 'vertical', color = 'black')\n",
    "    \n",
    "dnn08.suptitle(\"DNN predicted MVP share: 2008\", weight = 'bold', size = 18, y = 1.005)\n",
    "ax.set_title(\"http://dribbleanalytics.blogspot.com.\", size = 14, fontname = 'Rockwell')\n",
    "ax.xaxis.set_visible(False)\n",
    "ax.set_ylabel(\"Vote Share\")\n",
    "ax.legend(loc='best', prop={'size': 9, \"family\": \"Rockwell\"}, ncol = 2)\n",
    "an1 = ax.annotate(\"Predicted MVP: Chris Paul\\nActual MVP: Kobe Bryant\", xy = (1.4, 0.51), xycoords = 'data', xytext = (2.5, .72),\n",
    "            fontname = 'Rockwell', bbox=dict(boxstyle=\"round\", fc = 'white'), arrowprops=dict(facecolor = 'C4')\n",
    "           )\n",
    "\n",
    "dnn08.savefig('dnn-08.png', dpi = 400, bbox_inches = 'tight')"
   ]
  },
  {
   "cell_type": "markdown",
   "metadata": {},
   "source": [
    "## Average"
   ]
  },
  {
   "cell_type": "code",
   "execution_count": null,
   "metadata": {},
   "outputs": [],
   "source": [
    "avgPredict08 = []\n",
    "\n",
    "for (i, j, h, k) in zip(svrListData, rfListData, knnListData, dnnListData):\n",
    "    avgPredict08.append((i + j + h + k) / 4)\n",
    "\n",
    "avgList = [[i, j] for i, j in zip(df08Names, avgPredict08)]\n",
    "\n",
    "avgListData = [row[1] for row in avgList]\n",
    "avgListNames = [row[0] for row in avgList]\n",
    "print(avgList)\n",
    "\n",
    "x_avg = np.arange(len(avgListData))\n",
    "\n",
    "plt.style.use('fivethirtyeight')\n",
    "\n",
    "avg08, ax = plt.subplots()\n",
    "\n",
    "ax.bar(x_avg, df08.iloc[:, 6], width = .4, edgecolor = 'white', linewidth = 1, color = 'skyblue', label = 'Actual')\n",
    "ax.bar(x_avg + 0.4, avgListData, width = .4, edgecolor = 'white', linewidth = 1, color = 'C1', label = 'Predicted')\n",
    "\n",
    "labels = df08Names\n",
    "\n",
    "rects = ax.patches\n",
    "for rect, label in zip(rects, labels):\n",
    "    if rect.get_x() > 3:\n",
    "        ax.text(rect.get_x() + rect.get_width() / 1.75, rect.get_height() + .02, label,\n",
    "        ha='center', va='bottom', rotation = 'vertical', color = 'black')\n",
    "    elif rect.get_x() <= 3:\n",
    "        height = .06\n",
    "        ax.text(rect.get_x() + rect.get_width() / 1.75, height, label,\n",
    "        ha='center', va='bottom', rotation = 'vertical', color = 'black')\n",
    "    \n",
    "avg08.suptitle(\"Average predicted MVP share: 2008\", weight = 'bold', size = 18, y = 1.005)\n",
    "ax.set_title(\"http://dribbleanalytics.blogspot.com.\", size = 14, fontname = 'Rockwell')\n",
    "ax.xaxis.set_visible(False)\n",
    "ax.set_ylabel(\"Vote Share\")\n",
    "ax.legend(loc='best', prop={'size': 9, \"family\": \"Rockwell\"}, ncol = 2)\n",
    "an1 = ax.annotate(\"Predicted MVP: Chris Paul\\nActual MVP: Kobe Bryant\", xy = (1.4, 0.45), xycoords = 'data', xytext = (2.5, .72),\n",
    "            fontname = 'Rockwell', bbox=dict(boxstyle=\"round\", fc = 'white'), arrowprops=dict(facecolor = 'C4')\n",
    "           )\n",
    "\n",
    "avg08.savefig('avg-08.png', dpi = 400, bbox_inches = 'tight')"
   ]
  },
  {
   "cell_type": "markdown",
   "metadata": {},
   "source": [
    "# Prediction: 2009"
   ]
  },
  {
   "cell_type": "code",
   "execution_count": null,
   "metadata": {},
   "outputs": [],
   "source": [
    "df09 = pd.read_csv('09-mvp.csv')\n",
    "df09Names = df09.iloc[:, 1]\n",
    "df09Predict = df09[['G', 'MP', 'Team Wins', 'Overall Seed', 'PTS', 'TRB', 'AST', 'STL', 'BLK', 'FG%', '3P%', 'FT%',  'WS', 'VORP', 'BPM']]\n",
    "\n",
    "df09.head()"
   ]
  },
  {
   "cell_type": "markdown",
   "metadata": {},
   "source": [
    "## SVR "
   ]
  },
  {
   "cell_type": "code",
   "execution_count": null,
   "metadata": {},
   "outputs": [],
   "source": [
    "svrPredict09 = svr.predict(df09Predict)\n",
    "svrPredict09 = svrPredict09.tolist()\n",
    "\n",
    "for (i, j) in zip(df09Names, svrPredict09):\n",
    "    print(i, j)"
   ]
  },
  {
   "cell_type": "code",
   "execution_count": null,
   "metadata": {},
   "outputs": [],
   "source": [
    "svrList = [[i, j] for i, j in zip(df09Names, svrPredict09)]\n",
    "\n",
    "svrListData = [row[1] for row in svrList]\n",
    "svrListNames = [row[0] for row in svrList]\n",
    "print(svrList)\n",
    "\n",
    "x_svr = np.arange(len(svrListData))"
   ]
  },
  {
   "cell_type": "code",
   "execution_count": null,
   "metadata": {},
   "outputs": [],
   "source": [
    "plt.style.use('fivethirtyeight')\n",
    "\n",
    "svr09, ax = plt.subplots()\n",
    "\n",
    "ax.bar(x_svr, df09.iloc[:, 6], width = .4, edgecolor = 'white', linewidth = 1, color = 'skyblue', label = 'Actual')\n",
    "ax.bar(x_svr + 0.4, svrListData, width = .4, edgecolor = 'white', linewidth = 1, color = 'C1', label = 'Predicted')\n",
    "\n",
    "labels = svrListNames\n",
    "\n",
    "rects = ax.patches\n",
    "for rect, label in zip(rects, labels):\n",
    "    if rect.get_x() > 3:\n",
    "        ax.text(rect.get_x() + rect.get_width() / 1.75, rect.get_height() + .02, label,\n",
    "        ha='center', va='bottom', rotation = 'vertical', color = 'black')\n",
    "    elif rect.get_x() <= 3:\n",
    "        height = .06\n",
    "        ax.text(rect.get_x() + rect.get_width() / 1.75, height, label,\n",
    "        ha='center', va='bottom', rotation = 'vertical', color = 'black')\n",
    "    \n",
    "svr09.suptitle(\"SVM predicted MVP share: 2009\", weight = 'bold', size = 18, y = 1.005)\n",
    "ax.set_title(\"http://dribbleanalytics.blogspot.com.\", size = 14, fontname = 'Rockwell')\n",
    "ax.xaxis.set_visible(False)\n",
    "ax.set_ylabel(\"Vote Share\")\n",
    "ax.legend(loc='best', prop={'size': 9, \"family\": \"Rockwell\"}, ncol = 2)\n",
    "an1 = ax.annotate(\"Predicted MVP: LeBron James\\nActual MVP: LeBron James\", xy = (.8, 0.78), xycoords = 'data', xytext = (2, .79),\n",
    "            fontname = 'Rockwell', bbox=dict(boxstyle=\"round\", fc = 'white'), arrowprops=dict(facecolor = 'C4')\n",
    "           )\n",
    "\n",
    "svr09.savefig('svr-09.png', dpi = 400, bbox_inches = 'tight')"
   ]
  },
  {
   "cell_type": "markdown",
   "metadata": {},
   "source": [
    "## RF"
   ]
  },
  {
   "cell_type": "code",
   "execution_count": null,
   "metadata": {},
   "outputs": [],
   "source": [
    "rfPredict09 = rf.predict(df09Predict)\n",
    "rfPredict09 = rfPredict09.tolist()\n",
    "\n",
    "for (i, j) in zip(df09Names, rfPredict09):\n",
    "    print(i, j)"
   ]
  },
  {
   "cell_type": "code",
   "execution_count": null,
   "metadata": {},
   "outputs": [],
   "source": [
    "rfList = [[i, j] for i, j in zip(df09Names, rfPredict09)]\n",
    "\n",
    "rfListData = [row[1] for row in rfList]\n",
    "rfListNames = [row[0] for row in rfList]\n",
    "print(rfList)\n",
    "\n",
    "x_rf = np.arange(len(rfListData))"
   ]
  },
  {
   "cell_type": "code",
   "execution_count": null,
   "metadata": {},
   "outputs": [],
   "source": [
    "plt.style.use('fivethirtyeight')\n",
    "\n",
    "rf09, ax = plt.subplots()\n",
    "\n",
    "ax.bar(x_rf, df09.iloc[:, 6], width = .4, edgecolor = 'white', linewidth = 1, color = 'skyblue', label = 'Actual')\n",
    "ax.bar(x_rf + 0.4, rfListData, width = .4, edgecolor = 'white', linewidth = 1, color = 'C1', label = 'Predicted')\n",
    "\n",
    "labels = rfListNames\n",
    "\n",
    "rects = ax.patches\n",
    "for rect, label in zip(rects, labels):\n",
    "    if rect.get_x() > 3:\n",
    "        ax.text(rect.get_x() + rect.get_width() / 1.75, rect.get_height() + .02, label,\n",
    "        ha='center', va='bottom', rotation = 'vertical', color = 'black')\n",
    "    elif rect.get_x() <= 3:\n",
    "        height = .06\n",
    "        ax.text(rect.get_x() + rect.get_width() / 1.75, height, label,\n",
    "        ha='center', va='bottom', rotation = 'vertical', color = 'black')\n",
    "    \n",
    "rf09.suptitle(\"RF predicted MVP share: 2009\", weight = 'bold', size = 18, y = 1.005)\n",
    "ax.set_title(\"http://dribbleanalytics.blogspot.com.\", size = 14, fontname = 'Rockwell')\n",
    "ax.xaxis.set_visible(False)\n",
    "ax.set_ylabel(\"Vote Share\")\n",
    "ax.legend(loc='best', prop={'size': 9, \"family\": \"Rockwell\"}, ncol = 2)\n",
    "an1 = ax.annotate(\"Predicted MVP: LeBron James\\nActual MVP: LeBron James\", xy = (.8, 0.78), xycoords = 'data', xytext = (2, .79),\n",
    "            fontname = 'Rockwell', bbox=dict(boxstyle=\"round\", fc = 'white'), arrowprops=dict(facecolor = 'C4')\n",
    "           )\n",
    "\n",
    "rf09.savefig('rf-09.png', dpi = 400, bbox_inches = 'tight')"
   ]
  },
  {
   "cell_type": "markdown",
   "metadata": {},
   "source": [
    "## k-NN"
   ]
  },
  {
   "cell_type": "code",
   "execution_count": null,
   "metadata": {},
   "outputs": [],
   "source": [
    "knnPredict09 = knn.predict(df09Predict)\n",
    "knnPredict09 = knnPredict09.tolist()\n",
    "knnPredict09 = [row[0] for row in knnPredict09]\n",
    "for (i, j) in zip(df09Names, knnPredict09):\n",
    "    print(i, j)"
   ]
  },
  {
   "cell_type": "code",
   "execution_count": null,
   "metadata": {},
   "outputs": [],
   "source": [
    "knnList = [[i, j] for i, j in zip(df09Names, knnPredict09)]\n",
    "\n",
    "knnListData = [row[1] for row in knnList]\n",
    "knnListNames = [row[0] for row in knnList]\n",
    "print(knnList)\n",
    "\n",
    "x_knn = np.arange(len(knnListData))"
   ]
  },
  {
   "cell_type": "code",
   "execution_count": null,
   "metadata": {},
   "outputs": [],
   "source": [
    "plt.style.use('fivethirtyeight')\n",
    "\n",
    "knn09, ax = plt.subplots()\n",
    "\n",
    "ax.bar(x_knn, df09.iloc[:, 6], width = .4, edgecolor = 'white', linewidth = 1, color = 'skyblue', label = 'Actual')\n",
    "ax.bar(x_knn + 0.4, knnListData, width = .4, edgecolor = 'white', linewidth = 1, color = 'C1', label = 'Predicted')\n",
    "\n",
    "labels = knnListNames\n",
    "\n",
    "rects = ax.patches\n",
    "for rect, label in zip(rects, labels):\n",
    "    if rect.get_x() > 3:\n",
    "        ax.text(rect.get_x() + rect.get_width() / 1.75, rect.get_height() + .02, label,\n",
    "        ha='center', va='bottom', rotation = 'vertical', color = 'black')\n",
    "    elif rect.get_x() <= 3:\n",
    "        height = .06\n",
    "        ax.text(rect.get_x() + rect.get_width() / 1.75, height, label,\n",
    "        ha='center', va='bottom', rotation = 'vertical', color = 'black')\n",
    "    \n",
    "knn09.suptitle(\"KNN predicted MVP share: 2009\", weight = 'bold', size = 18, y = 1.005)\n",
    "ax.set_title(\"http://dribbleanalytics.blogspot.com.\", size = 14, fontname = 'Rockwell')\n",
    "ax.xaxis.set_visible(False)\n",
    "ax.set_ylabel(\"Vote Share\")\n",
    "ax.legend(loc='best', prop={'size': 9, \"family\": \"Rockwell\"}, ncol = 2)\n",
    "an1 = ax.annotate(\"Predicted MVP: LeBron James\\nActual MVP: LeBron James\", xy = (.8, 0.78), xycoords = 'data', xytext = (2, .79),\n",
    "            fontname = 'Rockwell', bbox=dict(boxstyle=\"round\", fc = 'white'), arrowprops=dict(facecolor = 'C4')\n",
    "           )\n",
    "\n",
    "knn09.savefig('knn-09.png', dpi = 400, bbox_inches = 'tight')"
   ]
  },
  {
   "cell_type": "markdown",
   "metadata": {},
   "source": [
    "## DNN"
   ]
  },
  {
   "cell_type": "code",
   "execution_count": null,
   "metadata": {},
   "outputs": [],
   "source": [
    "dnnPredict09 = dnn.predict(df09Predict)\n",
    "dnnPredict09 = dnnPredict09.tolist()\n",
    "\n",
    "for (i, j) in zip(df09Names, dnnPredict09):\n",
    "    print(i, j)"
   ]
  },
  {
   "cell_type": "code",
   "execution_count": null,
   "metadata": {},
   "outputs": [],
   "source": [
    "dnnList = [[i, j] for i, j in zip(df09Names, dnnPredict09)]\n",
    "\n",
    "dnnListData = [row[1] for row in dnnList]\n",
    "dnnListNames = [row[0] for row in dnnList]\n",
    "print(dnnList)\n",
    "\n",
    "x_dnn = np.arange(len(dnnListData))"
   ]
  },
  {
   "cell_type": "code",
   "execution_count": null,
   "metadata": {},
   "outputs": [],
   "source": [
    "plt.style.use('fivethirtyeight')\n",
    "\n",
    "dnn09, ax = plt.subplots()\n",
    "\n",
    "ax.bar(x_dnn, df09.iloc[:, 6], width = .4, edgecolor = 'white', linewidth = 2, color = 'skyblue', label = 'Actual')\n",
    "ax.bar(x_dnn + 0.4, dnnListData, width = .4, edgecolor = 'white', linewidth = 2, color = 'C1', label = 'Predicted')\n",
    "\n",
    "labels = dnnListNames\n",
    "\n",
    "rects = ax.patches\n",
    "for rect, label in zip(rects, labels):\n",
    "    if rect.get_x() > 3:\n",
    "        ax.text(rect.get_x() + rect.get_width() / 1.75, rect.get_height() + .02, label,\n",
    "        ha='center', va='bottom', rotation = 'vertical', color = 'black')\n",
    "    elif rect.get_x() <= 3:\n",
    "        height = .06\n",
    "        ax.text(rect.get_x() + rect.get_width() / 1.75, height, label,\n",
    "        ha='center', va='bottom', rotation = 'vertical', color = 'black')\n",
    "    \n",
    "dnn09.suptitle(\"DNN predicted MVP share: 2009\", weight = 'bold', size = 18, y = 1.005)\n",
    "ax.set_title(\"http://dribbleanalytics.blogspot.com.\", size = 14, fontname = 'Rockwell')\n",
    "ax.xaxis.set_visible(False)\n",
    "ax.set_ylabel(\"Vote Share\")\n",
    "ax.legend(loc='best', prop={'size': 9, \"family\": \"Rockwell\"}, ncol = 2)\n",
    "an1 = ax.annotate(\"Predicted MVP: LeBron James\\nActual MVP: LeBron James\", xy = (.8, 0.78), xycoords = 'data', xytext = (2, .79),\n",
    "            fontname = 'Rockwell', bbox=dict(boxstyle=\"round\", fc = 'white'), arrowprops=dict(facecolor = 'C4')\n",
    "           )\n",
    "\n",
    "dnn09.savefig('dnn-09.png', dpi = 400, bbox_inches = 'tight')"
   ]
  },
  {
   "cell_type": "markdown",
   "metadata": {},
   "source": [
    "## Average"
   ]
  },
  {
   "cell_type": "code",
   "execution_count": null,
   "metadata": {},
   "outputs": [],
   "source": [
    "avgListData = []\n",
    "\n",
    "for (i, j, h, k) in zip(svrListData, rfListData, knnListData, dnnListData):\n",
    "    avgListData.append(float((i + j + h + k) / 4))\n",
    "    \n",
    "print(avgListData)\n",
    "    \n",
    "x_avg = np.arange(len(avgListData))\n",
    "\n",
    "plt.style.use('fivethirtyeight')\n",
    "\n",
    "avg09, ax = plt.subplots()\n",
    "\n",
    "ax.bar(x_avg, df09.iloc[:, 6], width = .4, edgecolor = 'white', linewidth = 1, color = 'skyblue', label = 'Actual')\n",
    "ax.bar(x_avg + 0.4, avgListData, width = .4, edgecolor = 'white', linewidth = 1, color = 'C1', label = 'Predicted')\n",
    "\n",
    "labels = df09Names\n",
    "\n",
    "rects = ax.patches\n",
    "for rect, label in zip(rects, labels):\n",
    "    if rect.get_x() > 3:\n",
    "        ax.text(rect.get_x() + rect.get_width() / 1.75, rect.get_height() + .02, label,\n",
    "        ha='center', va='bottom', rotation = 'vertical', color = 'black')\n",
    "    elif rect.get_x() <= 3:\n",
    "        height = .06\n",
    "        ax.text(rect.get_x() + rect.get_width() / 1.75, height, label,\n",
    "        ha='center', va='bottom', rotation = 'vertical', color = 'black')\n",
    "    \n",
    "avg09.suptitle(\"Average predicted MVP share: 2009\", weight = 'bold', size = 18, y = 1.005)\n",
    "ax.set_title(\"http://dribbleanalytics.blogspot.com.\", size = 14, fontname = 'Rockwell')\n",
    "ax.xaxis.set_visible(False)\n",
    "ax.set_ylabel(\"Vote Share\")\n",
    "ax.legend(loc='best', prop={'size': 9, \"family\": \"Rockwell\"}, ncol = 2)\n",
    "an1 = ax.annotate(\"Predicted MVP: LeBron James\\nActual MVP: LeBron James\", xy = (.8, 0.78), xycoords = 'data', xytext = (2, .79),\n",
    "            fontname = 'Rockwell', bbox=dict(boxstyle=\"round\", fc = 'white'), arrowprops=dict(facecolor = 'C4')\n",
    "           )\n",
    "\n",
    "avg09.savefig('avg-09.png', dpi = 400, bbox_inches = 'tight')"
   ]
  },
  {
   "cell_type": "markdown",
   "metadata": {},
   "source": [
    "# Predictions: 2010"
   ]
  },
  {
   "cell_type": "code",
   "execution_count": null,
   "metadata": {},
   "outputs": [],
   "source": [
    "df10 = pd.read_csv('10-mvp.csv')\n",
    "df10Names = df10.iloc[:, 1]\n",
    "df10Predict = df10[['G', 'MP', 'Team Wins', 'Overall Seed', 'PTS', 'TRB', 'AST', 'STL', 'BLK', 'FG%', '3P%', 'FT%',  'WS', 'VORP', 'BPM']]\n",
    "\n",
    "df10.head()"
   ]
  },
  {
   "cell_type": "markdown",
   "metadata": {},
   "source": [
    "## SVR "
   ]
  },
  {
   "cell_type": "code",
   "execution_count": null,
   "metadata": {},
   "outputs": [],
   "source": [
    "svrPredict10 = svr.predict(df10Predict)\n",
    "svrPredict10 = svrPredict10.tolist()\n",
    "\n",
    "for (i, j) in zip(df10Names, svrPredict10):\n",
    "    print(i, j)"
   ]
  },
  {
   "cell_type": "code",
   "execution_count": null,
   "metadata": {},
   "outputs": [],
   "source": [
    "svrList = [[i, j] for i, j in zip(df10Names, svrPredict10)]\n",
    "\n",
    "svrListData = [row[1] for row in svrList]\n",
    "svrListNames = [row[0] for row in svrList]\n",
    "print(svrList)\n",
    "\n",
    "x_svr = np.arange(len(svrListData))"
   ]
  },
  {
   "cell_type": "code",
   "execution_count": null,
   "metadata": {},
   "outputs": [],
   "source": [
    "plt.style.use('fivethirtyeight')\n",
    "\n",
    "svr10, ax = plt.subplots()\n",
    "\n",
    "ax.bar(x_svr, df10.iloc[:, 6], width = .4, edgecolor = 'white', linewidth = 1, color = 'skyblue', label = 'Actual')\n",
    "ax.bar(x_svr + 0.4, svrListData, width = .4, edgecolor = 'white', linewidth = 1, color = 'C1', label = 'Predicted')\n",
    "\n",
    "labels = svrListNames\n",
    "\n",
    "rects = ax.patches\n",
    "for rect, label in zip(rects, labels):\n",
    "    if rect.get_x() > 3:\n",
    "        ax.text(rect.get_x() + rect.get_width() / 1.75, rect.get_height() + .02, label,\n",
    "        ha='center', va='bottom', rotation = 'vertical', color = 'black')\n",
    "    elif rect.get_x() <= 3:\n",
    "        height = .06\n",
    "        ax.text(rect.get_x() + rect.get_width() / 1.75, height, label,\n",
    "        ha='center', va='bottom', rotation = 'vertical', color = 'black')\n",
    "        \n",
    "svr10.suptitle(\"SVM predicted MVP share: 2010\", weight = 'bold', size = 18, y = 1.005)\n",
    "ax.set_title(\"http://dribbleanalytics.blogspot.com.\", size = 14, fontname = 'Rockwell')\n",
    "ax.xaxis.set_visible(False)\n",
    "ax.set_ylabel(\"Vote Share\")\n",
    "ax.legend(loc='best', prop={'size': 9, \"family\": \"Rockwell\"}, ncol = 2)\n",
    "an1 = ax.annotate(\"Predicted MVP: LeBron James\\nActual MVP: LeBron James\", xy = (.8, 0.78), xycoords = 'data', xytext = (2, .79),\n",
    "            fontname = 'Rockwell', bbox=dict(boxstyle=\"round\", fc = 'white'), arrowprops=dict(facecolor = 'C4')\n",
    "           )\n",
    "\n",
    "svr10.savefig('svr-10.png', dpi = 400, bbox_inches = 'tight')"
   ]
  },
  {
   "cell_type": "markdown",
   "metadata": {},
   "source": [
    "## RF"
   ]
  },
  {
   "cell_type": "code",
   "execution_count": null,
   "metadata": {},
   "outputs": [],
   "source": [
    "rfPredict10 = rf.predict(df10Predict)\n",
    "rfPredict10 = rfPredict10.tolist()\n",
    "\n",
    "for (i, j) in zip(df10Names, rfPredict10):\n",
    "    print(i, j)"
   ]
  },
  {
   "cell_type": "code",
   "execution_count": null,
   "metadata": {},
   "outputs": [],
   "source": [
    "rfList = [[i, j] for i, j in zip(df10Names, rfPredict10)]\n",
    "\n",
    "rfListData = [row[1] for row in rfList]\n",
    "rfListNames = [row[0] for row in rfList]\n",
    "print(rfList)\n",
    "\n",
    "x_rf = np.arange(len(rfListData))"
   ]
  },
  {
   "cell_type": "code",
   "execution_count": null,
   "metadata": {},
   "outputs": [],
   "source": [
    "plt.style.use('fivethirtyeight')\n",
    "\n",
    "rf10, ax = plt.subplots()\n",
    "\n",
    "ax.bar(x_rf, df10.iloc[:, 6], width = .4, edgecolor = 'white', linewidth = 1, color = 'skyblue', label = 'Actual')\n",
    "ax.bar(x_rf + 0.4, rfListData, width = .4, edgecolor = 'white', linewidth = 1, color = 'C1', label = 'Predicted')\n",
    "\n",
    "labels = rfListNames\n",
    "\n",
    "rects = ax.patches\n",
    "for rect, label in zip(rects, labels):\n",
    "    if rect.get_x() > 3:\n",
    "        ax.text(rect.get_x() + rect.get_width() / 1.75, rect.get_height() + .02, label,\n",
    "        ha='center', va='bottom', rotation = 'vertical', color = 'black')\n",
    "    elif rect.get_x() <= 3:\n",
    "        height = .06\n",
    "        ax.text(rect.get_x() + rect.get_width() / 1.75, height, label,\n",
    "        ha='center', va='bottom', rotation = 'vertical', color = 'black')\n",
    "        \n",
    "rf10.suptitle(\"RF predicted MVP share: 2010\", weight = 'bold', size = 18, y = 1.005)\n",
    "ax.set_title(\"http://dribbleanalytics.blogspot.com.\", size = 14, fontname = 'Rockwell')\n",
    "ax.xaxis.set_visible(False)\n",
    "ax.set_ylabel(\"Vote Share\")\n",
    "ax.legend(loc='best', prop={'size': 9, \"family\": \"Rockwell\"}, ncol = 2)\n",
    "an1 = ax.annotate(\"Predicted MVP: LeBron James\\nActual MVP: LeBron James\", xy = (.8, 0.78), xycoords = 'data', xytext = (2, .79),\n",
    "            fontname = 'Rockwell', bbox=dict(boxstyle=\"round\", fc = 'white'), arrowprops=dict(facecolor = 'C4')\n",
    "           )\n",
    "\n",
    "rf10.savefig('rf-10.png', dpi = 400, bbox_inches = 'tight')"
   ]
  },
  {
   "cell_type": "markdown",
   "metadata": {},
   "source": [
    "## k-NN"
   ]
  },
  {
   "cell_type": "code",
   "execution_count": null,
   "metadata": {},
   "outputs": [],
   "source": [
    "knnPredict10 = knn.predict(df10Predict)\n",
    "knnPredict10 = knnPredict10.tolist()\n",
    "knnPredict10 = [row[0] for row in knnPredict10]\n",
    "for (i, j) in zip(df10Names, knnPredict10):\n",
    "    print(i, j)"
   ]
  },
  {
   "cell_type": "code",
   "execution_count": null,
   "metadata": {},
   "outputs": [],
   "source": [
    "knnList = [[i, j] for i, j in zip(df10Names, knnPredict10)]\n",
    "\n",
    "knnListData = [row[1] for row in knnList]\n",
    "knnListNames = [row[0] for row in knnList]\n",
    "print(knnList)\n",
    "\n",
    "x_knn = np.arange(len(knnListData))"
   ]
  },
  {
   "cell_type": "code",
   "execution_count": null,
   "metadata": {},
   "outputs": [],
   "source": [
    "plt.style.use('fivethirtyeight')\n",
    "\n",
    "knn10, ax = plt.subplots()\n",
    "\n",
    "ax.bar(x_knn, df10.iloc[:, 6], width = .4, edgecolor = 'white', linewidth = 1, color = 'skyblue', label = 'Actual')\n",
    "ax.bar(x_knn + 0.4, knnListData, width = .4, edgecolor = 'white', linewidth = 1, color = 'C1', label = 'Predicted')\n",
    "\n",
    "labels = knnListNames\n",
    "\n",
    "rects = ax.patches\n",
    "for rect, label in zip(rects, labels):\n",
    "    if rect.get_x() > 3:\n",
    "        ax.text(rect.get_x() + rect.get_width() / 1.75, rect.get_height() + .02, label,\n",
    "        ha='center', va='bottom', rotation = 'vertical', color = 'black')\n",
    "    elif rect.get_x() <= 3:\n",
    "        height = .06\n",
    "        ax.text(rect.get_x() + rect.get_width() / 1.75, height, label,\n",
    "        ha='center', va='bottom', rotation = 'vertical', color = 'black')\n",
    "        \n",
    "knn10.suptitle(\"KNN predicted MVP share: 2010\", weight = 'bold', size = 18, y = 1.005)\n",
    "ax.set_title(\"http://dribbleanalytics.blogspot.com.\", size = 14, fontname = 'Rockwell')\n",
    "ax.xaxis.set_visible(False)\n",
    "ax.set_ylabel(\"Vote Share\")\n",
    "ax.legend(loc='best', prop={'size': 9, \"family\": \"Rockwell\"}, ncol = 2)\n",
    "an1 = ax.annotate(\"Predicted MVP: LeBron James\\nActual MVP: LeBron James\", xy = (.8, 0.78), xycoords = 'data', xytext = (2, .79),\n",
    "            fontname = 'Rockwell', bbox=dict(boxstyle=\"round\", fc = 'white'), arrowprops=dict(facecolor = 'C4')\n",
    "           )\n",
    "\n",
    "knn10.savefig('knn-10.png', dpi = 400, bbox_inches = 'tight')"
   ]
  },
  {
   "cell_type": "markdown",
   "metadata": {},
   "source": [
    "## DNN"
   ]
  },
  {
   "cell_type": "code",
   "execution_count": null,
   "metadata": {},
   "outputs": [],
   "source": [
    "dnnPredict10 = dnn.predict(df10Predict)\n",
    "dnnPredict10 = dnnPredict10.tolist()\n",
    "\n",
    "for (i, j) in zip(df10Names, dnnPredict10):\n",
    "    print(i, j)"
   ]
  },
  {
   "cell_type": "code",
   "execution_count": null,
   "metadata": {},
   "outputs": [],
   "source": [
    "dnnList = [[i, j] for i, j in zip(df10Names, dnnPredict10)]\n",
    "\n",
    "dnnListData = [row[1] for row in dnnList]\n",
    "dnnListNames = [row[0] for row in dnnList]\n",
    "print(dnnList)\n",
    "\n",
    "x_dnn = np.arange(len(dnnListData))"
   ]
  },
  {
   "cell_type": "code",
   "execution_count": null,
   "metadata": {},
   "outputs": [],
   "source": [
    "plt.style.use('fivethirtyeight')\n",
    "\n",
    "dnn10, ax = plt.subplots()\n",
    "\n",
    "ax.bar(x_dnn, df10.iloc[:, 6], width = .4, edgecolor = 'white', linewidth = 1, color = 'skyblue', label = 'Actual')\n",
    "ax.bar(x_dnn + 0.4, dnnListData, width = .4, edgecolor = 'white', linewidth = 1, color = 'C1', label = 'Predicted')\n",
    "\n",
    "labels = dnnListNames\n",
    "\n",
    "rects = ax.patches\n",
    "for rect, label in zip(rects, labels):\n",
    "    if rect.get_x() > 3:\n",
    "        ax.text(rect.get_x() + rect.get_width() / 1.75, rect.get_height() + .02, label,\n",
    "        ha='center', va='bottom', rotation = 'vertical', color = 'black')\n",
    "    elif rect.get_x() <= 3:\n",
    "        height = .06\n",
    "        ax.text(rect.get_x() + rect.get_width() / 1.75, height, label,\n",
    "        ha='center', va='bottom', rotation = 'vertical', color = 'black')\n",
    "        \n",
    "dnn10.suptitle(\"DNN predicted MVP share: 2010\", weight = 'bold', size = 18, y = 1.005)\n",
    "ax.set_title(\"http://dribbleanalytics.blogspot.com.\", size = 14, fontname = 'Rockwell')\n",
    "ax.xaxis.set_visible(False)\n",
    "ax.set_ylabel(\"Vote Share\")\n",
    "ax.legend(loc='best', prop={'size': 9, \"family\": \"Rockwell\"}, ncol = 2)\n",
    "an1 = ax.annotate(\"Predicted MVP: LeBron James\\nActual MVP: LeBron James\", xy = (.8, 0.78), xycoords = 'data', xytext = (2, .79),\n",
    "            fontname = 'Rockwell', bbox=dict(boxstyle=\"round\", fc = 'white'), arrowprops=dict(facecolor = 'C4')\n",
    "           )\n",
    "\n",
    "dnn10.savefig('dnn-10.png', dpi = 400, bbox_inches = 'tight')"
   ]
  },
  {
   "cell_type": "markdown",
   "metadata": {},
   "source": [
    "## Average"
   ]
  },
  {
   "cell_type": "code",
   "execution_count": null,
   "metadata": {
    "scrolled": false
   },
   "outputs": [],
   "source": [
    "avgListData = []\n",
    "\n",
    "for (i, j, h, k) in zip(svrListData, rfListData, knnListData, dnnListData):\n",
    "    avgListData.append(float((i + j + h + k) / 4))\n",
    "    \n",
    "print(avgListData)\n",
    "    \n",
    "x_avg = np.arange(len(avgListData))\n",
    "\n",
    "plt.style.use('fivethirtyeight')\n",
    "\n",
    "avg10, ax = plt.subplots()\n",
    "\n",
    "ax.bar(x_avg, df10.iloc[:, 6], width = .4, edgecolor = 'white', linewidth = 1, color = 'skyblue', label = 'Actual')\n",
    "ax.bar(x_avg + 0.4, avgListData, width = .4, edgecolor = 'white', linewidth = 1, color = 'C1', label = 'Predicted')\n",
    "\n",
    "labels = df10Names\n",
    "\n",
    "rects = ax.patches\n",
    "for rect, label in zip(rects, labels):\n",
    "    if rect.get_x() > 3:\n",
    "        ax.text(rect.get_x() + rect.get_width() / 1.75, rect.get_height() + .02, label,\n",
    "        ha='center', va='bottom', rotation = 'vertical', color = 'black')\n",
    "    elif rect.get_x() <= 3:\n",
    "        height = .06\n",
    "        ax.text(rect.get_x() + rect.get_width() / 1.75, height, label,\n",
    "        ha='center', va='bottom', rotation = 'vertical', color = 'black')\n",
    "        \n",
    "avg10.suptitle(\"Average predicted MVP share: 2010\", weight = 'bold', size = 18, y = 1.005)\n",
    "ax.set_title(\"http://dribbleanalytics.blogspot.com.\", size = 14, fontname = 'Rockwell')\n",
    "ax.xaxis.set_visible(False)\n",
    "ax.set_ylabel(\"Vote Share\")\n",
    "ax.legend(loc='best', prop={'size': 9, \"family\": \"Rockwell\"}, ncol = 2)\n",
    "an1 = ax.annotate(\"Predicted MVP: LeBron James\\nActual MVP: LeBron James\", xy = (.8, 0.78), xycoords = 'data', xytext = (2, .79),\n",
    "            fontname = 'Rockwell', bbox=dict(boxstyle=\"round\", fc = 'white'), arrowprops=dict(facecolor = 'C4')\n",
    "           )\n",
    "\n",
    "avg10.savefig('avg-10.png', dpi = 400, bbox_inches = 'tight')"
   ]
  },
  {
   "cell_type": "markdown",
   "metadata": {},
   "source": [
    "# Prediction: 2011"
   ]
  },
  {
   "cell_type": "code",
   "execution_count": null,
   "metadata": {},
   "outputs": [],
   "source": [
    "df11 = pd.read_csv('11-mvp.csv')\n",
    "df11Names = df11.iloc[:, 1]\n",
    "df11Predict = df11[['G', 'MP', 'Team Wins', 'Overall Seed', 'PTS', 'TRB', 'AST', 'STL', 'BLK', 'FG%', '3P%', 'FT%',  'WS', 'VORP', 'BPM']]\n",
    "\n",
    "df11.head()"
   ]
  },
  {
   "cell_type": "markdown",
   "metadata": {},
   "source": [
    "## SVR "
   ]
  },
  {
   "cell_type": "code",
   "execution_count": null,
   "metadata": {},
   "outputs": [],
   "source": [
    "svrPredict11 = svr.predict(df11Predict)\n",
    "svrPredict11 = svrPredict11.tolist()\n",
    "\n",
    "for (i, j) in zip(df11Names, svrPredict11):\n",
    "    print(i, j)"
   ]
  },
  {
   "cell_type": "code",
   "execution_count": null,
   "metadata": {},
   "outputs": [],
   "source": [
    "svrList = [[i, j] for i, j in zip(df11Names, svrPredict11)]\n",
    "\n",
    "svrListData = [row[1] for row in svrList]\n",
    "svrListNames = [row[0] for row in svrList]\n",
    "print(svrList)\n",
    "\n",
    "x_svr = np.arange(len(svrListData))"
   ]
  },
  {
   "cell_type": "code",
   "execution_count": null,
   "metadata": {},
   "outputs": [],
   "source": [
    "plt.style.use('fivethirtyeight')\n",
    "\n",
    "svr11, ax = plt.subplots()\n",
    "\n",
    "ax.bar(x_svr, df11.iloc[:, 6], width = .4, edgecolor = 'white', linewidth = 1, color = 'skyblue', label = 'Actual')\n",
    "ax.bar(x_svr + 0.4, svrListData, width = .4, edgecolor = 'white', linewidth = 1, color = 'C1', label = 'Predicted')\n",
    "\n",
    "labels = svrListNames\n",
    "\n",
    "rects = ax.patches\n",
    "for rect, label in zip(rects, labels):\n",
    "    if rect.get_x() > 4:\n",
    "        ax.text(rect.get_x() + rect.get_width() / 1.75, rect.get_height() + .02, label,\n",
    "        ha='center', va='bottom', rotation = 'vertical', color = 'black')\n",
    "    elif rect.get_x() <= 4:\n",
    "        height = .06\n",
    "        ax.text(rect.get_x() + rect.get_width() / 1.75, height, label,\n",
    "        ha='center', va='bottom', rotation = 'vertical', color = 'black')\n",
    "        \n",
    "svr11.suptitle(\"SVM predicted MVP share: 2011\", weight = 'bold', size = 18, y = 1.005)\n",
    "ax.set_title(\"http://dribbleanalytics.blogspot.com.\", size = 14, fontname = 'Rockwell')\n",
    "ax.xaxis.set_visible(False)\n",
    "ax.set_ylabel(\"Vote Share\")\n",
    "ax.legend(loc='best', prop={'size': 9, \"family\": \"Rockwell\"}, ncol = 2)\n",
    "an1 = ax.annotate(\"Predicted MVP: LeBron James\\nActual MVP: Derrick Rose\", xy = (2.5, 0.52), xycoords = 'data', xytext = (2, .79),\n",
    "            fontname = 'Rockwell', bbox=dict(boxstyle=\"round\", fc = 'white'), arrowprops=dict(facecolor = 'C4')\n",
    "           )\n",
    "\n",
    "svr11.savefig('svr-11.png', dpi = 400, bbox_inches = 'tight')"
   ]
  },
  {
   "cell_type": "markdown",
   "metadata": {},
   "source": [
    "## RF"
   ]
  },
  {
   "cell_type": "code",
   "execution_count": null,
   "metadata": {},
   "outputs": [],
   "source": [
    "rfPredict11 = rf.predict(df11Predict)\n",
    "rfPredict11 = rfPredict11.tolist()\n",
    "\n",
    "for (i, j) in zip(df11Names, rfPredict11):\n",
    "    print(i, j)"
   ]
  },
  {
   "cell_type": "code",
   "execution_count": null,
   "metadata": {},
   "outputs": [],
   "source": [
    "rfList = [[i, j] for i, j in zip(df11Names, rfPredict11)]\n",
    "\n",
    "rfListData = [row[1] for row in rfList]\n",
    "rfListNames = [row[0] for row in rfList]\n",
    "print(rfList)\n",
    "\n",
    "x_rf = np.arange(len(rfListData))"
   ]
  },
  {
   "cell_type": "code",
   "execution_count": null,
   "metadata": {},
   "outputs": [],
   "source": [
    "plt.style.use('fivethirtyeight')\n",
    "\n",
    "rf11, ax = plt.subplots()\n",
    "\n",
    "ax.bar(x_rf, df11.iloc[:, 6], width = .4, edgecolor = 'white', linewidth = 1, color = 'skyblue', label = 'Actual')\n",
    "ax.bar(x_rf + 0.4, rfListData, width = .4, edgecolor = 'white', linewidth = 1, color = 'C1', label = 'Predicted')\n",
    "\n",
    "labels = rfListNames\n",
    "\n",
    "rects = ax.patches\n",
    "for rect, label in zip(rects, labels):\n",
    "    if rect.get_x() > 4:\n",
    "        ax.text(rect.get_x() + rect.get_width() / 1.75, rect.get_height() + .02, label,\n",
    "        ha='center', va='bottom', rotation = 'vertical', color = 'black')\n",
    "    elif rect.get_x() <= 4:\n",
    "        height = .06\n",
    "        ax.text(rect.get_x() + rect.get_width() / 1.75, height, label,\n",
    "        ha='center', va='bottom', rotation = 'vertical', color = 'black')\n",
    "        \n",
    "rf11.suptitle(\"RF predicted MVP share: 2011\", weight = 'bold', size = 18, y = 1.005)\n",
    "ax.set_title(\"http://dribbleanalytics.blogspot.com.\", size = 14, fontname = 'Rockwell')\n",
    "ax.xaxis.set_visible(False)\n",
    "ax.set_ylabel(\"Vote Share\")\n",
    "ax.legend(loc='best', prop={'size': 9, \"family\": \"Rockwell\"}, ncol = 2)\n",
    "an1 = ax.annotate(\"Predicted MVP: LeBron James\\nActual MVP: Derrick Rose\", xy = (2.5, 0.49), xycoords = 'data', xytext = (2, .79),\n",
    "            fontname = 'Rockwell', bbox=dict(boxstyle=\"round\", fc = 'white'), arrowprops=dict(facecolor = 'C4')\n",
    "           )\n",
    "\n",
    "rf11.savefig('rf-11.png', dpi = 400, bbox_inches = 'tight')"
   ]
  },
  {
   "cell_type": "markdown",
   "metadata": {},
   "source": [
    "## k-NN"
   ]
  },
  {
   "cell_type": "code",
   "execution_count": null,
   "metadata": {},
   "outputs": [],
   "source": [
    "knnPredict11 = knn.predict(df11Predict)\n",
    "knnPredict11 = knnPredict11.tolist()\n",
    "knnPredict11 = [row[0] for row in knnPredict11]\n",
    "for (i, j) in zip(df11Names, knnPredict11):\n",
    "    print(i, j)"
   ]
  },
  {
   "cell_type": "code",
   "execution_count": null,
   "metadata": {},
   "outputs": [],
   "source": [
    "knnList = [[i, j] for i, j in zip(df11Names, knnPredict11)]\n",
    "\n",
    "knnListData = [row[1] for row in knnList]\n",
    "knnListNames = [row[0] for row in knnList]\n",
    "print(knnList)\n",
    "\n",
    "x_knn = np.arange(len(knnListData))"
   ]
  },
  {
   "cell_type": "code",
   "execution_count": null,
   "metadata": {},
   "outputs": [],
   "source": [
    "plt.style.use('fivethirtyeight')\n",
    "\n",
    "knn11, ax = plt.subplots()\n",
    "\n",
    "ax.bar(x_knn, df11.iloc[:, 6], width = .4, edgecolor = 'white', linewidth = 2, color = 'skyblue', label = 'Actual')\n",
    "ax.bar(x_knn + 0.4, knnListData, width = .4, edgecolor = 'white', linewidth = 2, color = 'C1', label = 'Predicted')\n",
    "\n",
    "labels = knnListNames\n",
    "\n",
    "rects = ax.patches\n",
    "for rect, label in zip(rects, labels):\n",
    "    if rect.get_x() > 4:\n",
    "        ax.text(rect.get_x() + rect.get_width() / 1.75, rect.get_height() + .02, label,\n",
    "        ha='center', va='bottom', rotation = 'vertical', color = 'black')\n",
    "    elif rect.get_x() <= 4:\n",
    "        height = .06\n",
    "        ax.text(rect.get_x() + rect.get_width() / 1.75, height, label,\n",
    "        ha='center', va='bottom', rotation = 'vertical', color = 'black')\n",
    "        \n",
    "knn11.suptitle(\"KNN predicted MVP share: 2011\", weight = 'bold', size = 18, y = 1.005)\n",
    "ax.set_title(\"http://dribbleanalytics.blogspot.com.\", size = 14, fontname = 'Rockwell')\n",
    "ax.xaxis.set_visible(False)\n",
    "ax.set_ylabel(\"Vote Share\")\n",
    "ax.legend(loc='best', prop={'size': 9, \"family\": \"Rockwell\"}, ncol = 2)\n",
    "an1 = ax.annotate(\"Predicted MVP: LeBron James\\nActual MVP: Derrick Rose\", xy = (2.5, 0.38), xycoords = 'data', xytext = (2, .79),\n",
    "            fontname = 'Rockwell', bbox=dict(boxstyle=\"round\", fc = 'white'), arrowprops=dict(facecolor = 'C4')\n",
    "           )\n",
    "\n",
    "knn11.savefig('knn-11.png', dpi = 400, bbox_inches = 'tight')"
   ]
  },
  {
   "cell_type": "markdown",
   "metadata": {},
   "source": [
    "## DNN"
   ]
  },
  {
   "cell_type": "code",
   "execution_count": null,
   "metadata": {},
   "outputs": [],
   "source": [
    "dnnPredict11 = dnn.predict(df11Predict)\n",
    "dnnPredict11 = dnnPredict11.tolist()\n",
    "\n",
    "for (i, j) in zip(df11Names, dnnPredict11):\n",
    "    print(i, j)"
   ]
  },
  {
   "cell_type": "code",
   "execution_count": null,
   "metadata": {},
   "outputs": [],
   "source": [
    "dnnList = [[i, j] for i, j in zip(df11Names, dnnPredict11)]\n",
    "\n",
    "dnnListData = [row[1] for row in dnnList]\n",
    "dnnListNames = [row[0] for row in dnnList]\n",
    "print(dnnList)\n",
    "\n",
    "x_dnn = np.arange(len(dnnListData))"
   ]
  },
  {
   "cell_type": "code",
   "execution_count": null,
   "metadata": {},
   "outputs": [],
   "source": [
    "plt.style.use('fivethirtyeight')\n",
    "\n",
    "dnn11, ax = plt.subplots()\n",
    "\n",
    "ax.bar(x_dnn, df11.iloc[:, 6], width = .4, edgecolor = 'white', linewidth = 1, color = 'skyblue', label = 'Actual')\n",
    "ax.bar(x_dnn + 0.4, dnnListData, width = .4, edgecolor = 'white', linewidth = 1, color = 'C1', label = 'Predicted')\n",
    "\n",
    "labels = dnnListNames\n",
    "\n",
    "rects = ax.patches\n",
    "for rect, label in zip(rects, labels):\n",
    "    if rect.get_x() > 4:\n",
    "        ax.text(rect.get_x() + rect.get_width() / 1.75, rect.get_height() + .02, label,\n",
    "        ha='center', va='bottom', rotation = 'vertical', color = 'black')\n",
    "    elif rect.get_x() <= 4:\n",
    "        height = .06\n",
    "        ax.text(rect.get_x() + rect.get_width() / 1.75, height, label,\n",
    "        ha='center', va='bottom', rotation = 'vertical', color = 'black')\n",
    "        \n",
    "dnn11.suptitle(\"DNN predicted MVP share: 2011\", weight = 'bold', size = 18, y = 1.005)\n",
    "ax.set_title(\"http://dribbleanalytics.blogspot.com.\", size = 14, fontname = 'Rockwell')\n",
    "ax.xaxis.set_visible(False)\n",
    "ax.set_ylabel(\"Vote Share\")\n",
    "ax.legend(loc='best', prop={'size': 9, \"family\": \"Rockwell\"}, ncol = 2)\n",
    "an1 = ax.annotate(\"Predicted MVP: LeBron James\\nActual MVP: Derrick Rose\", xy = (2.5, 0.55), xycoords = 'data', xytext = (2, .79),\n",
    "            fontname = 'Rockwell', bbox=dict(boxstyle=\"round\", fc = 'white'), arrowprops=dict(facecolor = 'C4')\n",
    "           )\n",
    "\n",
    "dnn11.savefig('dnn-11.png', dpi = 400, bbox_inches = 'tight')"
   ]
  },
  {
   "cell_type": "markdown",
   "metadata": {},
   "source": [
    "## Average"
   ]
  },
  {
   "cell_type": "code",
   "execution_count": null,
   "metadata": {},
   "outputs": [],
   "source": [
    "avgListData = []\n",
    "\n",
    "for (i, j, h, k) in zip(svrListData, rfListData, knnListData, dnnListData):\n",
    "    avgListData.append(float((i + j + h + k) / 4))\n",
    "    \n",
    "print(avgListData)\n",
    "    \n",
    "x_avg = np.arange(len(avgListData))\n",
    "\n",
    "plt.style.use('fivethirtyeight')\n",
    "\n",
    "avg11, ax = plt.subplots()\n",
    "\n",
    "ax.bar(x_avg, df11.iloc[:, 6], width = .4, edgecolor = 'white', linewidth = 1, color = 'skyblue', label = 'Actual')\n",
    "ax.bar(x_avg + 0.4, avgListData, width = .4, edgecolor = 'white', linewidth = 1, color = 'C1', label = 'Predicted')\n",
    "\n",
    "labels = df11Names\n",
    "\n",
    "rects = ax.patches\n",
    "for rect, label in zip(rects, labels):\n",
    "    if rect.get_x() > 4:\n",
    "        ax.text(rect.get_x() + rect.get_width() / 1.75, rect.get_height() + .02, label,\n",
    "        ha='center', va='bottom', rotation = 'vertical', color = 'black')\n",
    "    elif rect.get_x() <= 4:\n",
    "        height = .06\n",
    "        ax.text(rect.get_x() + rect.get_width() / 1.75, height, label,\n",
    "        ha='center', va='bottom', rotation = 'vertical', color = 'black')\n",
    "        \n",
    "avg11.suptitle(\"Average predicted MVP share: 2011\", weight = 'bold', size = 18, y = 1.005)\n",
    "ax.set_title(\"http://dribbleanalytics.blogspot.com.\", size = 14, fontname = 'Rockwell')\n",
    "ax.xaxis.set_visible(False)\n",
    "ax.set_ylabel(\"Vote Share\")\n",
    "ax.legend(loc='best', prop={'size': 9, \"family\": \"Rockwell\"}, ncol = 2)\n",
    "an1 = ax.annotate(\"Predicted MVP: LeBron James\\nActual MVP: Derrick Rose\", xy = (2.5, 0.5), xycoords = 'data', xytext = (2, .79),\n",
    "            fontname = 'Rockwell', bbox=dict(boxstyle=\"round\", fc = 'white'), arrowprops=dict(facecolor = 'C4')\n",
    "           )\n",
    "\n",
    "avg11.savefig('avg-11.png', dpi = 400, bbox_inches = 'tight')"
   ]
  },
  {
   "cell_type": "markdown",
   "metadata": {},
   "source": [
    "# Predictions: 2012"
   ]
  },
  {
   "cell_type": "code",
   "execution_count": null,
   "metadata": {},
   "outputs": [],
   "source": [
    "df12 = pd.read_csv('12-mvp.csv')\n",
    "df12Names = df12.iloc[:, 1]\n",
    "df12Predict = df12[['G', 'MP', 'Team Wins', 'Overall Seed', 'PTS', 'TRB', 'AST', 'STL', 'BLK', 'FG%', '3P%', 'FT%',  'WS', 'VORP', 'BPM']]\n",
    "\n",
    "df12.head()"
   ]
  },
  {
   "cell_type": "markdown",
   "metadata": {},
   "source": [
    "## SVR "
   ]
  },
  {
   "cell_type": "code",
   "execution_count": null,
   "metadata": {},
   "outputs": [],
   "source": [
    "svrPredict12 = svr.predict(df12Predict)\n",
    "svrPredict12 = svrPredict12.tolist()\n",
    "\n",
    "for (i, j) in zip(df12Names, svrPredict12):\n",
    "    print(i, j)"
   ]
  },
  {
   "cell_type": "code",
   "execution_count": null,
   "metadata": {},
   "outputs": [],
   "source": [
    "svrList = [[i, j] for i, j in zip(df12Names, svrPredict12)]\n",
    "\n",
    "svrListData = [row[1] for row in svrList]\n",
    "svrListNames = [row[0] for row in svrList]\n",
    "print(svrList)\n",
    "\n",
    "x_svr = np.arange(len(svrListData))"
   ]
  },
  {
   "cell_type": "code",
   "execution_count": null,
   "metadata": {},
   "outputs": [],
   "source": [
    "plt.style.use('fivethirtyeight')\n",
    "\n",
    "svr12, ax = plt.subplots()\n",
    "\n",
    "ax.bar(x_svr, df12.iloc[:, 6], width = .4, edgecolor = 'white', linewidth = 1, color = 'skyblue', label = 'Actual')\n",
    "ax.bar(x_svr + 0.4, svrListData, width = .4, edgecolor = 'white', linewidth = 1, color = 'C1', label = 'Predicted')\n",
    "\n",
    "labels = svrListNames\n",
    "\n",
    "rects = ax.patches\n",
    "for rect, label in zip(rects, labels):\n",
    "    if rect.get_x() > 4:\n",
    "        ax.text(rect.get_x() + rect.get_width() / 1.75, rect.get_height() + .02, label,\n",
    "        ha='center', va='bottom', rotation = 'vertical', color = 'black')\n",
    "    elif rect.get_x() <= 4:\n",
    "        height = .06\n",
    "        ax.text(rect.get_x() + rect.get_width() / 1.75, height, label,\n",
    "        ha='center', va='bottom', rotation = 'vertical', color = 'black')\n",
    "        \n",
    "svr12.suptitle(\"SVM predicted MVP share: 2012\", weight = 'bold', size = 18, y = 1.005)\n",
    "ax.set_title(\"http://dribbleanalytics.blogspot.com.\", size = 14, fontname = 'Rockwell')\n",
    "ax.xaxis.set_visible(False)\n",
    "ax.set_ylabel(\"Vote Share\")\n",
    "ax.legend(loc='best', prop={'size': 9, \"family\": \"Rockwell\"}, ncol = 2)\n",
    "an1 = ax.annotate(\"Predicted MVP: LeBron James\\nActual MVP: LeBron James\", xy = (.6, 0.66), xycoords = 'data', xytext = (2, .72),\n",
    "            fontname = 'Rockwell', bbox=dict(boxstyle=\"round\", fc = 'white'), arrowprops=dict(facecolor = 'C4')\n",
    "           )\n",
    "\n",
    "svr12.savefig('svr-12.png', dpi = 400, bbox_inches = 'tight')"
   ]
  },
  {
   "cell_type": "markdown",
   "metadata": {},
   "source": [
    "## RF"
   ]
  },
  {
   "cell_type": "code",
   "execution_count": null,
   "metadata": {},
   "outputs": [],
   "source": [
    "rfPredict12 = rf.predict(df12Predict)\n",
    "rfPredict12 = rfPredict12.tolist()\n",
    "\n",
    "for (i, j) in zip(df12Names, rfPredict12):\n",
    "    print(i, j)"
   ]
  },
  {
   "cell_type": "code",
   "execution_count": null,
   "metadata": {},
   "outputs": [],
   "source": [
    "rfList = [[i, j] for i, j in zip(df12Names, rfPredict12)]\n",
    "\n",
    "rfListData = [row[1] for row in rfList]\n",
    "rfListNames = [row[0] for row in rfList]\n",
    "print(rfList)\n",
    "\n",
    "x_rf = np.arange(len(rfListData))"
   ]
  },
  {
   "cell_type": "code",
   "execution_count": null,
   "metadata": {},
   "outputs": [],
   "source": [
    "plt.style.use('fivethirtyeight')\n",
    "\n",
    "rf12, ax = plt.subplots()\n",
    "\n",
    "ax.bar(x_rf, df12.iloc[:, 6], width = .4, edgecolor = 'white', linewidth = 1, color = 'skyblue', label = 'Actual')\n",
    "ax.bar(x_rf + 0.4, rfListData, width = .4, edgecolor = 'white', linewidth = 1, color = 'C1', label = 'Predicted')\n",
    "\n",
    "labels = rfListNames\n",
    "\n",
    "rects = ax.patches\n",
    "for rect, label in zip(rects, labels):\n",
    "    if rect.get_x() > 4:\n",
    "        ax.text(rect.get_x() + rect.get_width() / 1.75, rect.get_height() + .02, label,\n",
    "        ha='center', va='bottom', rotation = 'vertical', color = 'black')\n",
    "    elif rect.get_x() <= 4:\n",
    "        height = .06\n",
    "        ax.text(rect.get_x() + rect.get_width() / 1.75, height, label,\n",
    "        ha='center', va='bottom', rotation = 'vertical', color = 'black')\n",
    "        \n",
    "rf12.suptitle(\"RF predicted MVP share: 2012\", weight = 'bold', size = 18, y = 1.005)\n",
    "ax.set_title(\"http://dribbleanalytics.blogspot.com.\", size = 14, fontname = 'Rockwell')\n",
    "ax.xaxis.set_visible(False)\n",
    "ax.set_ylabel(\"Vote Share\")\n",
    "ax.legend(loc='best', prop={'size': 9, \"family\": \"Rockwell\"}, ncol = 2)\n",
    "an1 = ax.annotate(\"Predicted MVP: LeBron James\\nActual MVP: LeBron James\", xy = (.6, 0.58), xycoords = 'data', xytext = (2, .72),\n",
    "            fontname = 'Rockwell', bbox=dict(boxstyle=\"round\", fc = 'white'), arrowprops=dict(facecolor = 'C4')\n",
    "           )\n",
    "\n",
    "rf12.savefig('rf-12.png', dpi = 400, bbox_inches = 'tight')"
   ]
  },
  {
   "cell_type": "markdown",
   "metadata": {},
   "source": [
    "## k-NN"
   ]
  },
  {
   "cell_type": "code",
   "execution_count": null,
   "metadata": {},
   "outputs": [],
   "source": [
    "knnPredict12 = knn.predict(df12Predict)\n",
    "knnPredict12 = knnPredict12.tolist()\n",
    "knnPredict12 = [row[0] for row in knnPredict12]\n",
    "for (i, j) in zip(df12Names, knnPredict12):\n",
    "    print(i, j)"
   ]
  },
  {
   "cell_type": "code",
   "execution_count": null,
   "metadata": {},
   "outputs": [],
   "source": [
    "knnList = [[i, j] for i, j in zip(df12Names, knnPredict12)]\n",
    "\n",
    "knnListData = [row[1] for row in knnList]\n",
    "knnListNames = [row[0] for row in knnList]\n",
    "print(knnList)\n",
    "\n",
    "x_knn = np.arange(len(knnListData))"
   ]
  },
  {
   "cell_type": "code",
   "execution_count": null,
   "metadata": {},
   "outputs": [],
   "source": [
    "plt.style.use('fivethirtyeight')\n",
    "\n",
    "knn12, ax = plt.subplots()\n",
    "\n",
    "ax.bar(x_knn, df12.iloc[:, 6], width = .4, edgecolor = 'white', linewidth = 1, color = 'skyblue', label = 'Actual')\n",
    "ax.bar(x_knn + 0.4, knnListData, width = .4, edgecolor = 'white', linewidth = 1, color = 'C1', label = 'Predicted')\n",
    "\n",
    "labels = knnListNames\n",
    "\n",
    "rects = ax.patches\n",
    "for rect, label in zip(rects, labels):\n",
    "    if rect.get_x() > 4:\n",
    "        ax.text(rect.get_x() + rect.get_width() / 1.75, rect.get_height() + .02, label,\n",
    "        ha='center', va='bottom', rotation = 'vertical', color = 'black')\n",
    "    elif rect.get_x() <= 4:\n",
    "        height = .06\n",
    "        ax.text(rect.get_x() + rect.get_width() / 1.75, height, label,\n",
    "        ha='center', va='bottom', rotation = 'vertical', color = 'black')\n",
    "        \n",
    "knn12.suptitle(\"KNN predicted MVP share: 2012\", weight = 'bold', size = 18, y = 1.005)\n",
    "ax.set_title(\"http://dribbleanalytics.blogspot.com.\", size = 14, fontname = 'Rockwell')\n",
    "ax.xaxis.set_visible(False)\n",
    "ax.set_ylabel(\"Vote Share\")\n",
    "ax.legend(loc='best', prop={'size': 9, \"family\": \"Rockwell\"}, ncol = 2)\n",
    "an1 = ax.annotate(\"Predicted MVP: LeBron James\\nActual MVP: LeBron James\", xy = (.6, 0.68), xycoords = 'data', xytext = (2, .72),\n",
    "            fontname = 'Rockwell', bbox=dict(boxstyle=\"round\", fc = 'white'), arrowprops=dict(facecolor = 'C4')\n",
    "           )\n",
    "\n",
    "knn12.savefig('knn-12.png', dpi = 400, bbox_inches = 'tight')"
   ]
  },
  {
   "cell_type": "markdown",
   "metadata": {},
   "source": [
    "## DNN"
   ]
  },
  {
   "cell_type": "code",
   "execution_count": null,
   "metadata": {},
   "outputs": [],
   "source": [
    "dnnPredict12 = dnn.predict(df12Predict)\n",
    "dnnPredict12 = dnnPredict12.tolist()\n",
    "\n",
    "for (i, j) in zip(df12Names, dnnPredict12):\n",
    "    print(i, j)"
   ]
  },
  {
   "cell_type": "code",
   "execution_count": null,
   "metadata": {},
   "outputs": [],
   "source": [
    "dnnList = [[i, j] for i, j in zip(df12Names, dnnPredict12)]\n",
    "\n",
    "dnnListData = [row[1] for row in dnnList]\n",
    "dnnListNames = [row[0] for row in dnnList]\n",
    "print(dnnList)\n",
    "\n",
    "x_dnn = np.arange(len(dnnListData))"
   ]
  },
  {
   "cell_type": "code",
   "execution_count": null,
   "metadata": {},
   "outputs": [],
   "source": [
    "plt.style.use('fivethirtyeight')\n",
    "\n",
    "dnn12, ax = plt.subplots()\n",
    "\n",
    "ax.bar(x_dnn, df12.iloc[:, 6], width = .4, edgecolor = 'white', linewidth = 1, color = 'skyblue', label = 'Actual')\n",
    "ax.bar(x_dnn + 0.4, dnnListData, width = .4, edgecolor = 'white', linewidth = 1, color = 'C1', label = 'Predicted')\n",
    "\n",
    "labels = dnnListNames\n",
    "\n",
    "rects = ax.patches\n",
    "for rect, label in zip(rects, labels):\n",
    "    if rect.get_x() > 4:\n",
    "        ax.text(rect.get_x() + rect.get_width() / 1.75, rect.get_height() + .02, label,\n",
    "        ha='center', va='bottom', rotation = 'vertical', color = 'black')\n",
    "    elif rect.get_x() <= 4:\n",
    "        height = .06\n",
    "        ax.text(rect.get_x() + rect.get_width() / 1.75, height, label,\n",
    "        ha='center', va='bottom', rotation = 'vertical', color = 'black')\n",
    "        \n",
    "dnn12.suptitle(\"DNN predicted MVP share: 2012\", weight = 'bold', size = 18, y = 1.005)\n",
    "ax.set_title(\"http://dribbleanalytics.blogspot.com.\", size = 14, fontname = 'Rockwell')\n",
    "ax.xaxis.set_visible(False)\n",
    "ax.set_ylabel(\"Vote Share\")\n",
    "ax.legend(loc='best', prop={'size': 9, \"family\": \"Rockwell\"}, ncol = 2)\n",
    "an1 = ax.annotate(\"Predicted MVP: LeBron James\\nActual MVP: LeBron James\", xy = (.6, 0.74), xycoords = 'data', xytext = (2, .7),\n",
    "            fontname = 'Rockwell', bbox=dict(boxstyle=\"round\", fc = 'white'), arrowprops=dict(facecolor = 'C4')\n",
    "           )\n",
    "\n",
    "dnn12.savefig('dnn-12.png', dpi = 400, bbox_inches = 'tight')"
   ]
  },
  {
   "cell_type": "markdown",
   "metadata": {},
   "source": [
    "## Average"
   ]
  },
  {
   "cell_type": "code",
   "execution_count": null,
   "metadata": {
    "scrolled": false
   },
   "outputs": [],
   "source": [
    "avgListData = []\n",
    "\n",
    "for (i, j, h, k) in zip(svrListData, rfListData, knnListData, dnnListData):\n",
    "    avgListData.append(float((i + j + h + k) / 4))\n",
    "    \n",
    "print(avgListData)\n",
    "    \n",
    "x_avg = np.arange(len(avgListData))\n",
    "\n",
    "plt.style.use('fivethirtyeight')\n",
    "\n",
    "avg12, ax = plt.subplots()\n",
    "\n",
    "ax.bar(x_avg, df12.iloc[:, 6], width = .4, edgecolor = 'white', linewidth = 1, color = 'skyblue', label = 'Actual')\n",
    "ax.bar(x_avg + 0.4, avgListData, width = .4, edgecolor = 'white', linewidth = 1, color = 'C1', label = 'Predicted')\n",
    "\n",
    "labels = df12Names\n",
    "\n",
    "rects = ax.patches\n",
    "for rect, label in zip(rects, labels):\n",
    "    if rect.get_x() > 4:\n",
    "        ax.text(rect.get_x() + rect.get_width() / 1.75, rect.get_height() + .02, label,\n",
    "        ha='center', va='bottom', rotation = 'vertical', color = 'black')\n",
    "    elif rect.get_x() <= 4:\n",
    "        height = .06\n",
    "        ax.text(rect.get_x() + rect.get_width() / 1.75, height, label,\n",
    "        ha='center', va='bottom', rotation = 'vertical', color = 'black')\n",
    "        \n",
    "avg12.suptitle(\"Average predicted MVP share: 2012\", weight = 'bold', size = 18, y = 1.005)\n",
    "ax.set_title(\"http://dribbleanalytics.blogspot.com.\", size = 14, fontname = 'Rockwell')\n",
    "ax.xaxis.set_visible(False)\n",
    "ax.set_ylabel(\"Vote Share\")\n",
    "ax.legend(loc='best', prop={'size': 9, \"family\": \"Rockwell\"}, ncol = 2)\n",
    "an1 = ax.annotate(\"Predicted MVP: LeBron James\\nActual MVP: LeBron James\", xy = (.6, 0.67), xycoords = 'data', xytext = (2, .72),\n",
    "            fontname = 'Rockwell', bbox=dict(boxstyle=\"round\", fc = 'white'), arrowprops=dict(facecolor = 'C4')\n",
    "           )\n",
    "\n",
    "avg12.savefig('avg-12.png', dpi = 400, bbox_inches = 'tight')"
   ]
  },
  {
   "cell_type": "markdown",
   "metadata": {},
   "source": [
    "# Predictions: 2013"
   ]
  },
  {
   "cell_type": "code",
   "execution_count": null,
   "metadata": {},
   "outputs": [],
   "source": [
    "df13 = pd.read_csv('13-mvp.csv')\n",
    "df13Names = df13.iloc[:, 1]\n",
    "df13Predict = df13[['G', 'MP', 'Team Wins', 'Overall Seed', 'PTS', 'TRB', 'AST', 'STL', 'BLK', 'FG%', '3P%', 'FT%',  'WS', 'VORP', 'BPM']]\n",
    "\n",
    "df13.head()"
   ]
  },
  {
   "cell_type": "markdown",
   "metadata": {},
   "source": [
    "## SVR "
   ]
  },
  {
   "cell_type": "code",
   "execution_count": null,
   "metadata": {},
   "outputs": [],
   "source": [
    "svrPredict13 = svr.predict(df13Predict)\n",
    "svrPredict13 = svrPredict13.tolist()\n",
    "\n",
    "for (i, j) in zip(df13Names, svrPredict13):\n",
    "    print(i, j)"
   ]
  },
  {
   "cell_type": "code",
   "execution_count": null,
   "metadata": {},
   "outputs": [],
   "source": [
    "svrList = [[i, j] for i, j in zip(df13Names, svrPredict13)]\n",
    "\n",
    "svrListData = [row[1] for row in svrList]\n",
    "svrListNames = [row[0] for row in svrList]\n",
    "print(svrList)\n",
    "\n",
    "x_svr = np.arange(len(svrListData))"
   ]
  },
  {
   "cell_type": "code",
   "execution_count": null,
   "metadata": {},
   "outputs": [],
   "source": [
    "plt.style.use('fivethirtyeight')\n",
    "\n",
    "svr13, ax = plt.subplots()\n",
    "\n",
    "ax.bar(x_svr, df13.iloc[:, 6], width = .4, edgecolor = 'white', linewidth = 1, color = 'skyblue', label = 'Actual')\n",
    "ax.bar(x_svr + 0.4, svrListData, width = .4, edgecolor = 'white', linewidth = 1, color = 'C1', label = 'Predicted')\n",
    "\n",
    "labels = svrListNames\n",
    "\n",
    "rects = ax.patches\n",
    "for rect, label in zip(rects, labels):\n",
    "    if rect.get_x() > 3:\n",
    "        ax.text(rect.get_x() + rect.get_width() / 1.75, rect.get_height() + .02, label,\n",
    "        ha='center', va='bottom', rotation = 'vertical', color = 'black')\n",
    "    elif rect.get_x() <= 3:\n",
    "        height = .06\n",
    "        ax.text(rect.get_x() + rect.get_width() / 1.75, height, label,\n",
    "        ha='center', va='bottom', rotation = 'vertical', color = 'black')\n",
    "        \n",
    "svr13.suptitle(\"SVM predicted MVP share: 2013\", weight = 'bold', size = 18, y = 1.005)\n",
    "ax.set_title(\"http://dribbleanalytics.blogspot.com.\", size = 14, fontname = 'Rockwell')\n",
    "ax.xaxis.set_visible(False)\n",
    "ax.set_ylabel(\"Vote Share\")\n",
    "ax.legend(loc='best', prop={'size': 9, \"family\": \"Rockwell\"}, ncol = 2)\n",
    "an1 = ax.annotate(\"Predicted MVP: LeBron James\\nActual MVP: LeBron James\", xy = (.6, 0.86), xycoords = 'data', xytext = (2, .79),\n",
    "            fontname = 'Rockwell', bbox=dict(boxstyle=\"round\", fc = 'white'), arrowprops=dict(facecolor = 'C4')\n",
    "           )\n",
    "\n",
    "svr13.savefig('svr-13.png', dpi = 400, bbox_inches = 'tight')"
   ]
  },
  {
   "cell_type": "markdown",
   "metadata": {},
   "source": [
    "## RF"
   ]
  },
  {
   "cell_type": "code",
   "execution_count": null,
   "metadata": {},
   "outputs": [],
   "source": [
    "rfPredict13 = rf.predict(df13Predict)\n",
    "rfPredict13 = rfPredict13.tolist()\n",
    "\n",
    "for (i, j) in zip(df13Names, rfPredict13):\n",
    "    print(i, j)"
   ]
  },
  {
   "cell_type": "code",
   "execution_count": null,
   "metadata": {},
   "outputs": [],
   "source": [
    "rfList = [[i, j] for i, j in zip(df13Names, rfPredict13)]\n",
    "\n",
    "rfListData = [row[1] for row in rfList]\n",
    "rfListNames = [row[0] for row in rfList]\n",
    "print(rfList)\n",
    "\n",
    "x_rf = np.arange(len(rfListData))"
   ]
  },
  {
   "cell_type": "code",
   "execution_count": null,
   "metadata": {},
   "outputs": [],
   "source": [
    "plt.style.use('fivethirtyeight')\n",
    "\n",
    "rf13, ax = plt.subplots()\n",
    "\n",
    "ax.bar(x_rf, df13.iloc[:, 6], width = .4, edgecolor = 'white', linewidth = 1, color = 'skyblue', label = 'Actual')\n",
    "ax.bar(x_rf + 0.4, rfListData, width = .4, edgecolor = 'white', linewidth = 1, color = 'C1', label = 'Predicted')\n",
    "\n",
    "labels = rfListNames\n",
    "\n",
    "rects = ax.patches\n",
    "for rect, label in zip(rects, labels):\n",
    "    if rect.get_x() > 3:\n",
    "        ax.text(rect.get_x() + rect.get_width() / 1.75, rect.get_height() + .02, label,\n",
    "        ha='center', va='bottom', rotation = 'vertical', color = 'black')\n",
    "    elif rect.get_x() <= 3:\n",
    "        height = .06\n",
    "        ax.text(rect.get_x() + rect.get_width() / 1.75, height, label,\n",
    "        ha='center', va='bottom', rotation = 'vertical', color = 'black')\n",
    "        \n",
    "rf13.suptitle(\"RF predicted MVP share: 2013\", weight = 'bold', size = 18, y = 1.005)\n",
    "ax.set_title(\"http://dribbleanalytics.blogspot.com.\", size = 14, fontname = 'Rockwell')\n",
    "ax.xaxis.set_visible(False)\n",
    "ax.set_ylabel(\"Vote Share\")\n",
    "ax.legend(loc='best', prop={'size': 9, \"family\": \"Rockwell\"}, ncol = 2)\n",
    "an1 = ax.annotate(\"Predicted MVP: LeBron James\\nActual MVP: LeBron James\", xy = (.6, 0.86), xycoords = 'data', xytext = (2, .79),\n",
    "            fontname = 'Rockwell', bbox=dict(boxstyle=\"round\", fc = 'white'), arrowprops=dict(facecolor = 'C4')\n",
    "           )\n",
    "\n",
    "rf13.savefig('rf-13.png', dpi = 400, bbox_inches = 'tight')"
   ]
  },
  {
   "cell_type": "markdown",
   "metadata": {},
   "source": [
    "## k-NN"
   ]
  },
  {
   "cell_type": "code",
   "execution_count": null,
   "metadata": {},
   "outputs": [],
   "source": [
    "knnPredict13 = knn.predict(df13Predict)\n",
    "knnPredict13 = knnPredict13.tolist()\n",
    "knnPredict13 = [row[0] for row in knnPredict13]\n",
    "for (i, j) in zip(df13Names, knnPredict13):\n",
    "    print(i, j)"
   ]
  },
  {
   "cell_type": "code",
   "execution_count": null,
   "metadata": {},
   "outputs": [],
   "source": [
    "knnList = [[i, j] for i, j in zip(df13Names, knnPredict13)]\n",
    "\n",
    "knnListData = [row[1] for row in knnList]\n",
    "knnListNames = [row[0] for row in knnList]\n",
    "print(knnList)\n",
    "\n",
    "x_knn = np.arange(len(knnListData))"
   ]
  },
  {
   "cell_type": "code",
   "execution_count": null,
   "metadata": {},
   "outputs": [],
   "source": [
    "plt.style.use('fivethirtyeight')\n",
    "\n",
    "knn13, ax = plt.subplots()\n",
    "\n",
    "ax.bar(x_knn, df13.iloc[:, 6], width = .4, edgecolor = 'white', linewidth = 1, color = 'skyblue', label = 'Actual')\n",
    "ax.bar(x_knn + 0.4, knnListData, width = .4, edgecolor = 'white', linewidth = 1, color = 'C1', label = 'Predicted')\n",
    "\n",
    "labels = knnListNames\n",
    "\n",
    "rects = ax.patches\n",
    "for rect, label in zip(rects, labels):\n",
    "    if rect.get_x() > 3:\n",
    "        ax.text(rect.get_x() + rect.get_width() / 1.75, rect.get_height() + .02, label,\n",
    "        ha='center', va='bottom', rotation = 'vertical', color = 'black')\n",
    "    elif rect.get_x() <= 3:\n",
    "        height = .06\n",
    "        ax.text(rect.get_x() + rect.get_width() / 1.75, height, label,\n",
    "        ha='center', va='bottom', rotation = 'vertical', color = 'black')\n",
    "        \n",
    "knn13.suptitle(\"KNN predicted MVP share: 2013\", weight = 'bold', size = 18, y = 1.005)\n",
    "ax.set_title(\"http://dribbleanalytics.blogspot.com.\", size = 14, fontname = 'Rockwell')\n",
    "ax.xaxis.set_visible(False)\n",
    "ax.set_ylabel(\"Vote Share\")\n",
    "ax.legend(loc='best', prop={'size': 9, \"family\": \"Rockwell\"}, ncol = 2)\n",
    "an1 = ax.annotate(\"Predicted MVP: LeBron James\\nActual MVP: LeBron James\", xy = (.6, 0.88), xycoords = 'data', xytext = (2, .79),\n",
    "            fontname = 'Rockwell', bbox=dict(boxstyle=\"round\", fc = 'white'), arrowprops=dict(facecolor = 'C4')\n",
    "           )\n",
    "\n",
    "knn13.savefig('knn-13.png', dpi = 400, bbox_inches = 'tight')"
   ]
  },
  {
   "cell_type": "markdown",
   "metadata": {},
   "source": [
    "## DNN"
   ]
  },
  {
   "cell_type": "code",
   "execution_count": null,
   "metadata": {},
   "outputs": [],
   "source": [
    "dnnPredict13 = dnn.predict(df13Predict)\n",
    "dnnPredict13 = dnnPredict13.tolist()\n",
    "\n",
    "for (i, j) in zip(df13Names, dnnPredict13):\n",
    "    print(i, j)"
   ]
  },
  {
   "cell_type": "code",
   "execution_count": null,
   "metadata": {},
   "outputs": [],
   "source": [
    "dnnList = [[i, j] for i, j in zip(df13Names, dnnPredict13)]\n",
    "\n",
    "dnnListData = [row[1] for row in dnnList]\n",
    "dnnListNames = [row[0] for row in dnnList]\n",
    "print(dnnList)\n",
    "\n",
    "x_dnn = np.arange(len(dnnListData))"
   ]
  },
  {
   "cell_type": "code",
   "execution_count": null,
   "metadata": {},
   "outputs": [],
   "source": [
    "plt.style.use('fivethirtyeight')\n",
    "\n",
    "dnn13, ax = plt.subplots()\n",
    "\n",
    "ax.bar(x_dnn, df13.iloc[:, 6], width = .4, edgecolor = 'white', linewidth = 1, color = 'skyblue', label = 'Actual')\n",
    "ax.bar(x_dnn + 0.4, dnnListData, width = .4, edgecolor = 'white', linewidth = 1, color = 'C1', label = 'Predicted')\n",
    "\n",
    "labels = dnnListNames\n",
    "\n",
    "rects = ax.patches\n",
    "for rect, label in zip(rects, labels):\n",
    "    if rect.get_x() > 3:\n",
    "        ax.text(rect.get_x() + rect.get_width() / 1.75, rect.get_height() + .02, label,\n",
    "        ha='center', va='bottom', rotation = 'vertical', color = 'black')\n",
    "    elif rect.get_x() <= 3:\n",
    "        height = .06\n",
    "        ax.text(rect.get_x() + rect.get_width() / 1.75, height, label,\n",
    "        ha='center', va='bottom', rotation = 'vertical', color = 'black')\n",
    "        \n",
    "dnn13.suptitle(\"DNN predicted MVP share: 2013\", weight = 'bold', size = 18, y = 1.005)\n",
    "ax.set_title(\"http://dribbleanalytics.blogspot.com.\", size = 14, fontname = 'Rockwell')\n",
    "ax.xaxis.set_visible(False)\n",
    "ax.set_ylabel(\"Vote Share\")\n",
    "ax.legend(loc='best', prop={'size': 9, \"family\": \"Rockwell\"}, ncol = 2)\n",
    "an1 = ax.annotate(\"Predicted MVP: LeBron James\\nActual MVP: LeBron James\", xy = (.6, 0.7), xycoords = 'data', xytext = (2, .79),\n",
    "            fontname = 'Rockwell', bbox=dict(boxstyle=\"round\", fc = 'white'), arrowprops=dict(facecolor = 'C4')\n",
    "           )\n",
    "\n",
    "dnn13.savefig('dnn-13.png', dpi = 400, bbox_inches = 'tight')"
   ]
  },
  {
   "cell_type": "markdown",
   "metadata": {},
   "source": [
    "## Average"
   ]
  },
  {
   "cell_type": "code",
   "execution_count": null,
   "metadata": {
    "scrolled": false
   },
   "outputs": [],
   "source": [
    "avgListData = []\n",
    "\n",
    "for (i, j, h, k) in zip(svrListData, rfListData, knnListData, dnnListData):\n",
    "    avgListData.append(float((i + j + h + k) / 4))\n",
    "    \n",
    "print(avgListData)\n",
    "    \n",
    "x_avg = np.arange(len(avgListData))\n",
    "\n",
    "plt.style.use('fivethirtyeight')\n",
    "\n",
    "avg13, ax = plt.subplots()\n",
    "\n",
    "ax.bar(x_avg, df13.iloc[:, 6], width = .4, edgecolor = 'white', linewidth = 1, color = 'skyblue', label = 'Actual')\n",
    "ax.bar(x_avg + 0.4, avgListData, width = .4, edgecolor = 'white', linewidth = 1, color = 'C1', label = 'Predicted')\n",
    "\n",
    "labels = df13Names\n",
    "\n",
    "rects = ax.patches\n",
    "for rect, label in zip(rects, labels):\n",
    "    if rect.get_x() > 3:\n",
    "        ax.text(rect.get_x() + rect.get_width() / 1.75, rect.get_height() + .02, label,\n",
    "        ha='center', va='bottom', rotation = 'vertical', color = 'black')\n",
    "    elif rect.get_x() <= 3:\n",
    "        height = .06\n",
    "        ax.text(rect.get_x() + rect.get_width() / 1.75, height, label,\n",
    "        ha='center', va='bottom', rotation = 'vertical', color = 'black')\n",
    "        \n",
    "avg13.suptitle(\"Average predicted MVP share: 2013\", weight = 'bold', size = 18, y = 1.005)\n",
    "ax.set_title(\"http://dribbleanalytics.blogspot.com.\", size = 14, fontname = 'Rockwell')\n",
    "ax.xaxis.set_visible(False)\n",
    "ax.set_ylabel(\"Vote Share\")\n",
    "ax.legend(loc='best', prop={'size': 9, \"family\": \"Rockwell\"}, ncol = 2)\n",
    "an1 = ax.annotate(\"Predicted MVP: LeBron James\\nActual MVP: LeBron James\", xy = (.6, 0.82), xycoords = 'data', xytext = (2, .79),\n",
    "            fontname = 'Rockwell', bbox=dict(boxstyle=\"round\", fc = 'white'), arrowprops=dict(facecolor = 'C4')\n",
    "           )\n",
    "\n",
    "avg13.savefig('avg-13.png', dpi = 400, bbox_inches = 'tight')"
   ]
  },
  {
   "cell_type": "markdown",
   "metadata": {},
   "source": [
    "# Predictions: 2014"
   ]
  },
  {
   "cell_type": "code",
   "execution_count": null,
   "metadata": {},
   "outputs": [],
   "source": [
    "df14 = pd.read_csv('14-mvp.csv')\n",
    "df14Names = df14.iloc[:, 1]\n",
    "df14Predict = df14[['G', 'MP', 'Team Wins', 'Overall Seed', 'PTS', 'TRB', 'AST', 'STL', 'BLK', 'FG%', '3P%', 'FT%',  'WS', 'VORP', 'BPM']]\n",
    "\n",
    "df14.head()"
   ]
  },
  {
   "cell_type": "markdown",
   "metadata": {},
   "source": [
    "## SVR "
   ]
  },
  {
   "cell_type": "code",
   "execution_count": null,
   "metadata": {},
   "outputs": [],
   "source": [
    "svrPredict14 = svr.predict(df14Predict)\n",
    "svrPredict14 = svrPredict14.tolist()\n",
    "\n",
    "for (i, j) in zip(df14Names, svrPredict14):\n",
    "    print(i, j)"
   ]
  },
  {
   "cell_type": "code",
   "execution_count": null,
   "metadata": {},
   "outputs": [],
   "source": [
    "svrList = [[i, j] for i, j in zip(df14Names, svrPredict14)]\n",
    "\n",
    "svrListData = [row[1] for row in svrList]\n",
    "svrListNames = [row[0] for row in svrList]\n",
    "print(svrList)\n",
    "\n",
    "x_svr = np.arange(len(svrListData))"
   ]
  },
  {
   "cell_type": "code",
   "execution_count": null,
   "metadata": {},
   "outputs": [],
   "source": [
    "plt.style.use('fivethirtyeight')\n",
    "\n",
    "svr14, ax = plt.subplots()\n",
    "\n",
    "ax.bar(x_svr, df14.iloc[:, 6], width = .4, edgecolor = 'white', linewidth = 1, color = 'skyblue', label = 'Actual')\n",
    "ax.bar(x_svr + 0.4, svrListData, width = .4, edgecolor = 'white', linewidth = 1, color = 'C1', label = 'Predicted')\n",
    "\n",
    "labels = svrListNames\n",
    "\n",
    "rects = ax.patches\n",
    "for rect, label in zip(rects, labels):\n",
    "    if rect.get_x() > 1:\n",
    "        ax.text(rect.get_x() + rect.get_width() / 1.75, rect.get_height() + .02, label,\n",
    "        ha='center', va='bottom', rotation = 'vertical', color = 'black')\n",
    "    elif rect.get_x() <= 1:\n",
    "        height = .06\n",
    "        ax.text(rect.get_x() + rect.get_width() / 1.75, height, label,\n",
    "        ha='center', va='bottom', rotation = 'vertical', color = 'black')\n",
    "        \n",
    "svr14.suptitle(\"SVM predicted MVP share: 2014\", weight = 'bold', size = 18, y = 1.005)\n",
    "ax.set_title(\"http://dribbleanalytics.blogspot.com.\", size = 14, fontname = 'Rockwell')\n",
    "ax.xaxis.set_visible(False)\n",
    "ax.set_ylabel(\"Vote Share\")\n",
    "ax.legend(loc='best', prop={'size': 9, \"family\": \"Rockwell\"}, ncol = 2)\n",
    "an1 = ax.annotate(\"Predicted MVP: Kevin Durant\\nActual MVP: Kevin Durant\", xy = (.6, 0.78), xycoords = 'data', xytext = (2, .79),\n",
    "            fontname = 'Rockwell', bbox=dict(boxstyle=\"round\", fc = 'white'), arrowprops=dict(facecolor = 'C4')\n",
    "           )\n",
    "\n",
    "svr14.savefig('svr-14.png', dpi = 400, bbox_inches = 'tight')"
   ]
  },
  {
   "cell_type": "markdown",
   "metadata": {},
   "source": [
    "## RF"
   ]
  },
  {
   "cell_type": "code",
   "execution_count": null,
   "metadata": {},
   "outputs": [],
   "source": [
    "rfPredict14 = rf.predict(df14Predict)\n",
    "rfPredict14 = rfPredict14.tolist()\n",
    "\n",
    "for (i, j) in zip(df14Names, rfPredict14):\n",
    "    print(i, j)"
   ]
  },
  {
   "cell_type": "code",
   "execution_count": null,
   "metadata": {},
   "outputs": [],
   "source": [
    "rfList = [[i, j] for i, j in zip(df14Names, rfPredict14)]\n",
    "\n",
    "rfListData = [row[1] for row in rfList]\n",
    "rfListNames = [row[0] for row in rfList]\n",
    "print(rfList)\n",
    "\n",
    "x_rf = np.arange(len(rfListData))"
   ]
  },
  {
   "cell_type": "code",
   "execution_count": null,
   "metadata": {},
   "outputs": [],
   "source": [
    "plt.style.use('fivethirtyeight')\n",
    "\n",
    "rf14, ax = plt.subplots()\n",
    "\n",
    "ax.bar(x_rf, df14.iloc[:, 6], width = .4, edgecolor = 'white', linewidth = 1, color = 'skyblue', label = 'Actual')\n",
    "ax.bar(x_rf + 0.4, rfListData, width = .4, edgecolor = 'white', linewidth = 1, color = 'C1', label = 'Predicted')\n",
    "\n",
    "labels = rfListNames\n",
    "\n",
    "rects = ax.patches\n",
    "for rect, label in zip(rects, labels):\n",
    "    if rect.get_x() > 1:\n",
    "        ax.text(rect.get_x() + rect.get_width() / 1.75, rect.get_height() + .02, label,\n",
    "        ha='center', va='bottom', rotation = 'vertical', color = 'black')\n",
    "    elif rect.get_x() <= 1:\n",
    "        height = .06\n",
    "        ax.text(rect.get_x() + rect.get_width() / 1.75, height, label,\n",
    "        ha='center', va='bottom', rotation = 'vertical', color = 'black')\n",
    "        \n",
    "rf14.suptitle(\"RF predicted MVP share: 2014\", weight = 'bold', size = 18, y = 1.005)\n",
    "ax.set_title(\"http://dribbleanalytics.blogspot.com.\", size = 14, fontname = 'Rockwell')\n",
    "ax.xaxis.set_visible(False)\n",
    "ax.set_ylabel(\"Vote Share\")\n",
    "ax.legend(loc='best', prop={'size': 9, \"family\": \"Rockwell\"}, ncol = 2)\n",
    "an1 = ax.annotate(\"Predicted MVP: Kevin Durant\\nActual MVP: Kevin Durant\", xy = (.6, 0.78), xycoords = 'data', xytext = (2, .79),\n",
    "            fontname = 'Rockwell', bbox=dict(boxstyle=\"round\", fc = 'white'), arrowprops=dict(facecolor = 'C4')\n",
    "           )\n",
    "\n",
    "rf14.savefig('rf-14.png', dpi = 400, bbox_inches = 'tight')"
   ]
  },
  {
   "cell_type": "markdown",
   "metadata": {},
   "source": [
    "## k-NN"
   ]
  },
  {
   "cell_type": "code",
   "execution_count": null,
   "metadata": {},
   "outputs": [],
   "source": [
    "knnPredict14 = knn.predict(df14Predict)\n",
    "knnPredict14 = knnPredict14.tolist()\n",
    "knnPredict14 = [row[0] for row in knnPredict14]\n",
    "for (i, j) in zip(df14Names, knnPredict14):\n",
    "    print(i, j)"
   ]
  },
  {
   "cell_type": "code",
   "execution_count": null,
   "metadata": {},
   "outputs": [],
   "source": [
    "knnList = [[i, j] for i, j in zip(df14Names, knnPredict14)]\n",
    "\n",
    "knnListData = [row[1] for row in knnList]\n",
    "knnListNames = [row[0] for row in knnList]\n",
    "print(knnList)\n",
    "\n",
    "x_knn = np.arange(len(knnListData))"
   ]
  },
  {
   "cell_type": "code",
   "execution_count": null,
   "metadata": {},
   "outputs": [],
   "source": [
    "plt.style.use('fivethirtyeight')\n",
    "\n",
    "knn14, ax = plt.subplots()\n",
    "\n",
    "ax.bar(x_knn, df14.iloc[:, 6], width = .4, edgecolor = 'white', linewidth = 1, color = 'skyblue', label = 'Actual')\n",
    "ax.bar(x_knn + 0.4, knnListData, width = .4, edgecolor = 'white', linewidth = 1, color = 'C1', label = 'Predicted')\n",
    "\n",
    "labels = knnListNames\n",
    "\n",
    "rects = ax.patches\n",
    "for rect, label in zip(rects, labels):\n",
    "    if rect.get_x() > 1:\n",
    "        ax.text(rect.get_x() + rect.get_width() / 1.75, rect.get_height() + .02, label,\n",
    "        ha='center', va='bottom', rotation = 'vertical', color = 'black')\n",
    "    elif rect.get_x() <= 1:\n",
    "        height = .06\n",
    "        ax.text(rect.get_x() + rect.get_width() / 1.75, height, label,\n",
    "        ha='center', va='bottom', rotation = 'vertical', color = 'black')\n",
    "        \n",
    "knn14.suptitle(\"KNN predicted MVP share: 2014\", weight = 'bold', size = 18, y = 1.005)\n",
    "ax.set_title(\"http://dribbleanalytics.blogspot.com.\", size = 14, fontname = 'Rockwell')\n",
    "ax.xaxis.set_visible(False)\n",
    "ax.set_ylabel(\"Vote Share\")\n",
    "ax.legend(loc='best', prop={'size': 9, \"family\": \"Rockwell\"}, ncol = 2)\n",
    "an1 = ax.annotate(\"Predicted MVP: Kevin Durant\\nActual MVP: Kevin Durant\", xy = (.6, 0.73), xycoords = 'data', xytext = (2, .79),\n",
    "            fontname = 'Rockwell', bbox=dict(boxstyle=\"round\", fc = 'white'), arrowprops=dict(facecolor = 'C4')\n",
    "           )\n",
    "\n",
    "knn14.savefig('knn-14.png', dpi = 400, bbox_inches = 'tight')"
   ]
  },
  {
   "cell_type": "markdown",
   "metadata": {},
   "source": [
    "## DNN"
   ]
  },
  {
   "cell_type": "code",
   "execution_count": null,
   "metadata": {},
   "outputs": [],
   "source": [
    "dnnPredict14 = dnn.predict(df14Predict)\n",
    "dnnPredict14 = dnnPredict14.tolist()\n",
    "\n",
    "for (i, j) in zip(df14Names, dnnPredict14):\n",
    "    print(i, j)"
   ]
  },
  {
   "cell_type": "code",
   "execution_count": null,
   "metadata": {},
   "outputs": [],
   "source": [
    "dnnList = [[i, j] for i, j in zip(df14Names, dnnPredict14)]\n",
    "\n",
    "dnnListData = [row[1] for row in dnnList]\n",
    "dnnListNames = [row[0] for row in dnnList]\n",
    "print(dnnList)\n",
    "\n",
    "x_dnn = np.arange(len(dnnListData))"
   ]
  },
  {
   "cell_type": "code",
   "execution_count": null,
   "metadata": {},
   "outputs": [],
   "source": [
    "plt.style.use('fivethirtyeight')\n",
    "\n",
    "dnn14, ax = plt.subplots()\n",
    "\n",
    "ax.bar(x_dnn, df14.iloc[:, 6], width = .4, edgecolor = 'white', linewidth = 1, color = 'skyblue', label = 'Actual')\n",
    "ax.bar(x_dnn + 0.4, dnnListData, width = .4, edgecolor = 'white', linewidth = 1, color = 'C1', label = 'Predicted')\n",
    "\n",
    "labels = dnnListNames\n",
    "\n",
    "rects = ax.patches\n",
    "for rect, label in zip(rects, labels):\n",
    "    if rect.get_x() > 1:\n",
    "        ax.text(rect.get_x() + rect.get_width() / 1.75, rect.get_height() + .02, label,\n",
    "        ha='center', va='bottom', rotation = 'vertical', color = 'black')\n",
    "    elif rect.get_x() <= 1:\n",
    "        height = .06\n",
    "        ax.text(rect.get_x() + rect.get_width() / 1.75, height, label,\n",
    "        ha='center', va='bottom', rotation = 'vertical', color = 'black')\n",
    "        \n",
    "dnn14.suptitle(\"DNN predicted MVP share: 2014\", weight = 'bold', size = 18, y = 1.005)\n",
    "ax.set_title(\"http://dribbleanalytics.blogspot.com.\", size = 14, fontname = 'Rockwell')\n",
    "ax.xaxis.set_visible(False)\n",
    "ax.set_ylabel(\"Vote Share\")\n",
    "ax.legend(loc='best', prop={'size': 9, \"family\": \"Rockwell\"}, ncol = 2)\n",
    "an1 = ax.annotate(\"Predicted MVP: LeBron James\\nActual MVP: LeBron James\", xy = (.6, 0.75), xycoords = 'data', xytext = (2, .81),\n",
    "            fontname = 'Rockwell', bbox=dict(boxstyle=\"round\", fc = 'white'), arrowprops=dict(facecolor = 'C4')\n",
    "           )\n",
    "\n",
    "dnn14.savefig('dnn-14.png', dpi = 400, bbox_inches = 'tight')"
   ]
  },
  {
   "cell_type": "markdown",
   "metadata": {},
   "source": [
    "## Average"
   ]
  },
  {
   "cell_type": "code",
   "execution_count": null,
   "metadata": {
    "scrolled": false
   },
   "outputs": [],
   "source": [
    "avgListData = []\n",
    "\n",
    "for (i, j, h, k) in zip(svrListData, rfListData, knnListData, dnnListData):\n",
    "    avgListData.append(float((i + j + h + k) / 4))\n",
    "    \n",
    "print(avgListData)\n",
    "    \n",
    "x_avg = np.arange(len(avgListData))\n",
    "\n",
    "plt.style.use('fivethirtyeight')\n",
    "\n",
    "avg14, ax = plt.subplots()\n",
    "\n",
    "ax.bar(x_avg, df14.iloc[:, 6], width = .4, edgecolor = 'white', linewidth = 1, color = 'skyblue', label = 'Actual')\n",
    "ax.bar(x_avg + 0.4, avgListData, width = .4, edgecolor = 'white', linewidth = 1, color = 'C1', label = 'Predicted')\n",
    "\n",
    "labels = df14Names\n",
    "\n",
    "rects = ax.patches\n",
    "for rect, label in zip(rects, labels):\n",
    "    if rect.get_x() > 1:\n",
    "        ax.text(rect.get_x() + rect.get_width() / 1.75, rect.get_height() + .02, label,\n",
    "        ha='center', va='bottom', rotation = 'vertical', color = 'black')\n",
    "    elif rect.get_x() <= 1:\n",
    "        height = .06\n",
    "        ax.text(rect.get_x() + rect.get_width() / 1.75, height, label,\n",
    "        ha='center', va='bottom', rotation = 'vertical', color = 'black')\n",
    "        \n",
    "avg14.suptitle(\"Average predicted MVP share: 2014\", weight = 'bold', size = 18, y = 1.005)\n",
    "ax.set_title(\"http://dribbleanalytics.blogspot.com.\", size = 14, fontname = 'Rockwell')\n",
    "ax.xaxis.set_visible(False)\n",
    "ax.set_ylabel(\"Vote Share\")\n",
    "ax.legend(loc='best', prop={'size': 9, \"family\": \"Rockwell\"}, ncol = 2)\n",
    "an1 = ax.annotate(\"Predicted MVP: Kevin Durant\\nActual MVP: Kevin Durant\", xy = (.6, 0.76), xycoords = 'data', xytext = (2, .79),\n",
    "            fontname = 'Rockwell', bbox=dict(boxstyle=\"round\", fc = 'white'), arrowprops=dict(facecolor = 'C4')\n",
    "           )\n",
    "\n",
    "avg14.savefig('avg-14.png', dpi = 400, bbox_inches = 'tight')"
   ]
  },
  {
   "cell_type": "markdown",
   "metadata": {},
   "source": [
    "# Predictions: 2015"
   ]
  },
  {
   "cell_type": "code",
   "execution_count": null,
   "metadata": {},
   "outputs": [],
   "source": [
    "df15 = pd.read_csv('15-mvp.csv')\n",
    "df15Names = df15.iloc[:, 1]\n",
    "df15Predict = df15[['G', 'MP', 'Team Wins', 'Overall Seed', 'PTS', 'TRB', 'AST', 'STL', 'BLK', 'FG%', '3P%', 'FT%',  'WS', 'VORP', 'BPM']]\n",
    "\n",
    "df15.head()"
   ]
  },
  {
   "cell_type": "markdown",
   "metadata": {},
   "source": [
    "## SVR "
   ]
  },
  {
   "cell_type": "code",
   "execution_count": null,
   "metadata": {},
   "outputs": [],
   "source": [
    "svrPredict15 = svr.predict(df15Predict)\n",
    "svrPredict15 = svrPredict15.tolist()\n",
    "\n",
    "for (i, j) in zip(df15Names, svrPredict15):\n",
    "    print(i, j)"
   ]
  },
  {
   "cell_type": "code",
   "execution_count": null,
   "metadata": {},
   "outputs": [],
   "source": [
    "svrList = [[i, j] for i, j in zip(df15Names, svrPredict15)]\n",
    "\n",
    "svrListData = [row[1] for row in svrList]\n",
    "svrListNames = [row[0] for row in svrList]\n",
    "print(svrList)\n",
    "\n",
    "x_svr = np.arange(len(svrListData))"
   ]
  },
  {
   "cell_type": "code",
   "execution_count": null,
   "metadata": {},
   "outputs": [],
   "source": [
    "plt.style.use('fivethirtyeight')\n",
    "\n",
    "svr15, ax = plt.subplots()\n",
    "\n",
    "ax.bar(x_svr, df15.iloc[:, 6], width = .4, edgecolor = 'white', linewidth = 1, color = 'skyblue', label = 'Actual')\n",
    "ax.bar(x_svr + 0.4, svrListData, width = .4, edgecolor = 'white', linewidth = 1, color = 'C1', label = 'Predicted')\n",
    "\n",
    "labels = svrListNames\n",
    "\n",
    "rects = ax.patches\n",
    "for rect, label in zip(rects, labels):\n",
    "    if rect.get_x() > 2:\n",
    "        ax.text(rect.get_x() + rect.get_width() / 1.75, rect.get_height() + .02, label,\n",
    "        ha='center', va='bottom', rotation = 'vertical', color = 'black')\n",
    "    elif rect.get_x() <= 2:\n",
    "        height = .06\n",
    "        ax.text(rect.get_x() + rect.get_width() / 1.75, height, label,\n",
    "        ha='center', va='bottom', rotation = 'vertical', color = 'black')\n",
    "        \n",
    "svr15.suptitle(\"SVM predicted MVP share: 2015\", weight = 'bold', size = 18, y = 1.005)\n",
    "ax.set_title(\"http://dribbleanalytics.blogspot.com.\", size = 14, fontname = 'Rockwell')\n",
    "ax.xaxis.set_visible(False)\n",
    "ax.set_ylabel(\"Vote Share\")\n",
    "ax.legend(loc='best', prop={'size': 9, \"family\": \"Rockwell\"}, ncol = 2)\n",
    "an1 = ax.annotate(\"Predicted MVP: Steph Curry\\nActual MVP: Steph Curry\", xy = (.6, 0.54), xycoords = 'data', xytext = (2, .75),\n",
    "            fontname = 'Rockwell', bbox=dict(boxstyle=\"round\", fc = 'white'), arrowprops=dict(facecolor = 'C4')\n",
    "           )\n",
    "\n",
    "svr15.savefig('svr-15.png', dpi = 400, bbox_inches = 'tight')"
   ]
  },
  {
   "cell_type": "markdown",
   "metadata": {},
   "source": [
    "## RF"
   ]
  },
  {
   "cell_type": "code",
   "execution_count": null,
   "metadata": {},
   "outputs": [],
   "source": [
    "rfPredict15 = rf.predict(df15Predict)\n",
    "rfPredict15 = rfPredict15.tolist()\n",
    "\n",
    "for (i, j) in zip(df15Names, rfPredict15):\n",
    "    print(i, j)"
   ]
  },
  {
   "cell_type": "code",
   "execution_count": null,
   "metadata": {},
   "outputs": [],
   "source": [
    "rfList = [[i, j] for i, j in zip(df15Names, rfPredict15)]\n",
    "\n",
    "rfListData = [row[1] for row in rfList]\n",
    "rfListNames = [row[0] for row in rfList]\n",
    "print(rfList)\n",
    "\n",
    "x_rf = np.arange(len(rfListData))"
   ]
  },
  {
   "cell_type": "code",
   "execution_count": null,
   "metadata": {},
   "outputs": [],
   "source": [
    "plt.style.use('fivethirtyeight')\n",
    "\n",
    "rf15, ax = plt.subplots()\n",
    "\n",
    "ax.bar(x_rf, df15.iloc[:, 6], width = .4, edgecolor = 'white', linewidth = 1, color = 'skyblue', label = 'Actual')\n",
    "ax.bar(x_rf + 0.4, rfListData, width = .4, edgecolor = 'white', linewidth = 1, color = 'C1', label = 'Predicted')\n",
    "\n",
    "labels = rfListNames\n",
    "\n",
    "rects = ax.patches\n",
    "for rect, label in zip(rects, labels):\n",
    "    if rect.get_x() > 2:\n",
    "        ax.text(rect.get_x() + rect.get_width() / 1.75, rect.get_height() + .02, label,\n",
    "        ha='center', va='bottom', rotation = 'vertical', color = 'black')\n",
    "    elif rect.get_x() <= 2:\n",
    "        height = .06\n",
    "        ax.text(rect.get_x() + rect.get_width() / 1.75, height, label,\n",
    "        ha='center', va='bottom', rotation = 'vertical', color = 'black')\n",
    "        \n",
    "rf15.suptitle(\"RF predicted MVP share: 2015\", weight = 'bold', size = 18, y = 1.005)\n",
    "ax.set_title(\"http://dribbleanalytics.blogspot.com.\", size = 14, fontname = 'Rockwell')\n",
    "ax.xaxis.set_visible(False)\n",
    "ax.set_ylabel(\"Vote Share\")\n",
    "ax.legend(loc='best', prop={'size': 9, \"family\": \"Rockwell\"}, ncol = 2)\n",
    "an1 = ax.annotate(\"Predicted MVP: Steph Curry\\nActual MVP: Steph Curry\", xy = (.6, 0.73), xycoords = 'data', xytext = (2, .78),\n",
    "            fontname = 'Rockwell', bbox=dict(boxstyle=\"round\", fc = 'white'), arrowprops=dict(facecolor = 'C4')\n",
    "           )\n",
    "\n",
    "rf15.savefig('rf-15.png', dpi = 400, bbox_inches = 'tight')"
   ]
  },
  {
   "cell_type": "markdown",
   "metadata": {},
   "source": [
    "## k-NN"
   ]
  },
  {
   "cell_type": "code",
   "execution_count": null,
   "metadata": {},
   "outputs": [],
   "source": [
    "knnPredict15 = knn.predict(df15Predict)\n",
    "knnPredict15 = knnPredict15.tolist()\n",
    "knnPredict15 = [row[0] for row in knnPredict15]\n",
    "for (i, j) in zip(df15Names, knnPredict15):\n",
    "    print(i, j)"
   ]
  },
  {
   "cell_type": "code",
   "execution_count": null,
   "metadata": {},
   "outputs": [],
   "source": [
    "knnList = [[i, j] for i, j in zip(df15Names, knnPredict15)]\n",
    "\n",
    "knnListData = [row[1] for row in knnList]\n",
    "knnListNames = [row[0] for row in knnList]\n",
    "print(knnList)\n",
    "\n",
    "x_knn = np.arange(len(knnListData))"
   ]
  },
  {
   "cell_type": "code",
   "execution_count": null,
   "metadata": {},
   "outputs": [],
   "source": [
    "plt.style.use('fivethirtyeight')\n",
    "\n",
    "knn15, ax = plt.subplots()\n",
    "\n",
    "ax.bar(x_knn, df15.iloc[:, 6], width = .4, edgecolor = 'white', linewidth = 1, color = 'skyblue', label = 'Actual')\n",
    "ax.bar(x_knn + 0.4, knnListData, width = .4, edgecolor = 'white', linewidth = 1, color = 'C1', label = 'Predicted')\n",
    "\n",
    "labels = knnListNames\n",
    "\n",
    "rects = ax.patches\n",
    "for rect, label in zip(rects, labels):\n",
    "    if rect.get_x() > 2:\n",
    "        ax.text(rect.get_x() + rect.get_width() / 1.75, rect.get_height() + .02, label,\n",
    "        ha='center', va='bottom', rotation = 'vertical', color = 'black')\n",
    "    elif rect.get_x() <= 2:\n",
    "        height = .06\n",
    "        ax.text(rect.get_x() + rect.get_width() / 1.75, height, label,\n",
    "        ha='center', va='bottom', rotation = 'vertical', color = 'black')\n",
    "        \n",
    "knn15.suptitle(\"KNN predicted MVP share: 2015\", weight = 'bold', size = 18, y = 1.005)\n",
    "ax.set_title(\"http://dribbleanalytics.blogspot.com.\", size = 14, fontname = 'Rockwell')\n",
    "ax.xaxis.set_visible(False)\n",
    "ax.set_ylabel(\"Vote Share\")\n",
    "ax.legend(loc='best', prop={'size': 9, \"family\": \"Rockwell\"}, ncol = 2)\n",
    "an1 = ax.annotate(\"Predicted MVP: Steph Curry\\nActual MVP: Steph Curry\", xy = (.6, 0.56), xycoords = 'data', xytext = (2, .78),\n",
    "            fontname = 'Rockwell', bbox=dict(boxstyle=\"round\", fc = 'white'), arrowprops=dict(facecolor = 'C4')\n",
    "           )\n",
    "\n",
    "knn15.savefig('knn-15.png', dpi = 400, bbox_inches = 'tight')"
   ]
  },
  {
   "cell_type": "markdown",
   "metadata": {},
   "source": [
    "## DNN"
   ]
  },
  {
   "cell_type": "code",
   "execution_count": null,
   "metadata": {},
   "outputs": [],
   "source": [
    "dnnPredict15 = dnn.predict(df15Predict)\n",
    "dnnPredict15 = dnnPredict15.tolist()\n",
    "\n",
    "for (i, j) in zip(df15Names, dnnPredict15):\n",
    "    print(i, j)"
   ]
  },
  {
   "cell_type": "code",
   "execution_count": null,
   "metadata": {},
   "outputs": [],
   "source": [
    "dnnList = [[i, j] for i, j in zip(df15Names, dnnPredict15)]\n",
    "\n",
    "dnnListData = [row[1] for row in dnnList]\n",
    "dnnListNames = [row[0] for row in dnnList]\n",
    "print(dnnList)\n",
    "\n",
    "x_dnn = np.arange(len(dnnListData))"
   ]
  },
  {
   "cell_type": "code",
   "execution_count": null,
   "metadata": {},
   "outputs": [],
   "source": [
    "plt.style.use('fivethirtyeight')\n",
    "\n",
    "dnn15, ax = plt.subplots()\n",
    "\n",
    "ax.bar(x_dnn, df15.iloc[:, 6], width = .4, edgecolor = 'white', linewidth = 1, color = 'skyblue', label = 'Actual')\n",
    "ax.bar(x_dnn + 0.4, dnnListData, width = .4, edgecolor = 'white', linewidth = 1, color = 'C1', label = 'Predicted')\n",
    "\n",
    "labels = dnnListNames\n",
    "\n",
    "rects = ax.patches\n",
    "for rect, label in zip(rects, labels):\n",
    "    if rect.get_x() > 2:\n",
    "        ax.text(rect.get_x() + rect.get_width() / 1.75, rect.get_height() + .02, label,\n",
    "        ha='center', va='bottom', rotation = 'vertical', color = 'black')\n",
    "    elif rect.get_x() <= 2:\n",
    "        height = .06\n",
    "        ax.text(rect.get_x() + rect.get_width() / 1.75, height, label,\n",
    "        ha='center', va='bottom', rotation = 'vertical', color = 'black')\n",
    "        \n",
    "dnn15.suptitle(\"DNN predicted MVP share: 2015\", weight = 'bold', size = 18, y = 1.005)\n",
    "ax.set_title(\"http://dribbleanalytics.blogspot.com.\", size = 14, fontname = 'Rockwell')\n",
    "ax.xaxis.set_visible(False)\n",
    "ax.set_ylabel(\"Vote Share\")\n",
    "ax.legend(loc='best', prop={'size': 9, \"family\": \"Rockwell\"}, ncol = 2)\n",
    "an1 = ax.annotate(\"Predicted MVP: James Harden\\nActual MVP: Steph Curry\", xy = (1.6, 0.57), xycoords = 'data', xytext = (2, .72),\n",
    "            fontname = 'Rockwell', bbox=dict(boxstyle=\"round\", fc = 'white'), arrowprops=dict(facecolor = 'C4')\n",
    "           )\n",
    "\n",
    "dnn15.savefig('dnn-15.png', dpi = 400, bbox_inches = 'tight')"
   ]
  },
  {
   "cell_type": "markdown",
   "metadata": {},
   "source": [
    "## Average"
   ]
  },
  {
   "cell_type": "code",
   "execution_count": null,
   "metadata": {
    "scrolled": false
   },
   "outputs": [],
   "source": [
    "avgListData = []\n",
    "\n",
    "for (i, j, h, k) in zip(svrListData, rfListData, knnListData, dnnListData):\n",
    "    avgListData.append(float((i + j + h + k) / 4))\n",
    "    \n",
    "print(avgListData)\n",
    "    \n",
    "x_avg = np.arange(len(avgListData))\n",
    "\n",
    "plt.style.use('fivethirtyeight')\n",
    "\n",
    "avg15, ax = plt.subplots()\n",
    "\n",
    "ax.bar(x_avg, df15.iloc[:, 6], width = .4, edgecolor = 'white', linewidth = 1, color = 'skyblue', label = 'Actual')\n",
    "ax.bar(x_avg + 0.4, avgListData, width = .4, edgecolor = 'white', linewidth = 1, color = 'C1', label = 'Predicted')\n",
    "\n",
    "labels = df15Names\n",
    "\n",
    "rects = ax.patches\n",
    "for rect, label in zip(rects, labels):\n",
    "    if rect.get_x() > 2:\n",
    "        ax.text(rect.get_x() + rect.get_width() / 1.75, rect.get_height() + .02, label,\n",
    "        ha='center', va='bottom', rotation = 'vertical', color = 'black')\n",
    "    elif rect.get_x() <= 2:\n",
    "        height = .06\n",
    "        ax.text(rect.get_x() + rect.get_width() / 1.75, height, label,\n",
    "        ha='center', va='bottom', rotation = 'vertical', color = 'black')\n",
    "        \n",
    "avg15.suptitle(\"Average predicted MVP share: 2015\", weight = 'bold', size = 18, y = 1.005)\n",
    "ax.set_title(\"http://dribbleanalytics.blogspot.com.\", size = 14, fontname = 'Rockwell')\n",
    "ax.xaxis.set_visible(False)\n",
    "ax.set_ylabel(\"Vote Share\")\n",
    "ax.legend(loc='best', prop={'size': 9, \"family\": \"Rockwell\"}, ncol = 2)\n",
    "an1 = ax.annotate(\"Predicted MVP: Steph Curry\\nActual MVP: Steph Curry\", xy = (.6, 0.57), xycoords = 'data', xytext = (2, .75),\n",
    "            fontname = 'Rockwell', bbox=dict(boxstyle=\"round\", fc = 'white'), arrowprops=dict(facecolor = 'C4')\n",
    "           )\n",
    "\n",
    "avg15.savefig('avg-15.png', dpi = 400, bbox_inches = 'tight')"
   ]
  },
  {
   "cell_type": "markdown",
   "metadata": {},
   "source": [
    "# Predictions: 2016"
   ]
  },
  {
   "cell_type": "code",
   "execution_count": null,
   "metadata": {},
   "outputs": [],
   "source": [
    "df16 = pd.read_csv('16-mvp.csv')\n",
    "df16Names = df16.iloc[:, 1]\n",
    "df16Predict = df16[['G', 'MP', 'Team Wins', 'Overall Seed', 'PTS', 'TRB', 'AST', 'STL', 'BLK', 'FG%', '3P%', 'FT%',  'WS', 'VORP', 'BPM']]\n",
    "\n",
    "df16.head()"
   ]
  },
  {
   "cell_type": "markdown",
   "metadata": {},
   "source": [
    "## SVR "
   ]
  },
  {
   "cell_type": "code",
   "execution_count": null,
   "metadata": {},
   "outputs": [],
   "source": [
    "svrPredict16 = svr.predict(df16Predict)\n",
    "svrPredict16 = svrPredict16.tolist()\n",
    "\n",
    "for (i, j) in zip(df16Names, svrPredict16):\n",
    "    print(i, j)"
   ]
  },
  {
   "cell_type": "code",
   "execution_count": null,
   "metadata": {},
   "outputs": [],
   "source": [
    "svrList = [[i, j] for i, j in zip(df16Names, svrPredict16)]\n",
    "\n",
    "svrListData = [row[1] for row in svrList]\n",
    "svrListNames = [row[0] for row in svrList]\n",
    "print(svrList)\n",
    "\n",
    "x_svr = np.arange(len(svrListData))"
   ]
  },
  {
   "cell_type": "code",
   "execution_count": null,
   "metadata": {},
   "outputs": [],
   "source": [
    "plt.style.use('fivethirtyeight')\n",
    "\n",
    "svr16, ax = plt.subplots()\n",
    "\n",
    "ax.bar(x_svr, df16.iloc[:, 6], width = .4, edgecolor = 'white', linewidth = 1, color = 'skyblue', label = 'Actual')\n",
    "ax.bar(x_svr + 0.4, svrListData, width = .4, edgecolor = 'white', linewidth = 1, color = 'C1', label = 'Predicted')\n",
    "\n",
    "labels = svrListNames\n",
    "\n",
    "rects = ax.patches\n",
    "for rect, label in zip(rects, labels):\n",
    "    if rect.get_x() > 2:\n",
    "        ax.text(rect.get_x() + rect.get_width() / 1.75, rect.get_height() + .02, label,\n",
    "        ha='center', va='bottom', rotation = 'vertical', color = 'black')\n",
    "    elif rect.get_x() <= 2:\n",
    "        height = .06\n",
    "        ax.text(rect.get_x() + rect.get_width() / 1.75, height, label,\n",
    "        ha='center', va='bottom', rotation = 'vertical', color = 'black')\n",
    "        \n",
    "svr16.suptitle(\"SVM predicted MVP share: 2016\", weight = 'bold', size = 18, y = 1.005)\n",
    "ax.set_title(\"http://dribbleanalytics.blogspot.com.\", size = 14, fontname = 'Rockwell')\n",
    "ax.xaxis.set_visible(False)\n",
    "ax.set_ylabel(\"Vote Share\")\n",
    "ax.legend(loc='best', prop={'size': 9, \"family\": \"Rockwell\"}, ncol = 2)\n",
    "an1 = ax.annotate(\"Predicted MVP: Steph Curry\\nActual MVP: Steph Curry\", xy = (.6, 0.94), xycoords = 'data', xytext = (2, .79),\n",
    "            fontname = 'Rockwell', bbox=dict(boxstyle=\"round\", fc = 'white'), arrowprops=dict(facecolor = 'C4')\n",
    "           )\n",
    "\n",
    "svr16.savefig('svr-16.png', dpi = 400, bbox_inches = 'tight')"
   ]
  },
  {
   "cell_type": "markdown",
   "metadata": {},
   "source": [
    "## RF"
   ]
  },
  {
   "cell_type": "code",
   "execution_count": null,
   "metadata": {},
   "outputs": [],
   "source": [
    "rfPredict16 = rf.predict(df16Predict)\n",
    "rfPredict16 = rfPredict16.tolist()\n",
    "\n",
    "for (i, j) in zip(df16Names, rfPredict16):\n",
    "    print(i, j)"
   ]
  },
  {
   "cell_type": "code",
   "execution_count": null,
   "metadata": {},
   "outputs": [],
   "source": [
    "rfList = [[i, j] for i, j in zip(df16Names, rfPredict16)]\n",
    "\n",
    "rfListData = [row[1] for row in rfList]\n",
    "rfListNames = [row[0] for row in rfList]\n",
    "print(rfList)\n",
    "\n",
    "x_rf = np.arange(len(rfListData))"
   ]
  },
  {
   "cell_type": "code",
   "execution_count": null,
   "metadata": {},
   "outputs": [],
   "source": [
    "plt.style.use('fivethirtyeight')\n",
    "\n",
    "rf16, ax = plt.subplots()\n",
    "\n",
    "ax.bar(x_rf, df16.iloc[:, 6], width = .4, edgecolor = 'white', linewidth = 1, color = 'skyblue', label = 'Actual')\n",
    "ax.bar(x_rf + 0.4, rfListData, width = .4, edgecolor = 'white', linewidth = 1, color = 'C1', label = 'Predicted')\n",
    "\n",
    "labels = rfListNames\n",
    "\n",
    "rects = ax.patches\n",
    "for rect, label in zip(rects, labels):\n",
    "    if rect.get_x() > 2:\n",
    "        ax.text(rect.get_x() + rect.get_width() / 1.75, rect.get_height() + .02, label,\n",
    "        ha='center', va='bottom', rotation = 'vertical', color = 'black')\n",
    "    elif rect.get_x() <= 2:\n",
    "        height = .06\n",
    "        ax.text(rect.get_x() + rect.get_width() / 1.75, height, label,\n",
    "        ha='center', va='bottom', rotation = 'vertical', color = 'black')\n",
    "        \n",
    "rf16.suptitle(\"RF predicted MVP share: 2016\", weight = 'bold', size = 18, y = 1.005)\n",
    "ax.set_title(\"http://dribbleanalytics.blogspot.com.\", size = 14, fontname = 'Rockwell')\n",
    "ax.xaxis.set_visible(False)\n",
    "ax.set_ylabel(\"Vote Share\")\n",
    "ax.legend(loc='best', prop={'size': 9, \"family\": \"Rockwell\"}, ncol = 2)\n",
    "an1 = ax.annotate(\"Predicted MVP: Steph Curry\\nActual MVP: Steph Curry\", xy = (.6, 0.88), xycoords = 'data', xytext = (2, .78),\n",
    "            fontname = 'Rockwell', bbox=dict(boxstyle=\"round\", fc = 'white'), arrowprops=dict(facecolor = 'C4')\n",
    "           )\n",
    "\n",
    "rf16.savefig('rf-16.png', dpi = 400, bbox_inches = 'tight')"
   ]
  },
  {
   "cell_type": "markdown",
   "metadata": {},
   "source": [
    "## k-NN"
   ]
  },
  {
   "cell_type": "code",
   "execution_count": null,
   "metadata": {},
   "outputs": [],
   "source": [
    "knnPredict16 = knn.predict(df16Predict)\n",
    "knnPredict16 = knnPredict16.tolist()\n",
    "knnPredict16 = [row[0] for row in knnPredict16]\n",
    "for (i, j) in zip(df16Names, knnPredict16):\n",
    "    print(i, j)"
   ]
  },
  {
   "cell_type": "code",
   "execution_count": null,
   "metadata": {},
   "outputs": [],
   "source": [
    "knnList = [[i, j] for i, j in zip(df16Names, knnPredict16)]\n",
    "\n",
    "knnListData = [row[1] for row in knnList]\n",
    "knnListNames = [row[0] for row in knnList]\n",
    "print(knnList)\n",
    "\n",
    "x_knn = np.arange(len(knnListData))"
   ]
  },
  {
   "cell_type": "code",
   "execution_count": null,
   "metadata": {},
   "outputs": [],
   "source": [
    "plt.style.use('fivethirtyeight')\n",
    "\n",
    "knn16, ax = plt.subplots()\n",
    "\n",
    "ax.bar(x_knn, df16.iloc[:, 6], width = .4, edgecolor = 'white', linewidth = 1, color = 'skyblue', label = 'Actual')\n",
    "ax.bar(x_knn + 0.4, knnListData, width = .4, edgecolor = 'white', linewidth = 1, color = 'C1', label = 'Predicted')\n",
    "\n",
    "labels = knnListNames\n",
    "\n",
    "rects = ax.patches\n",
    "for rect, label in zip(rects, labels):\n",
    "    if rect.get_x() > 2:\n",
    "        ax.text(rect.get_x() + rect.get_width() / 1.75, rect.get_height() + .02, label,\n",
    "        ha='center', va='bottom', rotation = 'vertical', color = 'black')\n",
    "    elif rect.get_x() <= 2:\n",
    "        height = .06\n",
    "        ax.text(rect.get_x() + rect.get_width() / 1.75, height, label,\n",
    "        ha='center', va='bottom', rotation = 'vertical', color = 'black')\n",
    "        \n",
    "knn16.suptitle(\"KNN predicted MVP share: 2016\", weight = 'bold', size = 18, y = 1.005)\n",
    "ax.set_title(\"http://dribbleanalytics.blogspot.com.\", size = 14, fontname = 'Rockwell')\n",
    "ax.xaxis.set_visible(False)\n",
    "ax.set_ylabel(\"Vote Share\")\n",
    "ax.legend(loc='best', prop={'size': 9, \"family\": \"Rockwell\"}, ncol = 2)\n",
    "an1 = ax.annotate(\"Predicted MVP: Steph Curry\\nActual MVP: Steph Curry\", xy = (.6, 0.92), xycoords = 'data', xytext = (2, .78),\n",
    "            fontname = 'Rockwell', bbox=dict(boxstyle=\"round\", fc = 'white'), arrowprops=dict(facecolor = 'C4')\n",
    "           )\n",
    "\n",
    "knn16.savefig('knn-16.png', dpi = 400, bbox_inches = 'tight')"
   ]
  },
  {
   "cell_type": "markdown",
   "metadata": {},
   "source": [
    "## DNN"
   ]
  },
  {
   "cell_type": "code",
   "execution_count": null,
   "metadata": {},
   "outputs": [],
   "source": [
    "dnnPredict16 = dnn.predict(df16Predict)\n",
    "dnnPredict16 = dnnPredict16.tolist()\n",
    "\n",
    "for (i, j) in zip(df16Names, dnnPredict16):\n",
    "    print(i, j)"
   ]
  },
  {
   "cell_type": "code",
   "execution_count": null,
   "metadata": {},
   "outputs": [],
   "source": [
    "dnnList = [[i, j] for i, j in zip(df16Names, dnnPredict16)]\n",
    "\n",
    "dnnListData = [row[1] for row in dnnList]\n",
    "dnnListNames = [row[0] for row in dnnList]\n",
    "print(dnnList)\n",
    "\n",
    "x_dnn = np.arange(len(dnnListData))"
   ]
  },
  {
   "cell_type": "code",
   "execution_count": null,
   "metadata": {},
   "outputs": [],
   "source": [
    "plt.style.use('fivethirtyeight')\n",
    "\n",
    "dnn16, ax = plt.subplots()\n",
    "\n",
    "ax.bar(x_dnn, df16.iloc[:, 6], width = .4, edgecolor = 'white', linewidth = 1, color = 'skyblue', label = 'Actual')\n",
    "ax.bar(x_dnn + 0.4, dnnListData, width = .4, edgecolor = 'white', linewidth = 1, color = 'C1', label = 'Predicted')\n",
    "\n",
    "labels = dnnListNames\n",
    "\n",
    "rects = ax.patches\n",
    "for rect, label in zip(rects, labels):\n",
    "    if rect.get_x() > 2:\n",
    "        ax.text(rect.get_x() + rect.get_width() / 1.75, rect.get_height() + .02, label,\n",
    "        ha='center', va='bottom', rotation = 'vertical', color = 'black')\n",
    "    elif rect.get_x() <= 2:\n",
    "        height = .06\n",
    "        ax.text(rect.get_x() + rect.get_width() / 1.75, height, label,\n",
    "        ha='center', va='bottom', rotation = 'vertical', color = 'black')\n",
    "        \n",
    "dnn16.suptitle(\"DNN predicted MVP share: 2016\", weight = 'bold', size = 18, y = 1.005)\n",
    "ax.set_title(\"http://dribbleanalytics.blogspot.com.\", size = 14, fontname = 'Rockwell')\n",
    "ax.xaxis.set_visible(False)\n",
    "ax.set_ylabel(\"Vote Share\")\n",
    "ax.legend(loc='best', prop={'size': 9, \"family\": \"Rockwell\"}, ncol = 2)\n",
    "an1 = ax.annotate(\"Predicted MVP: Steph Curry\\nActual MVP: Steph Curry\", xy = (.6, 0.69), xycoords = 'data', xytext = (2, .79),\n",
    "            fontname = 'Rockwell', bbox=dict(boxstyle=\"round\", fc = 'white'), arrowprops=dict(facecolor = 'C4')\n",
    "           )\n",
    "\n",
    "dnn16.savefig('dnn-16.png', dpi = 400, bbox_inches = 'tight')"
   ]
  },
  {
   "cell_type": "markdown",
   "metadata": {},
   "source": [
    "## Average"
   ]
  },
  {
   "cell_type": "code",
   "execution_count": null,
   "metadata": {
    "scrolled": false
   },
   "outputs": [],
   "source": [
    "avgListData = []\n",
    "\n",
    "for (i, j, h, k) in zip(svrListData, rfListData, knnListData, dnnListData):\n",
    "    avgListData.append(float((i + j + h + k) / 4))\n",
    "    \n",
    "print(avgListData)\n",
    "    \n",
    "x_avg = np.arange(len(avgListData))\n",
    "\n",
    "plt.style.use('fivethirtyeight')\n",
    "\n",
    "avg16, ax = plt.subplots()\n",
    "\n",
    "ax.bar(x_avg, df16.iloc[:, 6], width = .4, edgecolor = 'white', linewidth = 1, color = 'skyblue', label = 'Actual')\n",
    "ax.bar(x_avg + 0.4, avgListData, width = .4, edgecolor = 'white', linewidth = 1, color = 'C1', label = 'Predicted')\n",
    "\n",
    "labels = df16Names\n",
    "\n",
    "rects = ax.patches\n",
    "for rect, label in zip(rects, labels):\n",
    "    if rect.get_x() > 2:\n",
    "        ax.text(rect.get_x() + rect.get_width() / 1.75, rect.get_height() + .02, label,\n",
    "        ha='center', va='bottom', rotation = 'vertical', color = 'black')\n",
    "    elif rect.get_x() <= 2:\n",
    "        height = .06\n",
    "        ax.text(rect.get_x() + rect.get_width() / 1.75, height, label,\n",
    "        ha='center', va='bottom', rotation = 'vertical', color = 'black')\n",
    "        \n",
    "avg16.suptitle(\"Average predicted MVP share: 2016\", weight = 'bold', size = 18, y = 1.005)\n",
    "ax.set_title(\"http://dribbleanalytics.blogspot.com.\", size = 14, fontname = 'Rockwell')\n",
    "ax.xaxis.set_visible(False)\n",
    "ax.set_ylabel(\"Vote Share\")\n",
    "ax.legend(loc='best', prop={'size': 9, \"family\": \"Rockwell\"}, ncol = 2)\n",
    "an1 = ax.annotate(\"Predicted MVP: Steph Curry\\nActual MVP: Steph Curry\", xy = (.6, 0.86), xycoords = 'data', xytext = (2, .78),\n",
    "            fontname = 'Rockwell', bbox=dict(boxstyle=\"round\", fc = 'white'), arrowprops=dict(facecolor = 'C4')\n",
    "           )\n",
    "\n",
    "avg16.savefig('avg-16.png', dpi = 400, bbox_inches = 'tight')"
   ]
  },
  {
   "cell_type": "markdown",
   "metadata": {},
   "source": [
    "# Predictions: 2017"
   ]
  },
  {
   "cell_type": "code",
   "execution_count": null,
   "metadata": {},
   "outputs": [],
   "source": [
    "df17 = pd.read_csv('17-mvp.csv')\n",
    "df17Names = df17.iloc[:, 1]\n",
    "df17Predict = df17[['G', 'MP', 'Team Wins', 'Overall Seed', 'PTS', 'TRB', 'AST', 'STL', 'BLK', 'FG%', '3P%', 'FT%',  'WS', 'VORP', 'BPM']]\n",
    "\n",
    "df17.head()"
   ]
  },
  {
   "cell_type": "markdown",
   "metadata": {},
   "source": [
    "## SVR "
   ]
  },
  {
   "cell_type": "code",
   "execution_count": null,
   "metadata": {},
   "outputs": [],
   "source": [
    "svrPredict17 = svr.predict(df17Predict)\n",
    "svrPredict17 = svrPredict17.tolist()\n",
    "\n",
    "for (i, j) in zip(df17Names, svrPredict17):\n",
    "    print(i, j)"
   ]
  },
  {
   "cell_type": "code",
   "execution_count": null,
   "metadata": {},
   "outputs": [],
   "source": [
    "svrList = [[i, j] for i, j in zip(df17Names, svrPredict17)]\n",
    "\n",
    "svrListData = [row[1] for row in svrList]\n",
    "svrListNames = [row[0] for row in svrList]\n",
    "print(svrList)\n",
    "\n",
    "x_svr = np.arange(len(svrListData))"
   ]
  },
  {
   "cell_type": "code",
   "execution_count": null,
   "metadata": {},
   "outputs": [],
   "source": [
    "plt.style.use('fivethirtyeight')\n",
    "\n",
    "svr17, ax = plt.subplots()\n",
    "\n",
    "ax.bar(x_svr, df17.iloc[:, 6], width = .4, edgecolor = 'white', linewidth = 1, color = 'skyblue', label = 'Actual')\n",
    "ax.bar(x_svr + 0.4, svrListData, width = .4, edgecolor = 'white', linewidth = 1, color = 'C1', label = 'Predicted')\n",
    "\n",
    "labels = svrListNames\n",
    "\n",
    "rects = ax.patches\n",
    "for rect, label in zip(rects, labels):\n",
    "    if rect.get_x() > 3:\n",
    "        ax.text(rect.get_x() + rect.get_width() / 1.75, rect.get_height() + .02, label,\n",
    "        ha='center', va='bottom', rotation = 'vertical', color = 'black')\n",
    "    elif rect.get_x() <= 3:\n",
    "        height = .06\n",
    "        ax.text(rect.get_x() + rect.get_width() / 1.75, height, label,\n",
    "        ha='center', va='bottom', rotation = 'vertical', color = 'black')\n",
    "        \n",
    "svr17.suptitle(\"SVM predicted MVP share: 2017\", weight = 'bold', size = 18, y = 1.005)\n",
    "ax.set_title(\"http://dribbleanalytics.blogspot.com.\", size = 14, fontname = 'Rockwell')\n",
    "ax.xaxis.set_visible(False)\n",
    "ax.set_ylabel(\"Vote Share\")\n",
    "ax.legend(loc='best', prop={'size': 9, \"family\": \"Rockwell\"}, ncol = 2)\n",
    "an1 = ax.annotate(\"Predicted MVP: James Harden\\nActual MVP: Westbrook\", xy = (1.6, 0.61), xycoords = 'data', xytext = (2, .72),\n",
    "            fontname = 'Rockwell', bbox=dict(boxstyle=\"round\", fc = 'white'), arrowprops=dict(facecolor = 'C4')\n",
    "           )\n",
    "\n",
    "svr17.savefig('svr-17.png', dpi = 400, bbox_inches = 'tight')"
   ]
  },
  {
   "cell_type": "markdown",
   "metadata": {},
   "source": [
    "## RF"
   ]
  },
  {
   "cell_type": "code",
   "execution_count": null,
   "metadata": {},
   "outputs": [],
   "source": [
    "rfPredict17 = rf.predict(df17Predict)\n",
    "rfPredict17 = rfPredict17.tolist()\n",
    "\n",
    "for (i, j) in zip(df17Names, rfPredict17):\n",
    "    print(i, j)"
   ]
  },
  {
   "cell_type": "code",
   "execution_count": null,
   "metadata": {},
   "outputs": [],
   "source": [
    "rfList = [[i, j] for i, j in zip(df17Names, rfPredict17)]\n",
    "\n",
    "rfListData = [row[1] for row in rfList]\n",
    "rfListNames = [row[0] for row in rfList]\n",
    "print(rfList)\n",
    "\n",
    "x_rf = np.arange(len(rfListData))"
   ]
  },
  {
   "cell_type": "code",
   "execution_count": null,
   "metadata": {},
   "outputs": [],
   "source": [
    "plt.style.use('fivethirtyeight')\n",
    "\n",
    "rf17, ax = plt.subplots()\n",
    "\n",
    "ax.bar(x_rf, df17.iloc[:, 6], width = .4, edgecolor = 'white', linewidth = 1, color = 'skyblue', label = 'Actual')\n",
    "ax.bar(x_rf + 0.4, rfListData, width = .4, edgecolor = 'white', linewidth = 1, color = 'C1', label = 'Predicted')\n",
    "\n",
    "labels = rfListNames\n",
    "\n",
    "rects = ax.patches\n",
    "for rect, label in zip(rects, labels):\n",
    "    if rect.get_x() > 3:\n",
    "        ax.text(rect.get_x() + rect.get_width() / 1.75, rect.get_height() + .02, label,\n",
    "        ha='center', va='bottom', rotation = 'vertical', color = 'black')\n",
    "    elif rect.get_x() <= 3:\n",
    "        height = .06\n",
    "        ax.text(rect.get_x() + rect.get_width() / 1.75, height, label,\n",
    "        ha='center', va='bottom', rotation = 'vertical', color = 'black')\n",
    "        \n",
    "rf17.suptitle(\"RF predicted MVP share: 2017\", weight = 'bold', size = 18, y = 1.005)\n",
    "ax.set_title(\"http://dribbleanalytics.blogspot.com.\", size = 14, fontname = 'Rockwell')\n",
    "ax.xaxis.set_visible(False)\n",
    "ax.set_ylabel(\"Vote Share\")\n",
    "ax.legend(loc='best', prop={'size': 9, \"family\": \"Rockwell\"}, ncol = 2)\n",
    "an1 = ax.annotate(\"Predicted MVP: James Harden\\nActual MVP: Westbrook\", xy = (1.6, 0.44), xycoords = 'data', xytext = (2, .73),\n",
    "            fontname = 'Rockwell', bbox=dict(boxstyle=\"round\", fc = 'white'), arrowprops=dict(facecolor = 'C4')\n",
    "           )\n",
    "\n",
    "rf17.savefig('rf-17.png', dpi = 400, bbox_inches = 'tight')"
   ]
  },
  {
   "cell_type": "markdown",
   "metadata": {},
   "source": [
    "## k-NN"
   ]
  },
  {
   "cell_type": "code",
   "execution_count": null,
   "metadata": {},
   "outputs": [],
   "source": [
    "knnPredict17 = knn.predict(df17Predict)\n",
    "knnPredict17 = knnPredict17.tolist()\n",
    "knnPredict17 = [row[0] for row in knnPredict17]\n",
    "for (i, j) in zip(df17Names, knnPredict17):\n",
    "    print(i, j)"
   ]
  },
  {
   "cell_type": "code",
   "execution_count": null,
   "metadata": {},
   "outputs": [],
   "source": [
    "knnList = [[i, j] for i, j in zip(df17Names, knnPredict17)]\n",
    "\n",
    "knnListData = [row[1] for row in knnList]\n",
    "knnListNames = [row[0] for row in knnList]\n",
    "print(knnList)\n",
    "\n",
    "x_knn = np.arange(len(knnListData))"
   ]
  },
  {
   "cell_type": "code",
   "execution_count": null,
   "metadata": {},
   "outputs": [],
   "source": [
    "plt.style.use('fivethirtyeight')\n",
    "\n",
    "knn17, ax = plt.subplots()\n",
    "\n",
    "ax.bar(x_knn, df17.iloc[:, 6], width = .4, edgecolor = 'white', linewidth = 1, color = 'skyblue', label = 'Actual')\n",
    "ax.bar(x_knn + 0.4, knnListData, width = .4, edgecolor = 'white', linewidth = 1, color = 'C1', label = 'Predicted')\n",
    "\n",
    "labels = knnListNames\n",
    "\n",
    "rects = ax.patches\n",
    "for rect, label in zip(rects, labels):\n",
    "    if rect.get_x() > 3:\n",
    "        ax.text(rect.get_x() + rect.get_width() / 1.75, rect.get_height() + .02, label,\n",
    "        ha='center', va='bottom', rotation = 'vertical', color = 'black')\n",
    "    elif rect.get_x() <= 3:\n",
    "        height = .06\n",
    "        ax.text(rect.get_x() + rect.get_width() / 1.75, height, label,\n",
    "        ha='center', va='bottom', rotation = 'vertical', color = 'black')\n",
    "        \n",
    "knn17.suptitle(\"KNN predicted MVP share: 2017\", weight = 'bold', size = 18, y = 1.005)\n",
    "ax.set_title(\"http://dribbleanalytics.blogspot.com.\", size = 14, fontname = 'Rockwell')\n",
    "ax.xaxis.set_visible(False)\n",
    "ax.set_ylabel(\"Vote Share\")\n",
    "ax.legend(loc='best', prop={'size': 9, \"family\": \"Rockwell\"}, ncol = 2)\n",
    "an1 = ax.annotate(\"Predicted MVP: Steph Curry\\nActual MVP: Westbrook\", xy = (5.5, 0.35), xycoords = 'data', xytext = (2, .73),\n",
    "            fontname = 'Rockwell', bbox=dict(boxstyle=\"round\", fc = 'white'), arrowprops=dict(facecolor = 'C4')\n",
    "           )\n",
    "\n",
    "knn17.savefig('knn-17.png', dpi = 400, bbox_inches = 'tight')"
   ]
  },
  {
   "cell_type": "markdown",
   "metadata": {},
   "source": [
    "## DNN"
   ]
  },
  {
   "cell_type": "code",
   "execution_count": null,
   "metadata": {},
   "outputs": [],
   "source": [
    "dnnPredict17 = dnn.predict(df17Predict)\n",
    "dnnPredict17 = dnnPredict17.tolist()\n",
    "\n",
    "for (i, j) in zip(df17Names, dnnPredict17):\n",
    "    print(i, j)"
   ]
  },
  {
   "cell_type": "code",
   "execution_count": null,
   "metadata": {},
   "outputs": [],
   "source": [
    "dnnList = [[i, j] for i, j in zip(df17Names, dnnPredict17)]\n",
    "\n",
    "dnnListData = [row[1] for row in dnnList]\n",
    "dnnListNames = [row[0] for row in dnnList]\n",
    "print(dnnList)\n",
    "\n",
    "x_dnn = np.arange(len(dnnListData))"
   ]
  },
  {
   "cell_type": "code",
   "execution_count": null,
   "metadata": {},
   "outputs": [],
   "source": [
    "plt.style.use('fivethirtyeight')\n",
    "\n",
    "dnn17, ax = plt.subplots()\n",
    "\n",
    "ax.bar(x_dnn, df17.iloc[:, 6], width = .4, edgecolor = 'white', linewidth = 1, color = 'skyblue', label = 'Actual')\n",
    "ax.bar(x_dnn + 0.4, dnnListData, width = .4, edgecolor = 'white', linewidth = 1, color = 'C1', label = 'Predicted')\n",
    "\n",
    "labels = dnnListNames\n",
    "\n",
    "rects = ax.patches\n",
    "for rect, label in zip(rects, labels):\n",
    "    if rect.get_x() > 3:\n",
    "        ax.text(rect.get_x() + rect.get_width() / 1.75, rect.get_height() + .02, label,\n",
    "        ha='center', va='bottom', rotation = 'vertical', color = 'black')\n",
    "    elif rect.get_x() <= 3:\n",
    "        height = .06\n",
    "        ax.text(rect.get_x() + rect.get_width() / 1.75, height, label,\n",
    "        ha='center', va='bottom', rotation = 'vertical', color = 'black')\n",
    "        \n",
    "dnn17.suptitle(\"DNN predicted MVP share: 2017\", weight = 'bold', size = 18, y = 1.005)\n",
    "ax.set_title(\"http://dribbleanalytics.blogspot.com.\", size = 14, fontname = 'Rockwell')\n",
    "ax.xaxis.set_visible(False)\n",
    "ax.set_ylabel(\"Vote Share\")\n",
    "ax.legend(loc='best', prop={'size': 9, \"family\": \"Rockwell\"}, ncol = 2)\n",
    "an1 = ax.annotate(\"Predicted MVP: James Harden\\nActual MVP: Westbrook\", xy = (1.6, 0.8), xycoords = 'data', xytext = (3, .73),\n",
    "            fontname = 'Rockwell', bbox=dict(boxstyle=\"round\", fc = 'white'), arrowprops=dict(facecolor = 'C4')\n",
    "           )\n",
    "\n",
    "dnn17.savefig('dnn-17.png', dpi = 400, bbox_inches = 'tight')"
   ]
  },
  {
   "cell_type": "markdown",
   "metadata": {},
   "source": [
    "## Average"
   ]
  },
  {
   "cell_type": "code",
   "execution_count": null,
   "metadata": {
    "scrolled": false
   },
   "outputs": [],
   "source": [
    "avgListData = []\n",
    "\n",
    "for (i, j, h, k) in zip(svrListData, rfListData, knnListData, dnnListData):\n",
    "    avgListData.append(float((i + j + h + k) / 4))\n",
    "    \n",
    "print(avgListData)\n",
    "    \n",
    "x_avg = np.arange(len(avgListData))\n",
    "\n",
    "plt.style.use('fivethirtyeight')\n",
    "\n",
    "avg17, ax = plt.subplots()\n",
    "\n",
    "ax.bar(x_avg, df17.iloc[:, 6], width = .4, edgecolor = 'white', linewidth = 1, color = 'skyblue', label = 'Actual')\n",
    "ax.bar(x_avg + 0.4, avgListData, width = .4, edgecolor = 'white', linewidth = 1, color = 'C1', label = 'Predicted')\n",
    "\n",
    "labels = df17Names\n",
    "\n",
    "rects = ax.patches\n",
    "for rect, label in zip(rects, labels):\n",
    "    if rect.get_x() > 3:\n",
    "        ax.text(rect.get_x() + rect.get_width() / 1.75, rect.get_height() + .02, label,\n",
    "        ha='center', va='bottom', rotation = 'vertical', color = 'black')\n",
    "    elif rect.get_x() <= 3:\n",
    "        height = .06\n",
    "        ax.text(rect.get_x() + rect.get_width() / 1.75, height, label,\n",
    "        ha='center', va='bottom', rotation = 'vertical', color = 'black')\n",
    "        \n",
    "avg17.suptitle(\"Average predicted MVP share: 2017\", weight = 'bold', size = 18, y = 1.005)\n",
    "ax.set_title(\"http://dribbleanalytics.blogspot.com.\", size = 14, fontname = 'Rockwell')\n",
    "ax.xaxis.set_visible(False)\n",
    "ax.set_ylabel(\"Vote Share\")\n",
    "ax.legend(loc='best', prop={'size': 9, \"family\": \"Rockwell\"}, ncol = 2)\n",
    "an1 = ax.annotate(\"Predicted MVP: James Harden\\nActual MVP: Westbrook\", xy = (1.6, 0.55), xycoords = 'data', xytext = (2, .73),\n",
    "            fontname = 'Rockwell', bbox=dict(boxstyle=\"round\", fc = 'white'), arrowprops=dict(facecolor = 'C4')\n",
    "           )\n",
    "\n",
    "avg17.savefig('avg-17.png', dpi = 400, bbox_inches = 'tight')"
   ]
  },
  {
   "cell_type": "markdown",
   "metadata": {},
   "source": [
    "# Predictions: 2018"
   ]
  },
  {
   "cell_type": "code",
   "execution_count": null,
   "metadata": {},
   "outputs": [],
   "source": [
    "df18 = pd.read_csv('18-mvp.csv')\n",
    "df18Names = df18.iloc[:, 1]\n",
    "df18Predict = df18[['G', 'MP', 'Team Wins', 'Overall Seed', 'PTS', 'TRB', 'AST', 'STL', 'BLK', 'FG%', '3P%', 'FT%',  'WS', 'VORP', 'BPM']]\n",
    "\n",
    "df18.head()"
   ]
  },
  {
   "cell_type": "markdown",
   "metadata": {},
   "source": [
    "## SVR "
   ]
  },
  {
   "cell_type": "code",
   "execution_count": null,
   "metadata": {},
   "outputs": [],
   "source": [
    "svrPredict18 = svr.predict(df18Predict)\n",
    "svrPredict18 = svrPredict18.tolist()\n",
    "\n",
    "for (i, j) in zip(df18Names, svrPredict18):\n",
    "    print(i, j)"
   ]
  },
  {
   "cell_type": "code",
   "execution_count": null,
   "metadata": {},
   "outputs": [],
   "source": [
    "svrList = [[i, j] for i, j in zip(df18Names, svrPredict18)]\n",
    "\n",
    "svrListData = [row[1] for row in svrList]\n",
    "svrListNames = [row[0] for row in svrList]\n",
    "print(svrList)\n",
    "\n",
    "x_svr = np.arange(len(svrListData))"
   ]
  },
  {
   "cell_type": "code",
   "execution_count": null,
   "metadata": {},
   "outputs": [],
   "source": [
    "plt.style.use('fivethirtyeight')\n",
    "\n",
    "svr18, ax = plt.subplots()\n",
    "\n",
    "ax.bar(x_svr, df18.iloc[:, 6], width = .4, edgecolor = 'white', linewidth = 1, color = 'skyblue', label = 'Actual')\n",
    "ax.bar(x_svr + 0.4, svrListData, width = .4, edgecolor = 'white', linewidth = 1, color = 'C1', label = 'Predicted')\n",
    "\n",
    "labels = svrListNames\n",
    "\n",
    "rects = ax.patches\n",
    "for rect, label in zip(rects, labels):\n",
    "    if rect.get_x() > 2:\n",
    "        ax.text(rect.get_x() + rect.get_width() / 1.75, rect.get_height() + .02, label,\n",
    "        ha='center', va='bottom', rotation = 'vertical', color = 'black')\n",
    "    elif rect.get_x() <= 2:\n",
    "        height = .06\n",
    "        ax.text(rect.get_x() + rect.get_width() / 1.75, height, label,\n",
    "        ha='center', va='bottom', rotation = 'vertical', color = 'black')\n",
    "        \n",
    "svr18.suptitle(\"SVM predicted MVP share: 2018\", weight = 'bold', size = 18, y = 1.005)\n",
    "ax.set_title(\"http://dribbleanalytics.blogspot.com.\", size = 14, fontname = 'Rockwell')\n",
    "ax.xaxis.set_visible(False)\n",
    "ax.set_ylabel(\"Vote Share\")\n",
    "ax.legend(loc='best', prop={'size': 9, \"family\": \"Rockwell\"}, ncol = 2)\n",
    "an1 = ax.annotate(\"Predicted MVP: James Harden\\nActual MVP: James Harden\", xy = (.6, 0.71), xycoords = 'data', xytext = (2, .79),\n",
    "            fontname = 'Rockwell', bbox=dict(boxstyle=\"round\", fc = 'white'), arrowprops=dict(facecolor = 'C4')\n",
    "           )\n",
    "\n",
    "svr18.savefig('svr-18.png', dpi = 400, bbox_inches = 'tight')"
   ]
  },
  {
   "cell_type": "markdown",
   "metadata": {},
   "source": [
    "## RF"
   ]
  },
  {
   "cell_type": "code",
   "execution_count": null,
   "metadata": {},
   "outputs": [],
   "source": [
    "rfPredict18 = rf.predict(df18Predict)\n",
    "rfPredict18 = rfPredict18.tolist()\n",
    "\n",
    "for (i, j) in zip(df18Names, rfPredict18):\n",
    "    print(i, j)"
   ]
  },
  {
   "cell_type": "code",
   "execution_count": null,
   "metadata": {},
   "outputs": [],
   "source": [
    "rfList = [[i, j] for i, j in zip(df18Names, rfPredict18)]\n",
    "\n",
    "rfListData = [row[1] for row in rfList]\n",
    "rfListNames = [row[0] for row in rfList]\n",
    "print(rfList)\n",
    "\n",
    "x_rf = np.arange(len(rfListData))"
   ]
  },
  {
   "cell_type": "code",
   "execution_count": null,
   "metadata": {},
   "outputs": [],
   "source": [
    "plt.style.use('fivethirtyeight')\n",
    "\n",
    "rf18, ax = plt.subplots()\n",
    "\n",
    "ax.bar(x_rf, df18.iloc[:, 6], width = .4, edgecolor = 'white', linewidth = 1, color = 'skyblue', label = 'Actual')\n",
    "ax.bar(x_rf + 0.4, rfListData, width = .4, edgecolor = 'white', linewidth = 1, color = 'C1', label = 'Predicted')\n",
    "\n",
    "labels = rfListNames\n",
    "\n",
    "rects = ax.patches\n",
    "for rect, label in zip(rects, labels):\n",
    "    if rect.get_x() > 2:\n",
    "        ax.text(rect.get_x() + rect.get_width() / 1.75, rect.get_height() + .02, label,\n",
    "        ha='center', va='bottom', rotation = 'vertical', color = 'black')\n",
    "    elif rect.get_x() <= 2:\n",
    "        height = .06\n",
    "        ax.text(rect.get_x() + rect.get_width() / 1.75, height, label,\n",
    "        ha='center', va='bottom', rotation = 'vertical', color = 'black')\n",
    "        \n",
    "rf18.suptitle(\"RF predicted MVP share: 2018\", weight = 'bold', size = 18, y = 1.005)\n",
    "ax.set_title(\"http://dribbleanalytics.blogspot.com.\", size = 14, fontname = 'Rockwell')\n",
    "ax.xaxis.set_visible(False)\n",
    "ax.set_ylabel(\"Vote Share\")\n",
    "ax.legend(loc='best', prop={'size': 9, \"family\": \"Rockwell\"}, ncol = 2)\n",
    "an1 = ax.annotate(\"Predicted MVP: James Harden\\nActual MVP: James Harden\", xy = (.6, 0.64), xycoords = 'data', xytext = (2, .78),\n",
    "            fontname = 'Rockwell', bbox=dict(boxstyle=\"round\", fc = 'white'), arrowprops=dict(facecolor = 'C4')\n",
    "           )\n",
    "\n",
    "rf18.savefig('rf-18.png', dpi = 400, bbox_inches = 'tight')"
   ]
  },
  {
   "cell_type": "markdown",
   "metadata": {},
   "source": [
    "## k-NN"
   ]
  },
  {
   "cell_type": "code",
   "execution_count": null,
   "metadata": {},
   "outputs": [],
   "source": [
    "knnPredict18 = knn.predict(df18Predict)\n",
    "knnPredict18 = knnPredict18.tolist()\n",
    "knnPredict18 = [row[0] for row in knnPredict18]\n",
    "for (i, j) in zip(df18Names, knnPredict18):\n",
    "    print(i, j)"
   ]
  },
  {
   "cell_type": "code",
   "execution_count": null,
   "metadata": {},
   "outputs": [],
   "source": [
    "knnList = [[i, j] for i, j in zip(df18Names, knnPredict18)]\n",
    "\n",
    "knnListData = [row[1] for row in knnList]\n",
    "knnListNames = [row[0] for row in knnList]\n",
    "print(knnList)\n",
    "\n",
    "x_knn = np.arange(len(knnListData))"
   ]
  },
  {
   "cell_type": "code",
   "execution_count": null,
   "metadata": {},
   "outputs": [],
   "source": [
    "plt.style.use('fivethirtyeight')\n",
    "\n",
    "knn18, ax = plt.subplots()\n",
    "\n",
    "ax.bar(x_knn, df18.iloc[:, 6], width = .4, edgecolor = 'white', linewidth = 1, color = 'skyblue', label = 'Actual')\n",
    "ax.bar(x_knn + 0.4, knnListData, width = .4, edgecolor = 'white', linewidth = 1, color = 'C1', label = 'Predicted')\n",
    "\n",
    "labels = knnListNames\n",
    "\n",
    "rects = ax.patches\n",
    "for rect, label in zip(rects, labels):\n",
    "    if rect.get_x() > 2:\n",
    "        ax.text(rect.get_x() + rect.get_width() / 1.75, rect.get_height() + .02, label,\n",
    "        ha='center', va='bottom', rotation = 'vertical', color = 'black')\n",
    "    elif rect.get_x() <= 2:\n",
    "        height = .06\n",
    "        ax.text(rect.get_x() + rect.get_width() / 1.75, height, label,\n",
    "        ha='center', va='bottom', rotation = 'vertical', color = 'black')\n",
    "        \n",
    "knn18.suptitle(\"KNN predicted MVP share: 2018\", weight = 'bold', size = 18, y = 1.005)\n",
    "ax.set_title(\"http://dribbleanalytics.blogspot.com.\", size = 14, fontname = 'Rockwell')\n",
    "ax.xaxis.set_visible(False)\n",
    "ax.set_ylabel(\"Vote Share\")\n",
    "ax.legend(loc='best', prop={'size': 9, \"family\": \"Rockwell\"}, ncol = 2)\n",
    "an1 = ax.annotate(\"Predicted MVP: James Harden\\nActual MVP: James Harden\", xy = (.6, 0.7), xycoords = 'data', xytext = (2, .78),\n",
    "            fontname = 'Rockwell', bbox=dict(boxstyle=\"round\", fc = 'white'), arrowprops=dict(facecolor = 'C4')\n",
    "           )\n",
    "\n",
    "knn18.savefig('knn-18.png', dpi = 400, bbox_inches = 'tight')"
   ]
  },
  {
   "cell_type": "markdown",
   "metadata": {},
   "source": [
    "## DNN"
   ]
  },
  {
   "cell_type": "code",
   "execution_count": null,
   "metadata": {},
   "outputs": [],
   "source": [
    "dnnPredict18 = dnn.predict(df18Predict)\n",
    "dnnPredict18 = dnnPredict18.tolist()\n",
    "\n",
    "for (i, j) in zip(df18Names, dnnPredict18):\n",
    "    print(i, j)"
   ]
  },
  {
   "cell_type": "code",
   "execution_count": null,
   "metadata": {},
   "outputs": [],
   "source": [
    "dnnList = [[i, j] for i, j in zip(df18Names, dnnPredict18)]\n",
    "\n",
    "dnnListData = [row[1] for row in dnnList]\n",
    "dnnListNames = [row[0] for row in dnnList]\n",
    "print(dnnList)\n",
    "\n",
    "x_dnn = np.arange(len(dnnListData))"
   ]
  },
  {
   "cell_type": "code",
   "execution_count": null,
   "metadata": {},
   "outputs": [],
   "source": [
    "plt.style.use('fivethirtyeight')\n",
    "\n",
    "dnn18, ax = plt.subplots()\n",
    "\n",
    "ax.bar(x_dnn, df18.iloc[:, 6], width = .4, edgecolor = 'white', linewidth = 1, color = 'skyblue', label = 'Actual')\n",
    "ax.bar(x_dnn + 0.4, dnnListData, width = .4, edgecolor = 'white', linewidth = 1, color = 'C1', label = 'Predicted')\n",
    "\n",
    "labels = dnnListNames\n",
    "\n",
    "rects = ax.patches\n",
    "for rect, label in zip(rects, labels):\n",
    "    if rect.get_x() > 2:\n",
    "        ax.text(rect.get_x() + rect.get_width() / 1.75, rect.get_height() + .02, label,\n",
    "        ha='center', va='bottom', rotation = 'vertical', color = 'black')\n",
    "    elif rect.get_x() <= 2:\n",
    "        height = .06\n",
    "        ax.text(rect.get_x() + rect.get_width() / 1.75, height, label,\n",
    "        ha='center', va='bottom', rotation = 'vertical', color = 'black')\n",
    "        \n",
    "dnn18.suptitle(\"DNN predicted MVP share: 2018\", weight = 'bold', size = 18, y = 1.005)\n",
    "ax.set_title(\"http://dribbleanalytics.blogspot.com.\", size = 14, fontname = 'Rockwell')\n",
    "ax.xaxis.set_visible(False)\n",
    "ax.set_ylabel(\"Vote Share\")\n",
    "ax.legend(loc='best', prop={'size': 9, \"family\": \"Rockwell\"}, ncol = 2)\n",
    "an1 = ax.annotate(\"Predicted MVP: James Harden\\nActual MVP: James Harden\", xy = (.6, 0.73), xycoords = 'data', xytext = (2, .79),\n",
    "            fontname = 'Rockwell', bbox=dict(boxstyle=\"round\", fc = 'white'), arrowprops=dict(facecolor = 'C4')\n",
    "           )\n",
    "\n",
    "dnn18.savefig('dnn-18.png', dpi = 400, bbox_inches = 'tight')"
   ]
  },
  {
   "cell_type": "markdown",
   "metadata": {},
   "source": [
    "## Average"
   ]
  },
  {
   "cell_type": "code",
   "execution_count": null,
   "metadata": {
    "scrolled": false
   },
   "outputs": [],
   "source": [
    "avgListData = []\n",
    "\n",
    "for (i, j, h, k) in zip(svrListData, rfListData, knnListData, dnnListData):\n",
    "    avgListData.append(float((i + j + h + k) / 4))\n",
    "    \n",
    "print(avgListData)\n",
    "    \n",
    "x_avg = np.arange(len(avgListData))\n",
    "\n",
    "plt.style.use('fivethirtyeight')\n",
    "\n",
    "avg18, ax = plt.subplots()\n",
    "\n",
    "ax.bar(x_avg, df18.iloc[:, 6], width = .4, edgecolor = 'white', linewidth = 1, color = 'skyblue', label = 'Actual')\n",
    "ax.bar(x_avg + 0.4, avgListData, width = .4, edgecolor = 'white', linewidth = 1, color = 'C1', label = 'Predicted')\n",
    "\n",
    "labels = df18Names\n",
    "\n",
    "rects = ax.patches\n",
    "for rect, label in zip(rects, labels):\n",
    "    if rect.get_x() > 2:\n",
    "        ax.text(rect.get_x() + rect.get_width() / 1.75, rect.get_height() + .02, label,\n",
    "        ha='center', va='bottom', rotation = 'vertical', color = 'black')\n",
    "    elif rect.get_x() <= 2:\n",
    "        height = .06\n",
    "        ax.text(rect.get_x() + rect.get_width() / 1.75, height, label,\n",
    "        ha='center', va='bottom', rotation = 'vertical', color = 'black')\n",
    "        \n",
    "avg18.suptitle(\"Average predicted MVP share: 2018\", weight = 'bold', size = 18, y = 1.005)\n",
    "ax.set_title(\"http://dribbleanalytics.blogspot.com.\", size = 14, fontname = 'Rockwell')\n",
    "ax.xaxis.set_visible(False)\n",
    "ax.set_ylabel(\"Vote Share\")\n",
    "ax.legend(loc='best', prop={'size': 9, \"family\": \"Rockwell\"}, ncol = 2)\n",
    "an1 = ax.annotate(\"Predicted MVP: James Harden\\nActual MVP: James Harden\", xy = (.6, 0.69), xycoords = 'data', xytext = (2, .78),\n",
    "            fontname = 'Rockwell', bbox=dict(boxstyle=\"round\", fc = 'white'), arrowprops=dict(facecolor = 'C4')\n",
    "           )\n",
    "\n",
    "avg18.savefig('avg-18.png', dpi = 400, bbox_inches = 'tight')"
   ]
  }
 ],
 "metadata": {
  "kernelspec": {
   "display_name": "Python 3",
   "language": "python",
   "name": "python3"
  },
  "language_info": {
   "codemirror_mode": {
    "name": "ipython",
    "version": 3
   },
   "file_extension": ".py",
   "mimetype": "text/x-python",
   "name": "python",
   "nbconvert_exporter": "python",
   "pygments_lexer": "ipython3",
   "version": "3.6.4"
  }
 },
 "nbformat": 4,
 "nbformat_minor": 2
}
